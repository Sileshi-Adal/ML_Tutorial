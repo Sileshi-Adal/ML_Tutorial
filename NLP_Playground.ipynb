{
 "cells": [
  {
   "cell_type": "code",
   "execution_count": 3,
   "metadata": {},
   "outputs": [
    {
     "name": "stdout",
     "output_type": "stream",
     "text": [
      "['and', 'document', 'first', 'is', 'one', 'second', 'the', 'third', 'this']\n",
      "[[0 1 1 1 0 0 1 0 1]\n",
      " [0 2 0 1 0 1 1 0 1]\n",
      " [1 0 0 1 1 0 1 1 1]\n",
      " [0 1 1 1 0 0 1 0 1]]\n"
     ]
    }
   ],
   "source": [
    "from sklearn.feature_extraction.text import CountVectorizer\n",
    "from nltk.tokenize import sent_tokenize\n",
    "\n",
    "text = 'This is the first document. This document is the second document. And this is the third one. Is this the first document?'\n",
    "corpus = sent_tokenize(text)\n",
    "\n",
    "vectorizer = CountVectorizer()\n",
    "X = vectorizer.fit_transform(corpus)\n",
    "print(vectorizer.get_feature_names())\n",
    "print(X.toarray())  "
   ]
  },
  {
   "cell_type": "code",
   "execution_count": 4,
   "metadata": {},
   "outputs": [
    {
     "name": "stdout",
     "output_type": "stream",
     "text": [
      "['This is the first document.', 'This document is the second document.', 'And this is the third one.', 'Is this the first document?']\n"
     ]
    }
   ],
   "source": [
    "print(corpus)"
   ]
  },
  {
   "cell_type": "code",
   "execution_count": 5,
   "metadata": {},
   "outputs": [
    {
     "name": "stdout",
     "output_type": "stream",
     "text": [
      "[['Time', 'User full name', 'Affected user', 'Event context', 'Component', 'Event name', 'Description', 'Origin', 'IP address'], ['27/10/19, 20:35', 'Alex Jung', 'Alex Jung', 'Course: CS-EJ3211 - Machine Learning with Python, 09.09.2019-13.12.2019', 'Logs', 'Log report viewed', \"The user with id '8257' viewed the log report for the course with id '26254'.\", 'web', '212.149.220.203'], ['27/10/19, 20:35', 'Alex Jung', '-', 'Course: CS-EJ3211 - Machine Learning with Python, 09.09.2019-13.12.2019', 'System', 'Course viewed', \"The user with id '8257' viewed the course with id '26254'.\", 'web', '212.149.220.203']]\n"
     ]
    }
   ],
   "source": [
    "import csv\n",
    "with open('AlexJung.csv') as f:\n",
    "    reader = csv.reader(f)\n",
    "    your_list = list(reader)\n",
    "\n",
    "print(your_list[:3])"
   ]
  },
  {
   "cell_type": "code",
   "execution_count": null,
   "metadata": {},
   "outputs": [],
   "source": []
  }
 ],
 "metadata": {
  "kernelspec": {
   "display_name": "Python 3",
   "language": "python",
   "name": "python3"
  },
  "language_info": {
   "codemirror_mode": {
    "name": "ipython",
    "version": 3
   },
   "file_extension": ".py",
   "mimetype": "text/x-python",
   "name": "python",
   "nbconvert_exporter": "python",
   "pygments_lexer": "ipython3",
   "version": "3.7.4"
  }
 },
 "nbformat": 4,
 "nbformat_minor": 2
}
