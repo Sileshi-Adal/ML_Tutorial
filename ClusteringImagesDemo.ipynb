{
 "cells": [
  {
   "cell_type": "code",
   "execution_count": 2,
   "metadata": {},
   "outputs": [],
   "source": [
    "from skimage import io\n",
    "dog = io.imread(\"Dog.png\")\n",
    "dog = dog[:50,:50,:]"
   ]
  },
  {
   "cell_type": "code",
   "execution_count": 3,
   "metadata": {},
   "outputs": [
    {
     "name": "stdout",
     "output_type": "stream",
     "text": [
      "(50, 50, 4)\n"
     ]
    }
   ],
   "source": [
    "print(dog.shape)"
   ]
  },
  {
   "cell_type": "code",
   "execution_count": 4,
   "metadata": {},
   "outputs": [],
   "source": [
    "from sklearn.cluster import KMeans\n",
    "import numpy as np\n",
    "dog = dog.reshape(-1,4)\n",
    "kmeans = KMeans(n_clusters=4, random_state=0).fit(dog)"
   ]
  },
  {
   "cell_type": "code",
   "execution_count": 5,
   "metadata": {},
   "outputs": [],
   "source": [
    "forback=kmeans.predict(dog)"
   ]
  },
  {
   "cell_type": "code",
   "execution_count": 6,
   "metadata": {},
   "outputs": [
    {
     "data": {
      "text/plain": [
       "4276"
      ]
     },
     "execution_count": 6,
     "metadata": {},
     "output_type": "execute_result"
    }
   ],
   "source": [
    "sum(forback)"
   ]
  },
  {
   "cell_type": "code",
   "execution_count": 10,
   "metadata": {},
   "outputs": [
    {
     "data": {
      "image/png": "[encoded data removed]",
      "text/plain": [
       "<Figure size 432x288 with 1 Axes>"
      ]
     },
     "metadata": {
      "needs_background": "light"
     },
     "output_type": "display_data"
    }
   ],
   "source": [
    "import matplotlib.pyplot as plt\n",
    "import matplotlib.image as mpimg\n",
    "\n",
    "masked_image = 0*dog \n",
    "masked_image[forback==3,:] = dog[forback==3,:]\n",
    "masked_image = masked_image.reshape(50,50,4)\n",
    "\n",
    "plt.imshow(masked_image)\n",
    "plt.show()"
   ]
  },
  {
   "cell_type": "code",
   "execution_count": 8,
   "metadata": {},
   "outputs": [],
   "source": [
    "from sklearn.mixture import GaussianMixture\n",
    "from scipy.stats import multivariate_normal # Multivariate normal random variable\n",
    "\n",
    "\n",
    "# the following are helper functions to compute, for each data piont, the degrees of belonging to various clusters for each data point \n",
    "\n",
    "def belonging_num(data_point, mean_point, covariance_matrix, coefficient_number):\n",
    "    belonging_num = coefficient_number*multivariate_normal.pdf(data_point, mean_point, covariance_matrix)\n",
    "    return belonging_num\n",
    "\n",
    "# helper function for computing the denominator of (EqDoB)\n",
    "def belonging_den(data_point, means, covariances, coefficients, k):\n",
    "    belonging_all=np.sum([belonging_num(data_point, means[f], covariances[f], coefficients[f]) for f in range(k)])\n",
    "    return belonging_all\n",
    "\n",
    "def update_degrees_of_belonging(data, means, covariances,coefficients,k): \n",
    "    cluster_vectors=np.zeros((k,data.shape[0]))   \n",
    "    for i in range(data.shape[0]):\n",
    "        belonging_all = belonging_den(data[i], means, covariances, coefficients, k)\n",
    "        for t in range(k):\n",
    "            cluster_vectors[t,i]=belonging_num(data[i], means[t], covariances[t], coefficients[t])/belonging_all\n",
    "    return cluster_vectors\n",
    "\n",
    "\n",
    "k = 2\n",
    "gmm = GaussianMixture(n_components = k, max_iter = 10).fit(dog)\n",
    "\n",
    "cluster_vectors = update_degrees_of_belonging(dog, gmm.means_, gmm.covariances_, gmm.weights_, k)\n",
    "\n"
   ]
  },
  {
   "cell_type": "code",
   "execution_count": 9,
   "metadata": {},
   "outputs": [
    {
     "name": "stdout",
     "output_type": "stream",
     "text": [
      "(2, 2500)\n"
     ]
    }
   ],
   "source": [
    "print(cluster_vectors.shape)"
   ]
  },
  {
   "cell_type": "code",
   "execution_count": 11,
   "metadata": {},
   "outputs": [
    {
     "data": {
      "text/plain": [
       "array([[1.00000000e+00, 1.00000000e+00, 9.25025147e-06, ...,\n",
       "        1.00000000e+00, 1.00000000e+00, 1.00000000e+00],\n",
       "       [0.00000000e+00, 0.00000000e+00, 9.99990750e-01, ...,\n",
       "        0.00000000e+00, 0.00000000e+00, 0.00000000e+00]])"
      ]
     },
     "execution_count": 11,
     "metadata": {},
     "output_type": "execute_result"
    }
   ],
   "source": [
    "cluster_vectors[:10,:]"
   ]
  },
  {
   "cell_type": "code",
   "execution_count": 14,
   "metadata": {},
   "outputs": [
    {
     "data": {
      "text/plain": [
       "array([[1.00000000e+00, 0.00000000e+00],\n",
       "       [1.00000000e+00, 0.00000000e+00],\n",
       "       [9.25025147e-06, 9.99990750e-01],\n",
       "       ...,\n",
       "       [1.00000000e+00, 0.00000000e+00],\n",
       "       [1.00000000e+00, 0.00000000e+00],\n",
       "       [1.00000000e+00, 0.00000000e+00]])"
      ]
     },
     "execution_count": 14,
     "metadata": {},
     "output_type": "execute_result"
    }
   ],
   "source": [
    "cluster_vectors.T[:,:10]"
   ]
  },
  {
   "cell_type": "code",
   "execution_count": null,
   "metadata": {},
   "outputs": [],
   "source": []
  }
 ],
 "metadata": {
  "kernelspec": {
   "display_name": "Python 3",
   "language": "python",
   "name": "python3"
  },
  "language_info": {
   "codemirror_mode": {
    "name": "ipython",
    "version": 3
   },
   "file_extension": ".py",
   "mimetype": "text/x-python",
   "name": "python",
   "nbconvert_exporter": "python",
   "pygments_lexer": "ipython3",
   "version": "3.7.4"
  }
 },
 "nbformat": 4,
 "nbformat_minor": 2
}
