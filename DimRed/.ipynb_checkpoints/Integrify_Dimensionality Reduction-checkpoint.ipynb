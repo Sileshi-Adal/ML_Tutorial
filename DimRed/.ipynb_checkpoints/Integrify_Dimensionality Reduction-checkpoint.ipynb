{
 "cells": [
  {
   "cell_type": "markdown",
   "metadata": {
    "nbgrader": {
     "grade": false,
     "grade_id": "cell-50a11b583482297d",
     "locked": true,
     "schema_version": 3,
     "solution": false
    }
   },
   "source": [
    "# Dimensionality Reduction\n",
    "\n",
    "Machine learning applications often involve high-dimensional data. Consider a $1000 \\times 1000$ pixel image. If we stack the intensities of pixels into a vector, we obtain a vector of length $10^6$. In this round, we study dimensionality reduction methods that transform long feature vectors to shorter feature vectors which retain most of the relevant information contained in the raw long vectors. Such dimensionality reduction is useful for at least three reasons: \n",
    "\n",
    "- Shorter feature vectors typically imply less computation. \n",
    "- Shorter (but informative) feature vectors ensure good generalization of ML methods from training data to new data points. Using very long feature vectors bears the risk of overfitting the training data. \n",
    "- Transforming long data point vectors to vectors of length 2 (or 3) allows to visualize data points in a scatter plot.\n",
    "\n",
    "One of the most popular methods for dimensionality reduction is **principal component analysis** (PCA). PCA aims at learning a linear transformation (matrix) $\\mathbf{W}$ which maps the raw (long) feature vector $\\mathbf{z}$ to a new (short) feature vector $\\mathbf{x} = \\mathbf{W} \\mathbf{z}$. The aim of PCA is to choose the matrix $\\mathbf{W}$ such that it is possible to reconstruct $\\mathbf{z}$ from $\\mathbf{x}$ with minimum reconstruction error. "
   ]
  },
  {
   "cell_type": "markdown",
   "metadata": {
    "nbgrader": {
     "grade": false,
     "grade_id": "cell-23dd358e94895c83",
     "locked": true,
     "schema_version": 3,
     "solution": false
    }
   },
   "source": [
    "## Learning goals\n",
    "\n",
    "After this round, you should \n",
    "\n",
    "- understand the basic idea behind dimensionality reduction. \n",
    "- be able to implement PCA using Python libraries. \n",
    "- understand the trade-off between amount of dimensionality reduction and information loss. \n",
    "- be able to combine PCA with a supervised ML method such as linear regression. "
   ]
  },
  {
   "cell_type": "markdown",
   "metadata": {
    "nbgrader": {
     "grade": false,
     "grade_id": "cell-9c8204a98447db2b",
     "locked": true,
     "schema_version": 3,
     "solution": false
    }
   },
   "source": [
    "## Relevant Sections in [Course Book](https://arxiv.org/abs/1805.05052)\n",
    "\n",
    "Chapter 9 of the [Course Book](https://arxiv.org/abs/1805.05052)  - Dimensionality Reduction.\n",
    "\n",
    "\n",
    "## Additional Material  \n",
    "\n",
    "* [video lecture](https://www.youtube.com/watch?v=Zbr5hyJNGCs) of Prof. Andrew Ng on dimensionality reduction \n",
    "* [video lecture](https://www.youtube.com/watch?v=cnCzY5M3txk) of Prof. Andrew Ng on dim. red. for data visualization \n",
    "* [video lecture](https://www.youtube.com/watch?v=T-B8muDvzu0) of Prof. Andrew Ng on principal component analysis\n",
    "* https://stats.stackexchange.com/questions/2691/making-sense-of-principal-component-analysis-eigenvectors-eigenvalues"
   ]
  },
  {
   "cell_type": "markdown",
   "metadata": {
    "nbgrader": {
     "grade": false,
     "grade_id": "cell-b119cb801fe9fd35",
     "locked": true,
     "schema_version": 3,
     "solution": false
    }
   },
   "source": [
    "## Bananas and Apples\n",
    "\n",
    "<a id=\"data\"></a>\n",
    "Consider a dataset containing $m=30$ images of apples and bananas: \n",
    "\n",
    "* 15 images of apples stored in the files named `1.jpg` to `15.jpg`\n",
    "* 15 images of bananas stored in the files named `16.jpg` to `30.jpg`\n",
    "\n",
    "The files contain color images, but for our purposes we convert them to grayscale images. We can represent each pixel of a grayscale image by a number between 0 (black) and 255 (white). The size of the images is $50\\times50$ pixels. Thus, we can represent each fruit image by the \"raw\" data vector $\\mathbf{z} =\\big(z_{1},\\ldots,z_{J}\\big)^{T} \\in \\mathbb{R}^{2500}$ whose $j$th entry $z_{j}$ is the grayscale level of the $j$th pixel. "
   ]
  },
  {
   "cell_type": "markdown",
   "metadata": {
    "nbgrader": {
     "grade": false,
     "grade_id": "cell-4da09c247a436939",
     "locked": true,
     "schema_version": 3,
     "solution": false
    }
   },
   "source": [
    "<a id='handsondata'></a>\n",
    "<div class=\" alert alert-info\">\n",
    "    <b>Demo.</b> Loading the Data. \n",
    "   \n",
    "    \n",
    "The following code block loads the images, converts them into grayscale images and stores them in the matrix $\\mathbf{Z} \\in \\mathbb{R}^{30 \\times 2500}$ whose $i$th row $\\mathbf{z}^{(i)} \\in \\mathbb{R}^{2500}$ contains the grayscale intensities for the $i$th image. The first three apple images and the first three banana images are displayed.\n",
    "\n",
    " </div>"
   ]
  },
  {
   "cell_type": "code",
   "execution_count": 2,
   "metadata": {
    "nbgrader": {
     "grade": false,
     "grade_id": "importPIL",
     "locked": true,
     "schema_version": 3,
     "solution": false
    }
   },
   "outputs": [],
   "source": [
    "# import required libraries (packages) for this exercise\n",
    "from PIL import Image\n",
    "import matplotlib.pyplot as plt\n",
    "import numpy as np"
   ]
  },
  {
   "cell_type": "code",
   "execution_count": 3,
   "metadata": {
    "nbgrader": {
     "grade": false,
     "grade_id": "cell-5cfd1c8afd6117c0",
     "locked": true,
     "schema_version": 3,
     "solution": false
    }
   },
   "outputs": [
    {
     "ename": "FileNotFoundError",
     "evalue": "[Errno 2] No such file or directory: '../../data/fruits/1.jpg'",
     "output_type": "error",
     "traceback": [
      "\u001b[0;31m---------------------------------------------------------------------------\u001b[0m",
      "\u001b[0;31mFileNotFoundError\u001b[0m                         Traceback (most recent call last)",
      "\u001b[0;32m<ipython-input-3-fa648257aeea>\u001b[0m in \u001b[0;36m<module>\u001b[0;34m\u001b[0m\n\u001b[1;32m      7\u001b[0m     \u001b[0;32mtry\u001b[0m\u001b[0;34m:\u001b[0m\u001b[0;34m\u001b[0m\u001b[0;34m\u001b[0m\u001b[0m\n\u001b[0;32m----> 8\u001b[0;31m         \u001b[0mimg\u001b[0m \u001b[0;34m=\u001b[0m \u001b[0mImage\u001b[0m\u001b[0;34m.\u001b[0m\u001b[0mopen\u001b[0m\u001b[0;34m(\u001b[0m\u001b[0;34m'/coursedata/fruits/%s.jpg'\u001b[0m\u001b[0;34m%\u001b[0m\u001b[0;34m(\u001b[0m\u001b[0mstr\u001b[0m\u001b[0;34m(\u001b[0m\u001b[0mi\u001b[0m\u001b[0;34m)\u001b[0m\u001b[0;34m)\u001b[0m\u001b[0;34m)\u001b[0m\u001b[0;34m.\u001b[0m\u001b[0mconvert\u001b[0m\u001b[0;34m(\u001b[0m\u001b[0;34m'L'\u001b[0m\u001b[0;34m)\u001b[0m \u001b[0;31m# read in image from jpg file\u001b[0m\u001b[0;34m\u001b[0m\u001b[0;34m\u001b[0m\u001b[0m\n\u001b[0m\u001b[1;32m      9\u001b[0m     \u001b[0;32mexcept\u001b[0m\u001b[0;34m:\u001b[0m\u001b[0;34m\u001b[0m\u001b[0;34m\u001b[0m\u001b[0m\n",
      "\u001b[0;32m~/anaconda3/lib/python3.7/site-packages/PIL/Image.py\u001b[0m in \u001b[0;36mopen\u001b[0;34m(fp, mode)\u001b[0m\n\u001b[1;32m   2765\u001b[0m     \u001b[0;32mif\u001b[0m \u001b[0mfilename\u001b[0m\u001b[0;34m:\u001b[0m\u001b[0;34m\u001b[0m\u001b[0;34m\u001b[0m\u001b[0m\n\u001b[0;32m-> 2766\u001b[0;31m         \u001b[0mfp\u001b[0m \u001b[0;34m=\u001b[0m \u001b[0mbuiltins\u001b[0m\u001b[0;34m.\u001b[0m\u001b[0mopen\u001b[0m\u001b[0;34m(\u001b[0m\u001b[0mfilename\u001b[0m\u001b[0;34m,\u001b[0m \u001b[0;34m\"rb\"\u001b[0m\u001b[0;34m)\u001b[0m\u001b[0;34m\u001b[0m\u001b[0;34m\u001b[0m\u001b[0m\n\u001b[0m\u001b[1;32m   2767\u001b[0m         \u001b[0mexclusive_fp\u001b[0m \u001b[0;34m=\u001b[0m \u001b[0;32mTrue\u001b[0m\u001b[0;34m\u001b[0m\u001b[0;34m\u001b[0m\u001b[0m\n",
      "\u001b[0;31mFileNotFoundError\u001b[0m: [Errno 2] No such file or directory: '/coursedata/fruits/1.jpg'",
      "\nDuring handling of the above exception, another exception occurred:\n",
      "\u001b[0;31mFileNotFoundError\u001b[0m                         Traceback (most recent call last)",
      "\u001b[0;32m<ipython-input-3-fa648257aeea>\u001b[0m in \u001b[0;36m<module>\u001b[0;34m\u001b[0m\n\u001b[1;32m      8\u001b[0m         \u001b[0mimg\u001b[0m \u001b[0;34m=\u001b[0m \u001b[0mImage\u001b[0m\u001b[0;34m.\u001b[0m\u001b[0mopen\u001b[0m\u001b[0;34m(\u001b[0m\u001b[0;34m'/coursedata/fruits/%s.jpg'\u001b[0m\u001b[0;34m%\u001b[0m\u001b[0;34m(\u001b[0m\u001b[0mstr\u001b[0m\u001b[0;34m(\u001b[0m\u001b[0mi\u001b[0m\u001b[0;34m)\u001b[0m\u001b[0;34m)\u001b[0m\u001b[0;34m)\u001b[0m\u001b[0;34m.\u001b[0m\u001b[0mconvert\u001b[0m\u001b[0;34m(\u001b[0m\u001b[0;34m'L'\u001b[0m\u001b[0;34m)\u001b[0m \u001b[0;31m# read in image from jpg file\u001b[0m\u001b[0;34m\u001b[0m\u001b[0;34m\u001b[0m\u001b[0m\n\u001b[1;32m      9\u001b[0m     \u001b[0;32mexcept\u001b[0m\u001b[0;34m:\u001b[0m\u001b[0;34m\u001b[0m\u001b[0;34m\u001b[0m\u001b[0m\n\u001b[0;32m---> 10\u001b[0;31m         \u001b[0mimg\u001b[0m \u001b[0;34m=\u001b[0m \u001b[0mImage\u001b[0m\u001b[0;34m.\u001b[0m\u001b[0mopen\u001b[0m\u001b[0;34m(\u001b[0m\u001b[0;34m'../../data/fruits/%s.jpg'\u001b[0m\u001b[0;34m%\u001b[0m\u001b[0;34m(\u001b[0m\u001b[0mstr\u001b[0m\u001b[0;34m(\u001b[0m\u001b[0mi\u001b[0m\u001b[0;34m)\u001b[0m\u001b[0;34m)\u001b[0m\u001b[0;34m)\u001b[0m\u001b[0;34m.\u001b[0m\u001b[0mconvert\u001b[0m\u001b[0;34m(\u001b[0m\u001b[0;34m'L'\u001b[0m\u001b[0;34m)\u001b[0m \u001b[0;31m# read if you are doing exercise locally\u001b[0m\u001b[0;34m\u001b[0m\u001b[0;34m\u001b[0m\u001b[0m\n\u001b[0m\u001b[1;32m     11\u001b[0m     \u001b[0mdataset\u001b[0m\u001b[0;34m[\u001b[0m\u001b[0mi\u001b[0m\u001b[0;34m-\u001b[0m\u001b[0;36m1\u001b[0m\u001b[0;34m]\u001b[0m \u001b[0;34m=\u001b[0m \u001b[0mnp\u001b[0m\u001b[0;34m.\u001b[0m\u001b[0marray\u001b[0m\u001b[0;34m(\u001b[0m\u001b[0mimg\u001b[0m\u001b[0;34m,\u001b[0m\u001b[0mdtype\u001b[0m\u001b[0;34m=\u001b[0m\u001b[0mnp\u001b[0m\u001b[0;34m.\u001b[0m\u001b[0muint8\u001b[0m\u001b[0;34m)\u001b[0m             \u001b[0;31m# convert image to numpy array with greyscale values\u001b[0m\u001b[0;34m\u001b[0m\u001b[0;34m\u001b[0m\u001b[0m\n\u001b[1;32m     12\u001b[0m \u001b[0;34m\u001b[0m\u001b[0m\n",
      "\u001b[0;32m~/anaconda3/lib/python3.7/site-packages/PIL/Image.py\u001b[0m in \u001b[0;36mopen\u001b[0;34m(fp, mode)\u001b[0m\n\u001b[1;32m   2764\u001b[0m \u001b[0;34m\u001b[0m\u001b[0m\n\u001b[1;32m   2765\u001b[0m     \u001b[0;32mif\u001b[0m \u001b[0mfilename\u001b[0m\u001b[0;34m:\u001b[0m\u001b[0;34m\u001b[0m\u001b[0;34m\u001b[0m\u001b[0m\n\u001b[0;32m-> 2766\u001b[0;31m         \u001b[0mfp\u001b[0m \u001b[0;34m=\u001b[0m \u001b[0mbuiltins\u001b[0m\u001b[0;34m.\u001b[0m\u001b[0mopen\u001b[0m\u001b[0;34m(\u001b[0m\u001b[0mfilename\u001b[0m\u001b[0;34m,\u001b[0m \u001b[0;34m\"rb\"\u001b[0m\u001b[0;34m)\u001b[0m\u001b[0;34m\u001b[0m\u001b[0;34m\u001b[0m\u001b[0m\n\u001b[0m\u001b[1;32m   2767\u001b[0m         \u001b[0mexclusive_fp\u001b[0m \u001b[0;34m=\u001b[0m \u001b[0;32mTrue\u001b[0m\u001b[0;34m\u001b[0m\u001b[0;34m\u001b[0m\u001b[0m\n\u001b[1;32m   2768\u001b[0m \u001b[0;34m\u001b[0m\u001b[0m\n",
      "\u001b[0;31mFileNotFoundError\u001b[0m: [Errno 2] No such file or directory: '../../data/fruits/1.jpg'"
     ]
    }
   ],
   "source": [
    "m = 30 # number of images \n",
    "dataset = np.zeros((m,50,50),dtype=np.uint8)   # create numpy array for images and fill with zeros \n",
    "D = 50*50  # length of raw feature vectors \n",
    "\n",
    "for i in range(1,m+1):\n",
    "    # with convert('L') we convert the images to grayscale\n",
    "    try:\n",
    "        img = Image.open('/coursedata/fruits/%s.jpg'%(str(i))).convert('L') # read in image from jpg file\n",
    "    except:\n",
    "        img = Image.open('../../data/fruits/%s.jpg'%(str(i))).convert('L') # read if you are doing exercise locally\n",
    "    dataset[i-1] = np.array(img,dtype=np.uint8)             # convert image to numpy array with greyscale values\n",
    "    \n",
    "\n",
    "\n",
    "\n",
    "Z = np.reshape(dataset,(m,-1))  # reshape the 50 x 50 pixels into a long numpy array of shape (2500,1)\n",
    "print(\"The shape of the datamatrix Z is\", Z.shape) \n",
    "\n",
    "# display first three apple images (fruits1.jpg,fruits2.jpg,fruits3.jpg) \n",
    "# and first three banana images (fruits16.jpg,fruits17.jpg,fruits18.jpg)\n",
    "\n",
    "fig,ax = plt.subplots(3,2,figsize=(10,10),gridspec_kw = {'wspace':0, 'hspace':0})\n",
    "for i in range(3):\n",
    "    for j in range(2):\n",
    "        bitmap = Z[i+(15*j),:] \n",
    "        bitmap = np.reshape(bitmap,(50,50))\n",
    "      #  ax[i,j].imshow(dataset[i+(15*j)], cmap='gray')\n",
    "        ax[i,j].imshow(bitmap, cmap='gray')\n",
    "        ax[i,j].axis('off')\n",
    "plt.show()"
   ]
  },
  {
   "cell_type": "markdown",
   "metadata": {
    "nbgrader": {
     "grade": false,
     "grade_id": "cell-1ce2ebc346939f4b",
     "locked": true,
     "schema_version": 3,
     "solution": false
    }
   },
   "source": [
    "## Principal Component Analysis\n",
    "<a id=\"Q1\"></a>\n",
    "\n",
    "Each fruit image is represented by the raw data vector  $\\mathbf{z}^{(i)} \\in \\mathbb{R}^{D}$, which contains the grayscale values for each of the $D=50^{2}=2500$ pixels. The aim of PCA is to find a compression matrix $\\mathbf{W} \\in \\mathbb{R}^{n \\times D}$, with $n \\ll D$, that transforms the (long) data vector $\\mathbf{z}^{(i)} \\in \\mathbb{R}^{D}$ to a short feature vector $\\mathbf{x}^{(i)} \\in \\mathbb{R}^{n}$ via\n",
    "\n",
    "<a id=\"eq1\"></a>\n",
    "\\begin{equation}\n",
    "    \\mathbf{x}^{(i)}=\\mathbf{W} \\mathbf{z}^{(i)}. \n",
    "    \\tag{1} \n",
    "    \\label{eq:1}\n",
    "\\end{equation}\n",
    "\n",
    "We can quantify the loss of information incurred by replacing $\\mathbf{z}^{(i)}$ with $\\mathbf{x}^{(i)}$ by the smallest possible reconstruction error achieved by a linear reconstruction method $\\widehat{\\mathbf{z}}^{(i)} = \\mathbf{R} x^{(i)}$ with some matrix $\\mathbf{R} \\in \\mathbb{R}^{D \\times n}$. The reconstruction error is given by: \n",
    "\n",
    "<a id=\"eq2\"></a>\n",
    "\\begin{align}\n",
    " \\mathcal{E}(\\mathbf{W}) & = \\min_{\\mathbf{R} \\in \\mathbb{R}^{D \\times n}} (1/m) \\sum_{i=1}^{m} \\| \\mathbf{z}^{(i)} - \\mathbf{R} \\mathbf{x}^{(i)} \\|^{2}  \\nonumber \\\\ \n",
    " & \\stackrel{\\eqref{eq:1}}{=} \\min_{\\mathbf{R} \\in \\mathbb{R}^{D \\times n}} (1/m) \\sum_{i=1}^{m} \\| \\mathbf{z}^{(i)} - \\mathbf{R} \\mathbf{W} \\mathbf{z}^{(i)} \\|^{2}.\n",
    " \\label{eq:2}\n",
    " \\tag{2}\n",
    "\\end{align} \n",
    "\n",
    "Note that the optimal reconstruction matrix $\\mathbf{R}$ (which achieves the minimum in \\eqref{eq:2}) depends on the given compression matrix $\\mathbf{W}$. However, we are not interested in the optimal reconstruction matrix itself but only in the associated minimum reconstruction error $\\mathcal{E}(\\mathbf{W})$. \n",
    "\n",
    "To find the compression matrix $\\mathbf{W}$ which minimizes the reconstruction error $\\mathcal{E}(\\mathbf{W})$, we use the **eigenvalue decomposition** of the sample covariance matrix\n",
    "\n",
    "<a id=\"eq3\"></a>\n",
    "\\begin{equation}\n",
    "\\mathbf{Q} =(1/m) \\mathbf{Z}^{T} \\mathbf{Z} \\mbox{ with the data matrix } \\mathbf{Z}=\\big(\\mathbf{z}^{(1)},\\ldots,\\mathbf{z}^{(m)} \\big)^{T} \\in \\mathbb{R}^{m \\times D}. \n",
    "\\label{eq:3}\n",
    "\\tag{3}\n",
    "\\end{equation}\n",
    "\n",
    "Since the sample covariance matrix $\\mathbf{Q}$ is [positive semi-definite](https://en.wikipedia.org/wiki/Definiteness_of_a_matrix), it has an eigenvalue decomposition of the form \n",
    "\n",
    "\\begin{equation}\n",
    "\\mathbf{Q} = \\big( \\mathbf{u}^{(1)},\\ldots,\\mathbf{u}^{(D)}\\big) {\\rm diag} \\{\\lambda^{(1)},\\ldots,\\lambda^{(D)} \\} \n",
    " \\big( \\mathbf{u}^{(1)},\\ldots,\\mathbf{u}^{(D)}\\big)^{T}.\n",
    "\\end{equation} \n",
    "\n",
    "Here, the orthonormal vectors $\\mathbf{u}^{(r)}$ are eigenvectors of $\\mathbf{Q}$ which correspond to the decreasingly ordered eigenvalues $\\lambda^{(1)} \\geq \\lambda^{(2)} \\geq \\ldots \\geq \\lambda^{(D)}$ of $\\mathbf{Q}$. \n",
    "\n",
    "It can be shown that the reconstruction error \\eqref{eq:2} is minimal for the compression matrix \n",
    "\n",
    "<a id=\"eq4\"></a>\n",
    "\\begin{equation}\n",
    "\\label{eq:4}\n",
    "\\tag{4}\n",
    "\\mathbf{W}_{\\rm PCA} = \\big( \\mathbf{u}^{(1)},\\ldots,\\mathbf{u}^{(n)} \\big)^{T},\\in \\mathbb{R}^{n \\times D}, \n",
    "\\end{equation}\n",
    "\n",
    "i.e., $\\mathcal{E}(\\mathbf{W}_{\\rm PCA}) = \\min_{\\mathbf{W} \\in \\mathbb{R}^{n \\times D}} \\mathcal{E}(\\mathbf{W})$. \n",
    "\n",
    "Note that the rows of $\\mathbf{W}_{\\rm PCA}$ are the eigenvectors $\\mathbf{u}^{(1)},\\ldots,\\mathbf{u}^{(n)}$ of $\\mathbf{Q}$ corresponding to the $n$ largest eigenvalues $\\lambda^{(1)},\\ldots,\\lambda^{(n)}$ of $\\mathbf{Q}$. Moreover, the minimum reconstruction error $\\mathcal{E}(\\mathbf{W}_{\\rm PCA})$ is achieved \n",
    "for the reconstruction matrix $\\mathbf{R} = \\mathbf{W}_{\\rm PCA}^{T}$ and given in terms of the eigenvalues of $\\mathbf{Q}$ as  \n",
    "\n",
    "<a id=\"eq5\"></a>\n",
    "\\begin{equation}\n",
    "\\label{eq:5}\n",
    "\\tag{5}\n",
    "\\mathcal{E}(\\mathbf{W}_{\\rm PCA}) = \\sum_{r = n+1}^{D} \\lambda^{(r)}. \n",
    "\\end{equation} \n",
    "\n",
    "When using the optimal compression matrix $\\mathbf{W}_{\\rm PCA}$, the entries of the transformed feature vector $\\mathbf{x} = \\mathbf{W}_{\\rm PCA} \\mathbf{z}$ are referred to as **principal components**. The first entry $x_{1}$ is the first principal component (PC), the second entry $x_{2}$ is the second PC and so on. "
   ]
  },
  {
   "cell_type": "markdown",
   "metadata": {
    "nbgrader": {
     "grade": false,
     "grade_id": "cell-0792063f0c3913c0",
     "locked": true,
     "schema_version": 3,
     "solution": false
    }
   },
   "source": [
    "<a id='ImplementPCA'></a>\n",
    "<div class=\" alert alert-info\">\n",
    "    <b>Demo.</b> Compute PCA. <br/>\n",
    "\n",
    "The code snippet below applies PCA to the data matrix $\\mathbf{Z}$ obtained from the fruit images. In particular, compute the optimal compression matrix `W_pca` for the specified number $n$ of PCs (the value of n is set in the code snippet below). \n",
    "The compression matrix is stored in the numpy array `W_pca` of shape (n,2500). Using the compression matrix, we compute the corresponding reconstruction error\n",
    "\\begin{equation}\n",
    "(1/m) \\sum_{i=1}^{m} \\big\\| \\mathbf{z}^{(i)} - \\mathbf{W}_{\\rm PCA}^{T} \\mathbf{x}^{(i)} \\big\\|^{2}_{2} =  \n",
    "(1/m) \\sum_{i=1}^{m} \\big\\| \\mathbf{z}^{(i)} - \\mathbf{W}_{\\rm PCA}^{T} \\mathbf{W}_{\\rm PCA} \\mathbf{z}^{(i)} \\big\\|^{2}_{2} \n",
    "\\end{equation} \n",
    "\n",
    "Hints: \n",
    "- use the Python class `PCA` from the library `sklearn.decomposition` to compute the optimal compression matrix $\\mathbf{W}_{\\rm pca}$ for the feature vectors (representing fruit images) in the columns of `Z`\n",
    "- the optimal compression matrix is available in the attribute `PCA.components_` \n",
    "- documentation: https://scikit-learn.org/stable/modules/generated/sklearn.decomposition.PCA.html\n",
    " \n",
    "\n",
    "</div>"
   ]
  },
  {
   "cell_type": "code",
   "execution_count": 4,
   "metadata": {
    "nbgrader": {
     "grade": false,
     "grade_id": "cell-3e96f85639fb5b97",
     "locked": false,
     "schema_version": 3,
     "solution": true
    }
   },
   "outputs": [
    {
     "ename": "NameError",
     "evalue": "name 'Z' is not defined",
     "output_type": "error",
     "traceback": [
      "\u001b[0;31m---------------------------------------------------------------------------\u001b[0m",
      "\u001b[0;31mNameError\u001b[0m                                 Traceback (most recent call last)",
      "\u001b[0;32m<ipython-input-4-03b35a721656>\u001b[0m in \u001b[0;36m<module>\u001b[0;34m\u001b[0m\n\u001b[1;32m      5\u001b[0m \u001b[0;34m\u001b[0m\u001b[0m\n\u001b[1;32m      6\u001b[0m \u001b[0mpca\u001b[0m \u001b[0;34m=\u001b[0m \u001b[0mPCA\u001b[0m\u001b[0;34m(\u001b[0m\u001b[0mn_components\u001b[0m \u001b[0;34m=\u001b[0m \u001b[0mn\u001b[0m\u001b[0;34m)\u001b[0m \u001b[0;31m# create the object\u001b[0m\u001b[0;34m\u001b[0m\u001b[0;34m\u001b[0m\u001b[0m\n\u001b[0;32m----> 7\u001b[0;31m \u001b[0mpca\u001b[0m\u001b[0;34m.\u001b[0m\u001b[0mfit\u001b[0m\u001b[0;34m(\u001b[0m\u001b[0mZ\u001b[0m\u001b[0;34m)\u001b[0m     \u001b[0;31m# compute optimal transform W_PCA\u001b[0m\u001b[0;34m\u001b[0m\u001b[0;34m\u001b[0m\u001b[0m\n\u001b[0m\u001b[1;32m      8\u001b[0m \u001b[0mW_pca\u001b[0m \u001b[0;34m=\u001b[0m \u001b[0mpca\u001b[0m\u001b[0;34m.\u001b[0m\u001b[0mcomponents_\u001b[0m\u001b[0;34m\u001b[0m\u001b[0;34m\u001b[0m\u001b[0m\n\u001b[1;32m      9\u001b[0m \u001b[0mX\u001b[0m \u001b[0;34m=\u001b[0m \u001b[0mnp\u001b[0m\u001b[0;34m.\u001b[0m\u001b[0mdot\u001b[0m\u001b[0;34m(\u001b[0m\u001b[0mZ\u001b[0m\u001b[0;34m,\u001b[0m\u001b[0mW_pca\u001b[0m\u001b[0;34m.\u001b[0m\u001b[0mT\u001b[0m\u001b[0;34m)\u001b[0m\u001b[0;34m\u001b[0m\u001b[0;34m\u001b[0m\u001b[0m\n",
      "\u001b[0;31mNameError\u001b[0m: name 'Z' is not defined"
     ]
    }
   ],
   "source": [
    "from sklearn.decomposition import PCA\n",
    "\n",
    "n = 10 #   nr of principal components\n",
    "\n",
    "\n",
    "pca = PCA(n_components = n) # create the object\n",
    "pca.fit(Z)     # compute optimal transform W_PCA\n",
    "W_pca = pca.components_\n",
    "X = np.dot(Z,W_pca.T)\n",
    "Z_hat = np.dot(X,W_pca)\n",
    "err_pca = np.mean((Z-Z_hat)**2)*D\n",
    "\n",
    "print(\"dimensions of Z_hat \",Z_hat.shape)\n",
    "print(\"dimensions of W_pca \",W_pca.shape)\n",
    "print(\"reconstruction error \",err_pca)"
   ]
  },
  {
   "cell_type": "code",
   "execution_count": 4,
   "metadata": {
    "nbgrader": {
     "grade": true,
     "grade_id": "cell-fe48a7f5675575ee",
     "locked": true,
     "points": 3,
     "schema_version": 3,
     "solution": false
    }
   },
   "outputs": [
    {
     "name": "stdout",
     "output_type": "stream",
     "text": [
      "Sanity checks passed!\n"
     ]
    }
   ],
   "source": [
    "import numpy as np\n",
    "from sklearn.decomposition import PCA\n",
    "\n",
    "assert W_pca.shape == (n, Z.shape[1]), \"Output matrix (W_pca) dimensions are wrong.\"\n",
    "\n",
    "### BEGIN HIDDEN TESTS\n",
    "t_pca = PCA(n_components = n) # create the object\n",
    "t_pca.fit(Z)     # compute optimal transform W_PCA\n",
    "t_W_pca = t_pca.components_\n",
    "t_X = np.dot(Z,t_W_pca.T)\n",
    "t_Z_hat = np.dot(t_X,t_W_pca)\n",
    "t_err_pca = np.mean((Z-t_Z_hat)**2)*D\n",
    "\n",
    "np.testing.assert_allclose(err_pca, t_err_pca, rtol=0.001, err_msg='err_pca has wrong value')\n",
    "\n",
    "### END HIDDEN TESTS\n",
    "\n",
    "print('Sanity checks passed!')"
   ]
  },
  {
   "cell_type": "markdown",
   "metadata": {
    "nbgrader": {
     "grade": false,
     "grade_id": "cell-e84eac83a215b2b4",
     "locked": true,
     "schema_version": 3,
     "solution": false
    }
   },
   "source": [
    "## Trading Compression Against Information Loss\n",
    "<a id=\"Q2\"></a>\n",
    "\n",
    "We now study the effect of using different numbers $n$ of PCs for the new feature vector $\\mathbf{x}$. In particular, we will observe a trade-off between amount of compression (which requires small $n$) and small loss of information and reconstruction error (which requires large $n$)."
   ]
  },
  {
   "cell_type": "markdown",
   "metadata": {
    "nbgrader": {
     "grade": false,
     "grade_id": "cell-1a63c986f3d58d4c",
     "locked": true,
     "schema_version": 3,
     "solution": false
    }
   },
   "source": [
    "<a id='reconstructionerror'></a>\n",
    "<div class=\" alert alert-warning\">\n",
    "    <b>Student Task.</b> Reconstruction Error vs. Number of PC. <br/> \n",
    "    \n",
    "Use the fruit image data `Z` and analyze how the reconstruction error of PCA changes with the number of PCs n used. In particular, apply PCA to the dataset `Z` for varying number of PCs $n=1,\\ldots,m$. For each choice for $n$, compute the corresponding reconstruction error (see ([5](#eq5))) and store it in the numpy array `err_pca` of shape (m,1). \n",
    "\n",
    "Hints:\n",
    "- Loop for $n = 1,2,...,m$ components.\n",
    "- For each value of $n$, compute the PCA matrix $W_{\\rm PCA}$ and compute the feature vectors $\\mathbf{x}^{(i)} = \\mathbf{W}_{\\rm PCA} \\mathbf{z}^{(i)}$ for $i=1,\\ldots,m$. \n",
    "- Compute the optimal reconstruction $\\widehat{\\mathbf{z}}^{(i)} = \\mathbf{W}_{\\rm PCA}^{T} \\mathbf{x}^{(i)}$. \n",
    "- Compute the reconstruction error $(1/m) \\sum_{i=1}^{m} \\big\\| \\mathbf{z}^{(i)} - \\widehat{\\mathbf{z}}^{(i)}\\big\\|^{2}_{2}$ \n",
    "- Store the reconstruction errors in the numpy array `err_pca`. The first entry should be the reonstruction error obtained for $n=1$. \n",
    "\n",
    "\n",
    "\n",
    "</div>"
   ]
  },
  {
   "cell_type": "code",
   "execution_count": 5,
   "metadata": {
    "nbgrader": {
     "grade": false,
     "grade_id": "cell-65dd9f2f576d010d",
     "locked": false,
     "schema_version": 3,
     "solution": true
    }
   },
   "outputs": [
    {
     "data": {
      "image/png": "[encoded data removed]",
      "text/plain": [
       "<Figure size 432x288 with 1 Axes>"
      ]
     },
     "metadata": {
      "needs_background": "light"
     },
     "output_type": "display_data"
    }
   ],
   "source": [
    "err_pca = np.zeros((m,1))\n",
    "\n",
    "for n_minus_1 in range(m):\n",
    "### STUDENT TASK ### \n",
    "# Compute the reconstruction error for PCA using n PCs and store it in err_pca[n-1]\n",
    "### BEGIN SOLUTION\n",
    "    pca = PCA(n_components=(n_minus_1+1)) \n",
    "    pca.fit(Z)\n",
    "    W_pca = pca.components_\n",
    "    X = np.dot(Z,W_pca.T)\n",
    "    Z_hat = np.dot(X,W_pca)\n",
    "    err_pca[n_minus_1] = np.mean(np.square(Z - Z_hat))*D\n",
    "### END SOLUTION\n",
    "    \n",
    "# plot the number of PCs vs the reconstruction error\n",
    "plt.plot([i + 1 for i in range(m)],err_pca)\n",
    "plt.xlabel('Number of PCs ($n$)')\n",
    "plt.ylabel(r'$\\mathcal{E}(\\mathbf{W}_{\\rm PCA})$')\n",
    "plt.title('Number of PCs vs the reconstruction error')\n",
    "plt.show()   "
   ]
  },
  {
   "cell_type": "code",
   "execution_count": 6,
   "metadata": {
    "nbgrader": {
     "grade": true,
     "grade_id": "cell-4c0ec1f5bc750139",
     "locked": true,
     "points": 3,
     "schema_version": 3,
     "solution": false
    }
   },
   "outputs": [
    {
     "name": "stdout",
     "output_type": "stream",
     "text": [
      "Sanity checks passed!\n"
     ]
    }
   ],
   "source": [
    "assert err_pca.shape == (m, 1), \"shape of err_pca is wrong.\"\n",
    "assert err_pca[0] > err_pca[m-1], \"values of err_pca are incorrect\"\n",
    "assert err_pca[0] > err_pca[1], \"values of err_pca are incorrect\"\n",
    "\n",
    "\n",
    "### BEGIN HIDDEN TESTS\n",
    "t_err_pca = np.zeros((m,1))\n",
    "for n_minus_1 in range(m):\n",
    "    t_pca = PCA(n_components=(n_minus_1+1)) \n",
    "    t_pca.fit(Z)\n",
    "    t_W_pca = t_pca.components_\n",
    "    t_X = np.dot(Z,t_W_pca.T)\n",
    "    t_Z_hat = np.dot(t_X,t_W_pca)\n",
    "    t_err_pca[n_minus_1] = np.mean(np.square(Z - t_Z_hat))*D\n",
    "\n",
    "np.testing.assert_allclose(err_pca, t_err_pca, rtol=0.01, err_msg='err_pca has wrong value')\n",
    "    \n",
    "### END HIDDEN TESTS\n",
    "\n",
    "print('Sanity checks passed!')"
   ]
  },
  {
   "cell_type": "markdown",
   "metadata": {
    "nbgrader": {
     "grade": false,
     "grade_id": "cell-45b5e1214d2b641c",
     "locked": true,
     "schema_version": 3,
     "solution": false
    }
   },
   "source": [
    "<a id='reconstructionerror'></a>\n",
    "<div class=\" alert alert-info\">\n",
    "    <b>Demo.</b> Reconstructions. <br/> \n",
    "    \n",
    "The code snippet below shows plots the reconstructions $\\widehat{\\mathbf{z}}^{(i)} = \\mathbf{R} \\mathbf{x}^{(i)}$ (using the optimal reconstruction matrix $\\mathbf{R} = \\mathbf{W}_{\\rm PCA}^{T}$) for number of PCs $n=1,5,10$. \n",
    "\n",
    "</div>"
   ]
  },
  {
   "cell_type": "code",
   "execution_count": 7,
   "metadata": {
    "nbgrader": {
     "grade": false,
     "grade_id": "cell-925684dea4eb902f",
     "locked": true,
     "schema_version": 3,
     "solution": false
    }
   },
   "outputs": [
    {
     "name": "stdout",
     "output_type": "stream",
     "text": [
      "1\n"
     ]
    },
    {
     "data": {
      "image/png": "[encoded data removed]",
      "text/plain": [
       "<Figure size 720x720 with 6 Axes>"
      ]
     },
     "metadata": {
      "needs_background": "light"
     },
     "output_type": "display_data"
    },
    {
     "name": "stdout",
     "output_type": "stream",
     "text": [
      "5\n"
     ]
    },
    {
     "data": {
      "image/png": "[encoded data removed]",
      "text/plain": [
       "<Figure size 720x720 with 6 Axes>"
      ]
     },
     "metadata": {
      "needs_background": "light"
     },
     "output_type": "display_data"
    },
    {
     "name": "stdout",
     "output_type": "stream",
     "text": [
      "10\n"
     ]
    },
    {
     "data": {
      "image/png": "[encoded data removed]",
      "text/plain": [
       "<Figure size 720x720 with 6 Axes>"
      ]
     },
     "metadata": {
      "needs_background": "light"
     },
     "output_type": "display_data"
    }
   ],
   "source": [
    "from matplotlib.lines import Line2D\n",
    "import matplotlib.gridspec as gridspec\n",
    "import warnings\n",
    "warnings.filterwarnings(\"ignore\")\n",
    "\n",
    "## Input:\n",
    "#  Z: Dataset\n",
    "#  n: number of dimensions\n",
    "#  m_pics: number of pics per class (Apple, Banana). Min 1, Max 15\n",
    "def plot_reconstruct(Z,n,m_pics=3):\n",
    "\n",
    "    # x=w*z\n",
    "    X_pca = np.matmul(W_pca[:n,:],Z[:,:,None])\n",
    "    # x_reversed=r*x\n",
    "    X_reversed = np.matmul(W_pca[:n,:].T, X_pca)[:,:,0]\n",
    "    \n",
    "    # Setup Figure size that scales with number of images\n",
    "    fig = plt.figure(figsize = (10,10))\n",
    "    \n",
    "    # Setup a (n_pics,2) grid of plots (images)\n",
    "    gs = gridspec.GridSpec(1, 2*m_pics)\n",
    "    gs.update(wspace=0.0, hspace=0.0)\n",
    "    for i in range(m_pics):\n",
    "        for j in range(0,2):\n",
    "            # Add a new subplot\n",
    "            ax = plt.subplot(gs[0,i+j*m_pics])\n",
    "            # Insert image data into the subplot\n",
    "            ax.imshow(np.reshape(X_reversed[i+(15*j)],(50,50)),cmap='gray',interpolation='nearest')\n",
    "            # Remove x- and y-axis from each plot\n",
    "            ax.set_axis_off()\n",
    "    \n",
    "    plt.subplot(gs[0,0]).set_title(\"Reconstructed images using %d PCs:\"%(n), size='large', y=1.08)\n",
    "    # Render the plot\n",
    "    plt.show()\n",
    "    \n",
    "pca = PCA(n_components = m) # create the object\n",
    "pca.fit(Z)     # compute optimal transform W_PCA\n",
    "W_pca = pca.components_\n",
    "    \n",
    "# The values of PCS n to plot for. You can change these to experiment\n",
    "num_com=[1,5,10]\n",
    "for n in num_com:\n",
    "    # If you want to print different amount of pictures, you can change the value of m_pics. (1-15)\n",
    "    print(n)\n",
    "    plot_reconstruct(Z,n,m_pics=3)"
   ]
  },
  {
   "cell_type": "markdown",
   "metadata": {
    "nbgrader": {
     "grade": false,
     "grade_id": "cell-4b57a2247992e427",
     "locked": true,
     "schema_version": 3,
     "solution": false
    }
   },
   "source": [
    "<a id='reconstructionerror'></a>\n",
    "<div class=\" alert alert-info\">\n",
    "    <b>Demo.</b> Principal Directions. <br/> \n",
    "    \n",
    "It is instructive to examine the rows $\\mathbf{u}^{(1)},\\mathbf{u}^{(2)}...,\\mathbf{u}^{(n)}$ of the optimal compression matrix $\\mathbf{W}_{\\rm PCA}$. These rows capture the most relevant information contained in the fruit image vectors $\\mathbf{z}^{(i)}$. These rows, which are the eigenvectors of the sample covariance matrix $\\mathbf{Q}$, are sometimes called \"principal directions\". The code snippet below plots the principal directions $\\mathbf{u}^{(1)}$, $\\mathbf{u}^{(5)}$, $\\mathbf{u}^{(10)}$, $\\mathbf{u}^{(15)}$ and $\\mathbf{u}^{(20)}$.\n",
    "</div>"
   ]
  },
  {
   "cell_type": "code",
   "execution_count": 8,
   "metadata": {
    "nbgrader": {
     "grade": false,
     "grade_id": "cell-090d1f05afe9bc56",
     "locked": true,
     "schema_version": 3,
     "solution": false
    }
   },
   "outputs": [
    {
     "data": {
      "image/png": "[encoded data removed]",
      "text/plain": [
       "<Figure size 1080x1080 with 5 Axes>"
      ]
     },
     "metadata": {
      "needs_background": "light"
     },
     "output_type": "display_data"
    }
   ],
   "source": [
    "def plot_princ_comp(W_pca):\n",
    "    fig,ax = plt.subplots(1,5,figsize=(15,15))\n",
    "    # select the PCs we are plotting\n",
    "    # You can change these to see what other components look like\n",
    "    plot_pd = [0,4,9,14,19]\n",
    "\n",
    "    for i in range(len(plot_pd)):\n",
    "        ax[i].imshow(np.reshape(W_pca[plot_pd[i]]*255,(50,50)),cmap='gray')\n",
    "        ax[i].set_title(\"Principal Direction %d\"%(plot_pd[i]+1))\n",
    "        # Remove x- and y-axis from each plot\n",
    "        ax[i].set_axis_off()\n",
    "    plt.show()\n",
    "\n",
    "plot_princ_comp(W_pca)"
   ]
  },
  {
   "cell_type": "markdown",
   "metadata": {
    "nbgrader": {
     "grade": false,
     "grade_id": "cell-44992b7e2e2296cb",
     "locked": true,
     "schema_version": 3,
     "solution": false
    }
   },
   "source": [
    "## PCA for Data Visualization\n",
    "<a id=\"Q3\"></a>\n",
    "\n",
    "One important application of PCA is data visualization. Indeed, using PCA with $n=2$ PCs, the resulting feature vectors $\\mathbf{x}^{(1)} = W_{\\rm PCA} \\mathbf{z}^{(1)}, \\ldots, \\mathbf{x}^{(m)} = W_{\\rm PCA} \\mathbf{z}^{(m)} \\in \\mathbb{R}^{2}$ can be visualized as a two-dimensional scatterplot whose x-axis represents the first PC $x_{1}^{(i)}$ and y-axis the second PC $x_{2}^{(i)}$."
   ]
  },
  {
   "cell_type": "markdown",
   "metadata": {
    "nbgrader": {
     "grade": false,
     "grade_id": "cell-69e64b9515573b41",
     "locked": true,
     "schema_version": 3,
     "solution": false
    }
   },
   "source": [
    "<a id='dataprojection'></a>\n",
    "<div class=\" alert alert-warning\">\n",
    "    <b>Student Task.</b> PCA with $n=2$.   <br/> \n",
    "    \n",
    "The fruit images are represented by long vectors $\\mathbf{z}^{(i)}$ of length $D=2500$. In order to represent these images in a scatter plot we can PCA with $n=2$ which results in feature vectors $\\mathbf{x}^{(i)} = \\mathbf{W}_{\\rm PCA} \\mathbf{x}^{(i)}$ of length $2$ which can be depicted in a scatter plot. Compute these feature vectors and store them in the numpy array `X_visual` of shape (m,2). \n",
    "\n",
    "</div>"
   ]
  },
  {
   "cell_type": "code",
   "execution_count": 9,
   "metadata": {
    "nbgrader": {
     "grade": false,
     "grade_id": "cell-fb23168b022ae6be",
     "locked": false,
     "schema_version": 3,
     "solution": true
    }
   },
   "outputs": [],
   "source": [
    "X_visual = np.zeros((m,2))\n",
    "\n",
    "### STUDENT TASK ### \n",
    "### BEGIN SOLUTION\n",
    "pca = PCA(n_components=2) \n",
    "pca.fit(Z)\n",
    "W_pca = pca.components_\n",
    "X_visual = np.dot(Z,W_pca.T)\n",
    "### END SOLUTION\n"
   ]
  },
  {
   "cell_type": "code",
   "execution_count": 10,
   "metadata": {
    "nbgrader": {
     "grade": true,
     "grade_id": "cell-3c93c11387e3c2b7",
     "locked": true,
     "points": 3,
     "schema_version": 3,
     "solution": false
    }
   },
   "outputs": [
    {
     "name": "stdout",
     "output_type": "stream",
     "text": [
      "Sanity checks passed!\n"
     ]
    }
   ],
   "source": [
    "assert X_visual.shape == (m, 2), \"shape of X_visual is wrong.\"\n",
    "\n",
    "\n",
    "### BEGIN HIDDEN TESTS\n",
    "t_pca = PCA(n_components=2) \n",
    "t_pca.fit(Z)\n",
    "t_W_pca = t_pca.components_\n",
    "t_X_visual = np.dot(Z,t_W_pca.T)\n",
    "np.testing.assert_allclose(t_X_visual, X_visual, rtol=0.001, err_msg='err_pca has wrong value')\n",
    "    \n",
    "### END HIDDEN TESTS\n",
    "\n",
    "print('Sanity checks passed!')"
   ]
  },
  {
   "cell_type": "markdown",
   "metadata": {
    "nbgrader": {
     "grade": false,
     "grade_id": "cell-6fa5af31e9012065",
     "locked": true,
     "schema_version": 3,
     "solution": false
    }
   },
   "source": [
    "<a id='dataprojection'></a>\n",
    "<div class=\" alert alert-info\">\n",
    "    <b>Demo.</b> Scatter Plots using Two PCs.   <br/> \n",
    "\n",
    "The following code visualizes the data as a scatter plot using either the first two PCs $x_{1}$, $x_{2}$ or using the 8th and 9th PCs $x_{8}$ and $x_{9}$. As we learned, using the first two PCs $x_{1}$ and $x_{2}$ as features results in a smaller reconstruction error compared to using PCs $x_{8}$, $x_{9}$. As expected, $x_{1}$ and $x_{2}$ contain more relevant information about the content of the images.\n",
    "\n",
    "</div>"
   ]
  },
  {
   "cell_type": "code",
   "execution_count": 11,
   "metadata": {
    "nbgrader": {
     "grade": false,
     "grade_id": "cell-0854759cfbcb921e",
     "locked": true,
     "schema_version": 3,
     "solution": false
    }
   },
   "outputs": [
    {
     "data": {
      "image/png": "[encoded data removed]",
      "text/plain": [
       "<Figure size 432x288 with 1 Axes>"
      ]
     },
     "metadata": {
      "needs_background": "light"
     },
     "output_type": "display_data"
    },
    {
     "data": {
      "image/png": "[encoded data removed]",
      "text/plain": [
       "<Figure size 432x288 with 1 Axes>"
      ]
     },
     "metadata": {
      "needs_background": "light"
     },
     "output_type": "display_data"
    }
   ],
   "source": [
    "pca = PCA(n_components=m) \n",
    "pca.fit(Z)\n",
    "W_pca = pca.components_\n",
    "X = np.dot(Z,W_pca.T)\n",
    "\n",
    "\n",
    "X_PC12 = X[:,[0,1]]\n",
    "X_PC89 =X[:,[7,8]]\n",
    "\n",
    "plt.rc('axes', labelsize=14)    # fontsize of the x and y labels\n",
    " \n",
    "plt.figure()\n",
    "plt.title('using first two PCs $x_{1}$ and $x_{2}$ as features')\n",
    "plt.scatter(X_PC12[:15,0],X_PC12[:15,1],c='r',marker='o',label='Apple')\n",
    "plt.scatter(X_PC12[15:,0],X_PC12[15:,1],c='y',marker='^',label='Banana')\n",
    "plt.legend()\n",
    "plt.xlabel('$x_{1}$')\n",
    "plt.ylabel('$x_{2}$')\n",
    "plt.show()\n",
    "    \n",
    "plt.figure()\n",
    "plt.title('using 8th and 9th PC as features')\n",
    "plt.scatter(X_PC89[:15,0],X_PC89[:15,1],c='r',marker='o',label='Apple')\n",
    "plt.scatter(X_PC89[15:,0],X_PC89[15:,1],c='y',marker='^',label='Banana')\n",
    "plt.legend()\n",
    "plt.xlabel('$x_{8}$')\n",
    "plt.ylabel('$x_{9}$')\n",
    "plt.show()"
   ]
  },
  {
   "cell_type": "markdown",
   "metadata": {
    "nbgrader": {
     "grade": false,
     "grade_id": "cell-b70e976f9acfca7f",
     "locked": true,
     "schema_version": 3,
     "solution": false
    }
   },
   "source": [
    "## Using PCA for House Price Prediction \n",
    "\n",
    "<a id=\"Q2\"></a>\n",
    "\n",
    "We now show how PCA can be used as a pre-processing step for another ML method such as linear regression. To this end, we consider again the house price prediction application which we studied in Round 2. "
   ]
  },
  {
   "cell_type": "markdown",
   "metadata": {
    "nbgrader": {
     "grade": false,
     "grade_id": "cell-20a3b32c473f955e",
     "locked": true,
     "schema_version": 3,
     "solution": false
    }
   },
   "source": [
    "<a id='handsondata'></a>\n",
    "<div class=\" alert alert-info\">\n",
    "<p><b>Demo.</b> Loading the Data.</p>\n",
    "    \n",
    "The following code snippet defines a function `X,y= GetFeaturesLabels(m,n)` which reads in data of previous house sales. The input parameters are the number `m` of data points and the number `n` of features to be used for each data point. The function returns a matrix $\\mathbf{X}$ and vector $\\mathbf{y}$. \n",
    "\n",
    "The features $\\mathbf{x}^{(i)}$ of the sold houses are stored in the rows of the numpy array `X` (of shape (m,n)) and the corresponding selling prices $y^{(i)}$ in the numpy array `y` (shape (m,1)). The two arrays represent the feature matrix $\\mathbf{X} = \\begin{pmatrix} \\mathbf{x}^{(1)} & \\ldots & \\mathbf{x}^{(m)} \\end{pmatrix}^{T}$ and the label vector $\\mathbf{y} = \\big( y^{(1)}, \\ldots, y^{(m)} \\big)^{T}$. \n",
    "\n",
    "</div>"
   ]
  },
  {
   "cell_type": "code",
   "execution_count": 12,
   "metadata": {
    "nbgrader": {
     "grade": false,
     "grade_id": "cell-ac3ef96fb0f17261",
     "locked": true,
     "schema_version": 3,
     "solution": false
    }
   },
   "outputs": [],
   "source": [
    "# import \"Pandas\" library/package (and use shorthand \"pd\" for the package) \n",
    "# Pandas provides functions for loading (storing) data from (to) files\n",
    "import pandas as pd  \n",
    "from matplotlib import pyplot as plt \n",
    "from IPython.display import display, HTML\n",
    "import numpy as np   \n",
    "from sklearn.datasets import load_boston\n",
    "import random\n",
    "\n",
    "def GetFeaturesLabels(m=10, D=10):\n",
    "    house_dataset = load_boston()\n",
    "    #print(house_dataset.feature_names)\n",
    "    house = pd.DataFrame(house_dataset.data, columns=house_dataset.feature_names) \n",
    "    x1 = house['TAX'].values.reshape(-1,1)   # vector whose entries are the tax rates of the sold houses\n",
    "    x2 = house['AGE'].values.reshape(-1,1)   # vector whose entries are the ages of the sold houses\n",
    "    x1 = x1[0:m]\n",
    "    x2 = x2[0:m]\n",
    "    np.random.seed(43)\n",
    "    Z = np.hstack((x1,x2,np.random.randn(m,n))) \n",
    "    \n",
    "    Z = Z[:,0:D] \n",
    "\n",
    "    y = house_dataset.target.reshape(-1,1)  # create a vector whose entries are the labels for each sold house\n",
    "    y = y[0:m]\n",
    "    \n",
    "    return Z, y\n",
    "\n"
   ]
  },
  {
   "cell_type": "markdown",
   "metadata": {
    "nbgrader": {
     "grade": false,
     "grade_id": "cell-996a5a4dccea7328",
     "locked": true,
     "schema_version": 3,
     "solution": false
    }
   },
   "source": [
    "<a id='pcaandlinreg'></a>\n",
    "<div class=\" alert alert-warning\">\n",
    "    <b>Student Task.</b> PCA with Linear Regression <br/> \n",
    "\n",
    "The code snippet below reads in $m=500$ data points representing house sales. Each house sale is represented by a long feature vector $\\mathbf{z}^{(i)}\\in \\mathbb{R}^{D}$ of length $D=10$. The features $\\mathbf{z}^{(i)}$ of the first $480$ data points are used to compute a compression matrix $\\mathbf{W}_{\\rm PCA}$ using PCA. The compression matrix is then applied to the feature vectors of the last $20$ data points to obtain a labeled data set $\\mathbb{X}$ with features $\\mathbf{x}^{(i)} = \\mathbf{W}_{\\rm PCA} \\mathbf{z}^{(i)}$ and labels $y^{(i)}$ for $i=481,\\ldots,500$. \n",
    "\n",
    "The dataset $\\mathbb{X}$ is split into a training set, whose features are stored in the numpy array `Z_train` and labels in numpy array `y_train`, and a validation set, stored in the numpy arrays `Z_val` and `y_val`. Combine PCA with linear regression using different number $n$ of PCs. For each choice $n=1,\\ldots,D$, compute transformed feature vectors for training and validation set. Then train a linear regression model using `LinearRegression.fit()` and compute the resulting training and validation error. Store the resulting training and validation errors in the numpy arrays `err_train` and `err_val` of shape (D,1). \n",
    "\n",
    "\n",
    "\n",
    "</div>"
   ]
  },
  {
   "cell_type": "code",
   "execution_count": 13,
   "metadata": {
    "nbgrader": {
     "grade": false,
     "grade_id": "cell-dd44ad8b1d0fc8db",
     "locked": false,
     "schema_version": 3,
     "solution": true
    }
   },
   "outputs": [
    {
     "data": {
      "image/png": "[encoded data removed]",
      "text/plain": [
       "<Figure size 432x288 with 1 Axes>"
      ]
     },
     "metadata": {
      "needs_background": "light"
     },
     "output_type": "display_data"
    }
   ],
   "source": [
    "from sklearn.linear_model import LinearRegression\n",
    "from sklearn.model_selection import train_test_split\n",
    "\n",
    "m = 500   # total number of data points \n",
    "D = 10    # length of raw feature vector \n",
    "\n",
    "Z,y = GetFeaturesLabels(m,D)   # read in m data points from the house sales database \n",
    "        \n",
    "## use this features for PCA \n",
    "Z_pca = Z[:480,:]    # read out feature vectors of first 480 data points \n",
    "\n",
    "\n",
    "## use this features and labels for linear regression (with transformed features)\n",
    "Z     = Z[480:,:]    # read out feature vectors of last 20 data points \n",
    "y     = y[480:,:]    # read out labels of last 20 data points \n",
    "\n",
    "# Datasets which will be preprocessed and used with linear regression\n",
    "Z_train, Z_val, y_train, y_val = train_test_split(Z, y, test_size=0.2, random_state=42)\n",
    "\n",
    "err_val = np.zeros(D)     # this numpy array has to be used to store the validation \n",
    "                        #  errors of linear regression when combined with PCA with n=1,2,..,D\n",
    "    \n",
    "err_train = np.zeros(D)\n",
    "\n",
    "\n",
    "\n",
    "for n in range(1,D+1,1):\n",
    "    \n",
    "    # Create the PCA object and fit\n",
    "    pca = PCA(n_components = n)\n",
    "    pca.fit(Z_pca)\n",
    "    \n",
    "    # transform long feature vectors (length D) to short ones (length n)\n",
    "    X_train = pca.transform(Z_train)\n",
    "    X_val   = pca.transform(Z_val)\n",
    "### STUDENT TASK ### \n",
    "#  use X_train,y_train to train linear regression model \n",
    "#  use resulting model to predict labels for training and validation data w\n",
    "#  store the predicted labels on training set in numpy array y_pred_train and \n",
    "#  predicted labels on validation set in numpy array y_pred_val\n",
    "### BEGIN SOLUTION\n",
    "    model = LinearRegression()\n",
    "    model.fit(X_train,y_train)\n",
    "    y_pred_train = model.predict(X_train)\n",
    "    y_pred_val = model.predict(X_val)\n",
    "### END SOLUTION\n",
    "    err_train[n-1] = np.mean((y_train - y_pred_train)**2)  # compute training error \n",
    "    err_val[n-1] = np.mean((y_val - y_pred_val)**2)   # compute validation error \n",
    "\n",
    "plt.plot([n for n in range(1,D+1,1)],err_val,label=\"validation\")\n",
    "plt.plot([n for n in range(1,D+1,1)],err_train,label=\"training\")\n",
    "plt.xlabel('number of PCs ($n$)')\n",
    "plt.ylabel(r'error')\n",
    "plt.legend()\n",
    "plt.title('validation/training error vs. number of PCs')\n",
    "plt.show()"
   ]
  },
  {
   "cell_type": "code",
   "execution_count": 14,
   "metadata": {
    "nbgrader": {
     "grade": true,
     "grade_id": "cell-5bc71b4230da31ed",
     "locked": true,
     "points": 3,
     "schema_version": 3,
     "solution": false
    }
   },
   "outputs": [
    {
     "name": "stdout",
     "output_type": "stream",
     "text": [
      "Sanity checks passed!\n"
     ]
    }
   ],
   "source": [
    "assert err_train[0]>=err_train[4], \"values in err_train wrong\"\n",
    "assert err_val[1]<=err_val[4], \"values in err_val wrong\"\n",
    "\n",
    "\n",
    "### BEGIN HIDDEN TESTS\n",
    "\n",
    "\n",
    "t_err_val = np.zeros(D)     # this numpy array has to be used to store the validation \n",
    "                        #  errors of linear regression when combined with PCA with n=1,2,..,D\n",
    "    \n",
    "t_err_train = np.zeros(D)\n",
    "\n",
    "for n in range(1,D+1,1):\n",
    "    \n",
    " \n",
    "    t_pca = PCA(n_components = n)\n",
    "    t_pca.fit(Z_pca)\n",
    "    t_X_train = t_pca.transform(Z_train)\n",
    "    t_X_val   = t_pca.transform(Z_val)\n",
    "    t_model = LinearRegression()\n",
    "    t_model.fit(t_X_train,y_train)\n",
    "    t_y_pred_train = t_model.predict(t_X_train)\n",
    "    t_y_pred_val = t_model.predict(t_X_val)\n",
    "\n",
    "    t_err_train[n-1] = np.mean((y_train-t_y_pred_train)**2)  # compute training error \n",
    "    t_err_val[n - 1] = np.mean((y_val - t_y_pred_val)**2)   # compute validation error \n",
    "np.testing.assert_allclose(t_err_train, err_train, rtol=0.001, err_msg='err_pca has wrong value')\n",
    "np.testing.assert_allclose(t_err_val, err_val, rtol=0.001, err_msg='err_pca has wrong value')\n",
    "    \n",
    "### END HIDDEN TESTS\n",
    "\n",
    "print('Sanity checks passed!')"
   ]
  }
 ],
 "metadata": {
  "celltoolbar": "Create Assignment",
  "kernelspec": {
   "display_name": "Python 3",
   "language": "python",
   "name": "python3"
  },
  "language_info": {
   "codemirror_mode": {
    "name": "ipython",
    "version": 3
   },
   "file_extension": ".py",
   "mimetype": "text/x-python",
   "name": "python",
   "nbconvert_exporter": "python",
   "pygments_lexer": "ipython3",
   "version": "3.7.4"
  },
  "varInspector": {
   "cols": {
    "lenName": 16,
    "lenType": 16,
    "lenVar": 40
   },
   "kernels_config": {
    "python": {
     "delete_cmd_postfix": "",
     "delete_cmd_prefix": "del ",
     "library": "var_list.py",
     "varRefreshCmd": "print(var_dic_list())"
    },
    "r": {
     "delete_cmd_postfix": ") ",
     "delete_cmd_prefix": "rm(",
     "library": "var_list.r",
     "varRefreshCmd": "cat(var_dic_list()) "
    }
   },
   "types_to_exclude": [
    "module",
    "function",
    "builtin_function_or_method",
    "instance",
    "_Feature"
   ],
   "window_display": false
  }
 },
 "nbformat": 4,
 "nbformat_minor": 4
}
