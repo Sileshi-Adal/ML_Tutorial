{
 "cells": [
  {
   "cell_type": "code",
   "execution_count": null,
   "metadata": {},
   "outputs": [],
   "source": [
    "import numpy as np\n",
    "import cv2\n",
    "\n",
    "img = cv2.imread('Desert.jpg')\n",
    "\n",
    "kernely = np.array([[1,1,1],[0,0,0],[-1,-1,-1]])\n",
    "kernelx = np.array([[1,0,-1],[1,0,-1],[1,0,-1]])\n",
    "edges_x = cv2.filter2D(img,cv2.CV_8U,kernelx)\n",
    "edges_y = cv2.filter2D(img,cv2.CV_8U,kernely)\n",
    "\n",
    "cv2.imshow('Gradients_X',edges_x)\n",
    "cv2.imshow('Gradients_Y',edges_y)\n",
    "cv2.waitKey(0)"
   ]
  }
 ],
 "metadata": {
  "kernelspec": {
   "display_name": "Python 3",
   "language": "python",
   "name": "python3"
  },
  "language_info": {
   "codemirror_mode": {
    "name": "ipython",
    "version": 3
   },
   "file_extension": ".py",
   "mimetype": "text/x-python",
   "name": "python",
   "nbconvert_exporter": "python",
   "pygments_lexer": "ipython3",
   "version": "3.7.4"
  }
 },
 "nbformat": 4,
 "nbformat_minor": 2
}
