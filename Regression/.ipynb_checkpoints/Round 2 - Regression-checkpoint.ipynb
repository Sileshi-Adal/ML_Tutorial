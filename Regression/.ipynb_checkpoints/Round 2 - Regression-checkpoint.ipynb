{
 "cells": [
  {
   "cell_type": "markdown",
   "metadata": {
    "nbgrader": {
     "grade": false,
     "grade_id": "cell-0ef3a793cfc0e37b",
     "locked": true,
     "schema_version": 3,
     "solution": false
    }
   },
   "source": [
    "## Machine Learning with Python - Regression\n",
    "\n",
    "\n",
    "<img src=\"ForSale.jpg\" alt=\"Drawing\" style=\"width: 500px;height: 200px\"/>\n",
    "\n",
    "In this round, we consider ML problems involving data points with real-valued labels $y$, which represent some quantity of interest. We often refer to such ML problems as **regression problems**. In this round, we will apply some basic ML methods to solve a simple regression problem. These methods aim at finding or learning a good predictor function $h(\\mathbf{x})$, which predicts the label $y$ based on the features $\\mathbf{x}$ of a data point. The different methods are differnt combinations of particular choices for the type of predictor functions (hypothesis space) and loss function (the quality measure used to rank predictors). These different combinations offer different tradeoffs between **computational complexity, robustness (against outliers) and accuracy**.  \n",
    "\n",
    "\n",
    "## Learning goals\n",
    "\n",
    "- know how to formulate a simple regression problem by identifying data points, their features, and labels  \n",
    "- know how to represent features and labels of data points using matrices and vectors\n",
    "- apply ready-made regression methods to learn a good predictor function from labeled data \n",
    "- assess and compare the computational complexity and accuracy of different regression methods \n",
    "    \n",
    "\n",
    "## Relevant Sections in [Course Book](https://arxiv.org/abs/1805.05052)  \n",
    "\n",
    "Chapter 2; Section 3.1-3.2; Chapter 4 and 5 \n",
    "\n",
    "## Background Material \n",
    "\n",
    "[Video Lecture](https://www.youtube.com/watch?v=kHwlB_j7Hkc) on regression by [Prof. Andrew Ng](https://en.wikipedia.org/wiki/Andrew_Ng) \n",
    "\n",
    "Additional information on the Python libraries used in this exercise can be found here:\n",
    "\n",
    "- [NumPy](http://cs231n.github.io/python-numpy-tutorial/)\n",
    "- [matplotlib](https://matplotlib.org/tutorials/index.html#introductory) \n",
    "- [Pandas](https://pandas.pydata.org/pandas-docs/stable/getting_started/10min.html#min)\n",
    "- [Slicing numpy arrays](https://www.pythoninformer.com/python-libraries/numpy/index-and-slice/)\n",
    "\n",
    "\n",
    "## The Problem \n",
    "\n",
    "Assume you have secured an internship at a real estate broker in downtown Helsinki. Your firm has gathered a dataset obtained from previously sold houses in different areas of the city. Your task is to find out the relation between different characteristics (features) $\\mathbf{x}$ and the price (label) $y$ of a sold house.\n",
    "\n",
    "In order to solve this task you can use ML methods to find a good predictor map $h(\\mathbf{x})$ such that $h(\\mathbf{x}) \\approx y$. The basic principle behind these methods is simple: Out of a given set of predictor functions (e.g. the set of linear functions) pick one that fits well the data points $(\\mathbf{x}^{(i)},y^{(i)})$, $i=1,\\ldots,m$, for which we know the true label values $y^{(i)}$. For the house price prediction problem, this labeled data is provided by the recordings of previous house sales.\n",
    "\n",
    "\n",
    "## The Data\n",
    "\n",
    "Our goal is to learn a good predictor $h(\\mathbf{x})$ for the price $y$ of a house. The prediction $h(\\mathbf{x})$ is based on several features (characteristics) $\\mathbf{x} = \\big(x_{1},\\ldots,x_{n}\\big)^{T}$ such as the average number of rooms per dwelling $x_{1}$ or the nitric oxides concentration $x_{2}$ near the house. \n",
    "\n",
    "To learn a good predictor $h(\\mathbf{x})$, we use historic recordings of house sales. These recordings consist of $m$ data points. Each data pints is characterized by the house features $\\mathbf{x}^{(i)} \\in \\mathbb{R}^{n}$ and the selling price $y^{(i)}$. ML methods find or learn a good predictor $h(\\mathbf{x})$ by minimizing the average error $h(\\mathbf{x}^{(i)}) - y^{(i)}$ for $i=1,\\ldots,m$."
   ]
  },
  {
   "cell_type": "markdown",
   "metadata": {
    "nbgrader": {
     "grade": false,
     "grade_id": "cell-af1923f46c54cd28",
     "locked": true,
     "schema_version": 1,
     "solution": false
    }
   },
   "source": [
    "<a id='handsondata'></a>\n",
    "<div class=\" alert alert-info\">\n",
    "<p><b>Demo.</b> Loading the Data.</p>\n",
    "    \n",
    "The following code snippet defines a function `X,y= GetFeaturesLabels(m,n)` which reads in data of previous house sales. The input parameters are the number `m` of data points and the number `n` of features to be used for each data point. The function returns a matrix $\\mathbf{X}$ and vector $\\mathbf{y}$. \n",
    "\n",
    "The features $\\mathbf{x}^{(i)}$ of the sold houses are stored in the rows of the numpy array `X` (of shape (m,n)) and the corresponding selling prices $y^{(i)}$ in the numpy array `y` (shape (m,1)). The two arrays represent the feature matrix $\\mathbf{X} = \\begin{pmatrix} \\mathbf{x}^{(1)} & \\ldots & \\mathbf{x}^{(m)} \\end{pmatrix}^{T}$ and the label vector $\\mathbf{y} = \\big( y^{(1)}, \\ldots, y^{(m)} \\big)^{T}$. \n",
    "\n",
    "</div>"
   ]
  },
  {
   "cell_type": "code",
   "execution_count": 13,
   "metadata": {
    "nbgrader": {
     "grade": false,
     "grade_id": "cell-b41dbb88d89db329",
     "locked": true,
     "schema_version": 3,
     "solution": false
    }
   },
   "outputs": [],
   "source": [
    "# import \"Pandas\" library/package (and use shorthand \"pd\" for the package) \n",
    "# Pandas provides functions for loading (storing) data from (to) files\n",
    "import pandas as pd  \n",
    "from matplotlib import pyplot as plt \n",
    "from IPython.display import display, HTML\n",
    "import numpy as np   \n",
    "from sklearn.datasets import load_boston\n",
    "import random\n",
    "\n",
    "def GetFeaturesLabels(m=10, n=10):\n",
    "\n",
    "    house_dataset = load_boston()\n",
    "    house = pd.DataFrame(house_dataset.data, columns=house_dataset.feature_names) \n",
    "    x1 = house['RM'].values.reshape(-1,1)   # vector whose entries are the average room numbers for each sold houses\n",
    "    x2 = house['NOX'].values.reshape(-1,1)  # vector whose entries are the nitric oxides concentration for sold houses\n",
    "\n",
    "\n",
    "    x1 = x1[0:m]\n",
    "    x2 = x2[0:m]\n",
    "    np.random.seed(30)\n",
    "    X = np.hstack((x1,x2,np.random.randn(m,n))) \n",
    "    \n",
    "    X = X[:,0:n] \n",
    "\n",
    "    y = house_dataset.target.reshape(-1,1)  # creates a vector whose entries are the labels for each sold house\n",
    "    y = y[0:m]\n",
    "\n",
    "    return X, y\n"
   ]
  },
  {
   "cell_type": "markdown",
   "metadata": {
    "nbgrader": {
     "grade": false,
     "grade_id": "cell-b85dc13f39e40ddd",
     "locked": true,
     "schema_version": 3,
     "solution": false
    }
   },
   "source": [
    "## Visualize Data\n",
    "\n",
    "Scatter plots visualize data points by representing them as \"dots\" in the two-dimensional plane. Scatter plots can help to develop an intuition for the relation between features and labels of data points. \n"
   ]
  },
  {
   "cell_type": "markdown",
   "metadata": {
    "nbgrader": {
     "grade": false,
     "grade_id": "cell-9fa6ce321f69617f",
     "locked": true,
     "schema_version": 1,
     "solution": false
    }
   },
   "source": [
    "<a id='drawplot'></a>\n",
    "<div class=\" alert alert-info\">\n",
    "    <p><b>Demo.</b> Scatter Plots.</p>\n",
    "    <p>The code snippet below creates one scatterplot showing the first feature $x^{(i)}_{1}$ and the label $y^{(i)}$ (house price) for each data point. It also creates a second scatterplot with the second feature $x^{(i)}_{2}$ and the label $y^{(i)}$ (house price) for each data point.</p>\n",
    "</div>"
   ]
  },
  {
   "cell_type": "code",
   "execution_count": 12,
   "metadata": {
    "nbgrader": {
     "grade": false,
     "grade_id": "cell-9e4c40988deb13df",
     "locked": true,
     "schema_version": 1,
     "solution": false
    }
   },
   "outputs": [
    {
     "data": {
      "image/png": "[encoded data removed]",
      "text/plain": [
       "<Figure size 1080x360 with 2 Axes>"
      ]
     },
     "metadata": {
      "needs_background": "light"
     },
     "output_type": "display_data"
    }
   ],
   "source": [
    "from matplotlib import pyplot as plt \n",
    "\n",
    "X,y = GetFeaturesLabels(10,10)\n",
    "fig, axs = plt.subplots(1, 2,figsize=(15,5))\n",
    "axs[0].scatter(X[:,0], y)\n",
    "axs[0].set_title('average number of rooms per dwelling vs. price')\n",
    "axs[0].set_xlabel(r'feature $x_{1}$')\n",
    "axs[0].set_ylabel('house price $y$')\n",
    "\n",
    "axs[1].scatter(X[:,1], y)\n",
    "axs[1].set_xlabel(r'feature $x_{2}$')\n",
    "axs[1].set_title('nitric oxide level vs. price')\n",
    "axs[1].set_ylabel('house price $y$')\n",
    "\n",
    "plt.show()"
   ]
  },
  {
   "cell_type": "markdown",
   "metadata": {
    "nbgrader": {
     "grade": false,
     "grade_id": "cell-d8ccaaf344192e57",
     "locked": true,
     "schema_version": 1,
     "solution": false
    }
   },
   "source": [
    "<a id='drawplot'></a>\n",
    "<div class=\" alert alert-warning\"><b>Student Task.</b> Scatter Plots.\n",
    "\n",
    "Create a scatterplot with x-axis representing feature $x^{(i)}_{4}$ and y-axis representingcthe label $y^{(i)}$ for each of the $m$ house sales $\\big(\\mathbf{x}^{(i)},y^{(i)}\\big)$. \n",
    "\n",
    "</div>"
   ]
  },
  {
   "cell_type": "code",
   "execution_count": 3,
   "metadata": {
    "nbgrader": {
     "grade": false,
     "grade_id": "cell-6ae0e9e3279dd417",
     "locked": false,
     "schema_version": 1,
     "solution": true
    }
   },
   "outputs": [
    {
     "data": {
      "image/png": "[encoded data removed]",
      "text/plain": [
       "<Figure size 576x288 with 1 Axes>"
      ]
     },
     "metadata": {
      "needs_background": "light"
     },
     "output_type": "display_data"
    }
   ],
   "source": [
    "from matplotlib import pyplot as plt \n",
    "\n",
    "fig, axes = plt.subplots(1, 1, figsize=(8, 4))\n",
    "# axes.scatter ... \n",
    "### BEGIN SOLUTION\n",
    "axes.scatter(X[:,3], y)\n",
    "### END SOLUTION\n",
    "\n",
    "axes.set_title('$x_{4}$ vs. price $y$')\n",
    "axes.set_xlabel(r'feature $x_{4}$')\n",
    "axes.set_ylabel('house price $y$')\n",
    "\n",
    "plt.show()"
   ]
  },
  {
   "cell_type": "code",
   "execution_count": 4,
   "metadata": {
    "nbgrader": {
     "grade": true,
     "grade_id": "cell-f1705f6e7a1a7c67",
     "locked": true,
     "points": 3,
     "schema_version": 1,
     "solution": false
    }
   },
   "outputs": [
    {
     "name": "stdout",
     "output_type": "stream",
     "text": [
      "sanity check tests passed!\n"
     ]
    }
   ],
   "source": [
    "# plot tests\n",
    "\n",
    "# the following two imports are for testing purposes only\n",
    "from plotchecker import ScatterPlotChecker\n",
    "\n",
    "X,y = GetFeaturesLabels(10,10)   # read in features and labels of house sales\n",
    "\n",
    "pc = ScatterPlotChecker(axes)\n",
    "np.testing.assert_array_equal(pc.x_data, X[:,3],f\"The x values for the plot of the scatterplot are incorrect\")\n",
    "\n",
    "### BEGIN HIDDEN TESTS\n",
    "np.testing.assert_array_equal(pc.y_data.reshape(-1,1), y,f\"The y values for the plot of the scatterplot are incorrect\")\n",
    "### END HIDDEN TESTS\n",
    "\n",
    "print('sanity check tests passed!')\n"
   ]
  },
  {
   "cell_type": "markdown",
   "metadata": {
    "nbgrader": {
     "grade": false,
     "grade_id": "cell-ba1d8078dc67137d",
     "locked": true,
     "schema_version": 3,
     "solution": false
    }
   },
   "source": [
    "## Linear Regression \n",
    "\n",
    "Our goal is to predict the price $y$ of a house based on $n$ properties or features $\\mathbf{x}=(x_{1},\\ldots,x_{n})^{T} \\in \\mathbb{R}^{n}$ of that house. To this end, we try to find (or learn) a predictor function $h(\\mathbf{x})$ such that $y \\approx h(\\mathbf{x})$. \n",
    "\n",
    "Within linear regression, we restrict the predictor function to be a linear function. The resulting hypothesis space of all such linear predictor functions is \n",
    "\\begin{equation*}\n",
    " \\mathcal{H} = \\{h^{(\\mathbf{w})}(\\mathbf{x}) = \\mathbf{w}^{T} \\mathbf{x} \\mbox{ for some } \\mathbf{w} \\in \\mathbb{R}^{n}\\}.\n",
    "\\label{eq1}\n",
    "\\tag{1}\n",
    "\\end{equation*}\n",
    "Note that,for two vectors $\\mathbf{w}=\\big(w_{1},\\ldots,w_{n}\\big)^{T} \\in \\mathbb{R}^{n}$ and $\\mathbf{x}=\\big(x_{1},\\ldots,x_{n}\\big)^{T}\\in \\mathbb{R}^{n}$, we denote $\\mathbf{w}^{T} \\mathbf{x} = \\sum_{r=1}^{n} w_{r} x_{r}$. \n",
    "\n",
    "To measure the quality of a particular predictor $h^{(\\mathbf{w})}(\\mathbf{x}) = \\mathbf{w}^{T} \\mathbf{x}$, obtained for some particular choice for the weight vector $\\mathbf{w} \\in \\mathbb{R}^{n}$, we try it on the historic recordings of house sales. For the $i$th house sale record we know the house price $y^{(i)}$ that has been achieved and can compare it to the predicted price $h(\\mathbf{x}^{(i)})$. \n",
    "\n",
    "The prediction $h^{(\\mathbf{w})}(\\mathbf{x}^{(i)})$ will typically incur a non-zero __prediction error__ $y^{(i)} - h^{(\\mathbf{w})}(\\mathbf{x}^{(i)})$. To measure the error or **loss** incurred by predicting the true label value $y$ of a data point using the predicted label $\\hat{y}=h(\\mathbf{x})$ (which is the result of applying the predictor function $h(\\cdot)$ to the features $\\mathbf{x}$), we need to define a loss function $\\mathcal{L}(y,\\hat{y})$. In principle, the loss function is a design parameter which can be chosen freely by the ML scientist or engineer (based on the application at hand). \n",
    "\n",
    "For regression problems with numeric labels $y$, a popular choice for the loss is the [squared error loss](https://scikit-learn.org/stable/modules/model_evaluation.html#mean-squared-error) $\\mathcal{L}(y,\\hat{y}) = (y-\\hat{y})^{2}$. We highlight that to evaluate the loss we need to know the true label $y$ of a data point. However, this is the case for the data points $(\\mathbf{x}^{(i)},y^{(i)})$ representing previous house sales. We can then average the predictor loss over all $m$ data points $(\\mathbf{x}^{(i)},y^{(i)})$ of previously sold houses: \n",
    "\\begin{equation*}\n",
    " \\mathcal{E} (\\mathbf{w}) = (1/m) \\sum^{m}_{i=1}(y^{(i)} - \\mathbf{w}^{T} \\mathbf{x}^{(i)})^2.\n",
    "\\label{eq2}\n",
    "\\tag{2}\n",
    "\\end{equation*}\n",
    "\n",
    "The optimal weight vector $\\mathbf{w}_{\\rm opt}$ is any weight vector which achives the minimum value of $ \\mathcal{E} (\\mathbf{w})$, i.e., $$\\mathcal{E} (\\mathbf{w}_{\\rm opt})= \\min_{\\mathbf{w} \\in \\mathbb{R}^{n}}\\mathcal{E} (\\mathbf{w}).$$\n",
    "An optimal predictor is then obtained as $h(\\mathbf{x}) = \\mathbf{w}_{\\rm opt}^{T} \\mathbf{x}$. The average loss \n",
    "\n",
    "$$\\mathcal{E} (\\mathbf{w}_{\\rm opt}) = (1/m) \\sum^{m}_{i=1}(y^{(i)} - \\mathbf{w}_{\\rm opt}^{T} \\mathbf{x}^{(i)})^2$$\n",
    " \n",
    "incurred by the optimal predictor $h(\\mathbf{x}) = \\mathbf{w}_{\\rm opt}^{T} \\mathbf{x}$ is also known as the **training error**, since it is the error obtained when fitting or training a linear model to some labeled data points, which serve as the **training data**. "
   ]
  },
  {
   "cell_type": "markdown",
   "metadata": {
    "nbgrader": {
     "grade": false,
     "grade_id": "cell-049bdf44b143edcb",
     "locked": true,
     "schema_version": 1,
     "solution": false
    }
   },
   "source": [
    "<a id='drawplot'></a>\n",
    "<div class=\" alert alert-info\"><p><b>Demo.</b> Learn a Linear Predictor.</p>\n",
    "\n",
    "The code snippet below shows how to use the `LinearRegression` class from the Python library `scikit-learn` to learn an optimal predictor from the set of linear predictors $h(\\mathbf{x}) = \\mathbf{w}^{T} \\mathbf{x}$ using the squared error loss. \n",
    "\n",
    "The optimal weight vector $\\mathbf{w}_{\\rm opt}$ can be found by the function `LinearRegression.fit()`. The resulting optimal weight vector is stored in the variable `LinearRegression.coef_`. Using the optimal weight vector, we compute the training error \n",
    "\\begin{equation}\n",
    "(1/m) \\sum_{i=1}^{m} \\big( y^{(i)} - \\mathbf{w}_{\\rm opt}^{T} \\mathbf{x}^{(i)} \\big)^{2}. \n",
    "\\end{equation}\n",
    "and store it in the variable `training_error`. \n",
    "\n",
    "You can find the documentation of the `LinearRegression` class under [this link](https://scikit-learn.org/stable/modules/generated/sklearn.linear_model.LinearRegression.html). \n",
    "\n",
    "</div>"
   ]
  },
  {
   "cell_type": "code",
   "execution_count": 5,
   "metadata": {
    "nbgrader": {
     "grade": false,
     "grade_id": "cell-577688b1df8c48f9",
     "locked": true,
     "schema_version": 1,
     "solution": false
    }
   },
   "outputs": [
    {
     "data": {
      "text/latex": [
       "$\\displaystyle \\mathbf{w}_{\\rm opt} =$"
      ],
      "text/plain": [
       "<IPython.core.display.Math object>"
      ]
     },
     "metadata": {},
     "output_type": "display_data"
    },
    {
     "name": "stdout",
     "output_type": "stream",
     "text": [
      "[[ -10.30925972]\n",
      " [ 267.75090048]\n",
      " [  78.85900592]\n",
      " [  81.00711555]\n",
      " [   1.41629172]\n",
      " [  44.72519091]\n",
      " [ -30.07990617]\n",
      " [ -68.90596838]\n",
      " [ -48.69903423]\n",
      " [-102.31271894]]\n",
      "\n",
      "The resuling training error is  3.995675148253051e-26\n"
     ]
    }
   ],
   "source": [
    "from sklearn.linear_model import LinearRegression\n",
    "from sklearn.metrics import mean_squared_error\n",
    "from IPython.display import display, Math\n",
    "\n",
    "reg = LinearRegression(fit_intercept=False) \n",
    "reg = reg.fit(X, y)\n",
    "training_error = mean_squared_error(y, reg.predict(X))\n",
    "\n",
    "display(Math(r'$\\mathbf{w}_{\\rm opt} ='))\n",
    "optimal_weight = reg.coef_\n",
    "optimal_weight = optimal_weight.reshape(-1,1)\n",
    "print(optimal_weight)\n",
    "print(\"\\nThe resuling training error is \",training_error)"
   ]
  },
  {
   "cell_type": "markdown",
   "metadata": {
    "nbgrader": {
     "grade": false,
     "grade_id": "cell-a5ee14879390235c",
     "locked": true,
     "schema_version": 1,
     "solution": false
    }
   },
   "source": [
    "<a id='varying_features'></a>\n",
    "<div class=\" alert alert-warning\">\n",
    "    <p><b>Student Task</b> Varying Number of Features. </p>\n",
    "    \n",
    "In principle, we can freely choose how many of the available features $x_{1}, x_{2},\\ldots,x_{n}$ \n",
    "of a house you want to use, to predict the house price $y$. You are now to explore the effect of using a varying number $r \\leq n$ of features on the resulting training error and computational complexity (runtime) of linear regression. For each $r=1,2,\\ldots,10$, fit a linear model (using `LinearRegression(fit_intercept=False)` to the house sales dataset (using $m=10$ data points) by using only the first $r$ features $x_{1},...,x_{r}$ of a house. \n",
    "<br />    \n",
    "- You can get the first $r$ features and labels for the previously sold houses using `GetFeaturesLabels(m,r)`.<br />\n",
    "- For each value of $r$, determine the computation time of the fitting method `LinearRegression.fit()` and the resulting training error (using the Python function `mean_squared_error()`) of the fitted linear model. <br />\n",
    "- The results should be stored in two vectors `linreg_time` (multiply by 1000 to get time in milliseconds) and `linreg_error`. <br />\n",
    "- You can measure the computation time with Python function `time.time()` as demonstrated in Round 1.\n",
    "\n",
    "</div>"
   ]
  },
  {
   "cell_type": "code",
   "execution_count": 6,
   "metadata": {
    "nbgrader": {
     "grade": false,
     "grade_id": "cell-adb3039336234c0d",
     "locked": false,
     "schema_version": 1,
     "solution": true
    }
   },
   "outputs": [
    {
     "data": {
      "image/png": "[encoded data removed]",
      "text/plain": [
       "<Figure size 576x288 with 2 Axes>"
      ]
     },
     "metadata": {
      "needs_background": "light"
     },
     "output_type": "display_data"
    }
   ],
   "source": [
    "import time\n",
    "\n",
    "m = 10                            # we use 10 data points of the house sales database \n",
    "max_r = 10                        # maximum number of features used \n",
    "\n",
    "X,y = GetFeaturesLabels(m,max_r)  # read in m data points using max_r features \n",
    "\n",
    "linreg_time = np.zeros(max_r)     # vector for storing the exec. times of LinearRegresion.fit() for each r\n",
    "linreg_error = np.zeros(max_r)    # vector for storing the training error of LinearRegresion.fit() for each r\n",
    "\n",
    "\n",
    "# linreg_time = ... \n",
    "# linreg_error = ... \n",
    "# Hint: loop \"r\" times.\n",
    "\n",
    "\n",
    "### BEGIN SOLUTION\n",
    "for r in range(max_r):\n",
    "    reg = LinearRegression(fit_intercept=False) \n",
    "    start_time = time.time()\n",
    "    reg = reg.fit(X[:,:(r+1)], y)\n",
    "    end_time = (time.time() - start_time)*1000\n",
    "    linreg_time[r] = end_time\n",
    "    pred = reg.predict(X[:,:(r+1)])\n",
    "    linreg_error[r] = mean_squared_error(y, pred)\n",
    "### END SOLUTION\n",
    "\n",
    "plot_x = np.linspace(1, max_r, max_r, endpoint=True)\n",
    "fig, axes = plt.subplots(nrows=1, ncols=2, figsize=(8, 4))\n",
    "axes[0].plot(plot_x, linreg_error, label='MSE', color='red')\n",
    "axes[1].plot(plot_x, linreg_time, label='time', color='green')\n",
    "axes[0].set_xlabel('features')\n",
    "axes[0].set_ylabel('empirical error')\n",
    "axes[1].set_xlabel('features')\n",
    "axes[1].set_ylabel('time (ms)')\n",
    "axes[0].set_title('training error vs number of features')\n",
    "axes[1].set_title('computation time vs number of features')\n",
    "axes[0].legend()\n",
    "axes[1].legend()\n",
    "plt.tight_layout()\n",
    "plt.show()"
   ]
  },
  {
   "cell_type": "code",
   "execution_count": 7,
   "metadata": {
    "nbgrader": {
     "grade": true,
     "grade_id": "cell-b0017e97370ec75b",
     "locked": true,
     "points": 3,
     "schema_version": 1,
     "solution": false
    }
   },
   "outputs": [
    {
     "name": "stdout",
     "output_type": "stream",
     "text": [
      "sanity check tests passed!\n"
     ]
    }
   ],
   "source": [
    "assert linreg_time.shape == (10, ), \"'linreg_time' has wrong dimensions.\"\n",
    "assert linreg_error.shape == (10, ), \"'linreg_error' has wrong dimensions.\"\n",
    "assert linreg_error[0] > 0.01*linreg_error[9], \"training error for n=1 is too small \"\n",
    "print('sanity check tests passed!')\n",
    "\n",
    "### BEGIN HIDDEN TESTS\n",
    "t_error = np.zeros(10)\n",
    "t_reg = LinearRegression(fit_intercept=False) \n",
    "    \n",
    "for r in range(max_r):\n",
    "    t_reg = reg.fit(X[:,:(r+1)], y)\n",
    "    t_pred = reg.predict(X[:,:(r+1)])\n",
    "    t_error[r] = mean_squared_error(y, t_pred)\n",
    "\n",
    "np.testing.assert_allclose(linreg_error, t_error,rtol=1e-10, atol=0)\n",
    "### END HIDDEN TESTS\n"
   ]
  },
  {
   "cell_type": "markdown",
   "metadata": {
    "nbgrader": {
     "grade": false,
     "grade_id": "cell-ab5cf2b4d9840b3b",
     "locked": true,
     "schema_version": 1,
     "solution": false
    }
   },
   "source": [
    "<a id='varying_features'></a>\n",
    "<div class=\" alert alert-warning\">\n",
    "<p><b>Student Task</b> Varying Number of Data Points.</p>\n",
    "<p>Beside the number of features which are used to describe a data point, another important parameter of a data set is the number $m$ of data points it contains. Intuitively, having more labeled data points to find or learn a good predictor should be beneficial. Let us now explore the effect of using an increasing number $m$ of data points on the resulting training error. </p>\n",
    "\n",
    "\n",
    "- For each choice $m=1,2,\\ldots,10$ read in the first $m$ data points of previously sold houses using $n=2$ features. This can be done using `GetFeaturesLabels(m,2)`.\n",
    "- For each $m$, fit a linear model (using `LinearRegression(fit_intercept=False)` to the first $m$ data points.\n",
    "- Store the resulting training errors in the numpy array `train_error` of shape (10,1). The $m$th entry of this array should be the training error obtained when using $m$ data points. Note that the first entry of a numpy array has index $0$. \n",
    "\n",
    "</div>"
   ]
  },
  {
   "cell_type": "code",
   "execution_count": 8,
   "metadata": {
    "nbgrader": {
     "grade": false,
     "grade_id": "cell-e57b15d397a6b503",
     "locked": false,
     "schema_version": 1,
     "solution": true
    }
   },
   "outputs": [
    {
     "name": "stdout",
     "output_type": "stream",
     "text": [
      "7.967770288277218\n"
     ]
    },
    {
     "data": {
      "image/png": "[encoded data removed]",
      "text/plain": [
       "<Figure size 576x288 with 1 Axes>"
      ]
     },
     "metadata": {
      "needs_background": "light"
     },
     "output_type": "display_data"
    }
   ],
   "source": [
    "import time\n",
    "\n",
    "max_m = 10                            # maximum number of data points \n",
    "X, y = GetFeaturesLabels(max_m, 2)      # read in max_m data points using n=2 features \n",
    "train_error = np.zeros(max_m)         # vector for storing the training error of LinearRegresion.fit() for each r\n",
    "\n",
    "\n",
    "# train_error = ... \n",
    "# Hint: loop \"max_m\" times.\n",
    "\n",
    "\n",
    "### BEGIN SOLUTION\n",
    "for r in range(max_m):\n",
    "    reg = LinearRegression(fit_intercept=False) \n",
    "    reg = reg.fit(X[:(r+1),:], y[:(r+1)])\n",
    "    y_pred = reg.predict(X[:(r+1),:])\n",
    "    train_error[r] = mean_squared_error(y[:(r+1)], y_pred)\n",
    "### END SOLUTION\n",
    "print(train_error[2])\n",
    "plot_x = np.linspace(1, max_r, max_r, endpoint=True)\n",
    "fig, axes = plt.subplots(nrows=1, ncols=1, figsize=(8, 4))\n",
    "axes.plot(plot_x, train_error, label='MSE', color='red')\n",
    "axes.set_xlabel('number of data points (sample size)')\n",
    "axes.set_ylabel('training error')\n",
    "axes.set_title('training error vs. number of data points')\n",
    "axes.legend()\n",
    "plt.tight_layout()\n",
    "plt.show()"
   ]
  },
  {
   "cell_type": "code",
   "execution_count": 9,
   "metadata": {
    "nbgrader": {
     "grade": true,
     "grade_id": "cell-d19e618cf3f2a6e6",
     "locked": true,
     "points": 3,
     "schema_version": 1,
     "solution": false
    }
   },
   "outputs": [
    {
     "name": "stdout",
     "output_type": "stream",
     "text": [
      "sanity check tests passed!\n"
     ]
    }
   ],
   "source": [
    "assert train_error.shape == (10, ), \"'train_error' has wrong dimensions.\"\n",
    "assert train_error[0] < 100*train_error[3], \"traiing error for m=1 is too large\"\n",
    "print('sanity check tests passed!')\n",
    "\n",
    "### BEGIN HIDDEN TESTS\n",
    "max_m = 10                            # maximum number of data points \n",
    "X, y = GetFeaturesLabels(max_m, 2)      # read in max_m data points using n=2 features \n",
    "\n",
    "t_error = np.zeros(max_m)\n",
    "    \n",
    "for r in range(max_m):\n",
    "    t_reg = LinearRegression(fit_intercept=False) \n",
    "    t_reg = t_reg.fit(X[:(r+1),:], y[:(r+1)])\n",
    "    y_pred = t_reg.predict(X[:(r+1),:])\n",
    "    t_error[r] = mean_squared_error(y[:(r+1)], y_pred)\n",
    "\n",
    "np.testing.assert_allclose(train_error, t_error,rtol=1e-10, atol=0)\n",
    "### END HIDDEN TESTS"
   ]
  },
  {
   "cell_type": "markdown",
   "metadata": {
    "nbgrader": {
     "grade": false,
     "grade_id": "cell-95e180ce6b62fbb2",
     "locked": true,
     "schema_version": 1,
     "solution": false
    }
   },
   "source": [
    "<a id='drawplot'></a>\n",
    "<div class=\" alert alert-info\">\n",
    "<p><b>Demo.</b> Robustness Against Outliers.</p>\n",
    "\n",
    "We now consider an important aspect of ML methods, i.e., the robustness to outliers. An **outlier** refers to a data point which is intrinsically different from all other data points, e.g., due to measurement errors. Imagine that for some reason, the first data point in our house sales database is such an erroneous outlier. We would then prefer ML methods not to be affected too much by an error in a single data point.\n",
    "\n",
    "<p>The code snippet below considers fitting a linear model for house prices $y$ based on a single feature $x_{1}$. The resulting linear predictor minimizes the average squared error loss on the training data. We then intentionally perturb the first data point by setting $y_{1}^{(1)}$ to an unreasonable value. Using this corrupted data set, we then fit again a linear model and compare the so-obtained linear predictor to the linear predictor obtained from the \"clean\" data set.</p> \n",
    "</div>"
   ]
  },
  {
   "cell_type": "code",
   "execution_count": 10,
   "metadata": {
    "nbgrader": {
     "grade": false,
     "grade_id": "cell-5f9aaa714f3351bf",
     "locked": true,
     "schema_version": 1,
     "solution": false
    }
   },
   "outputs": [
    {
     "data": {
      "image/png": "[encoded data removed]",
      "text/plain": [
       "<Figure size 1080x288 with 2 Axes>"
      ]
     },
     "metadata": {
      "needs_background": "light"
     },
     "output_type": "display_data"
    },
    {
     "name": "stdout",
     "output_type": "stream",
     "text": [
      "optimal weight w_opt by fitting to (training on) clean training data :  [[4.13405764]]\n",
      "optimal weight w_opt by fitting to (training on) perturbed training data :  [[19.43224588]]\n"
     ]
    }
   ],
   "source": [
    "from sklearn import linear_model\n",
    "\n",
    "X,y = GetFeaturesLabels(10,1)   # read in 10 data points with single feature x_1 and label y \n",
    "\n",
    "\n",
    "### fit a linear model to the clean data \n",
    "reg = linear_model.LinearRegression(fit_intercept=False)\n",
    "reg = reg.fit(X, y)\n",
    "y_pred = reg.predict(X)\n",
    "\n",
    "# now we intentionally perturb the label of the first data point \n",
    "\n",
    "y_perturbed = np.copy(y)  \n",
    "y_perturbed[0] = 1000; \n",
    "\n",
    "### fit a linear model to the perturbed data \n",
    "\n",
    "reg1 = linear_model.LinearRegression(fit_intercept=False)\n",
    "reg1 = reg1.fit(X, y_perturbed)\n",
    "y_pred_perturbed = reg1.predict(X)\n",
    "\n",
    "\n",
    "fig, axes = plt.subplots(1, 2, figsize=(15, 4))\n",
    "axes[0].scatter(X, y, label='data')\n",
    "axes[0].plot(X, y_pred, color='green', label='Fitted model')\n",
    "\n",
    "\n",
    "# now add individual line for each error point\n",
    "axes[0].plot((X[0], X[0]), (y[0], y_pred[0]), color='red', label='errors') # add label to legend\n",
    "for i in range(len(X)-1):\n",
    "    lineXdata = (X[i+1], X[i+1]) # same X\n",
    "    lineYdata = (y[i+1], y_pred[i+1]) # different Y\n",
    "    axes[0].plot(lineXdata, lineYdata, color='red')\n",
    "\n",
    "\n",
    "axes[0].set_title('fitted model using clean data')\n",
    "axes[0].set_xlabel('feature x_1')\n",
    "axes[0].set_ylabel('house price y')\n",
    "axes[0].legend()\n",
    "\n",
    "axes[1].scatter(X, y_perturbed, label='data')\n",
    "axes[1].plot(X, y_pred_perturbed, color='green', label='Fitted model')\n",
    "\n",
    "\n",
    "# now add individual line for each error point\n",
    "axes[1].plot((X[0], X[0]), (y_perturbed[0], y_pred_perturbed[0]), color='red', label='errors') # add label to legend\n",
    "for i in range(len(X)-1):\n",
    "    lineXdata = (X[i+1], X[i+1]) # same X\n",
    "    lineYdata = (y_perturbed[i+1], y_pred_perturbed[i+1]) # different Y\n",
    "    axes[1].plot(lineXdata, lineYdata, color='red')\n",
    "\n",
    "\n",
    "axes[1].set_title('fitted model using perturbed training data')\n",
    "axes[1].set_xlabel('feature x_1')\n",
    "axes[1].set_ylabel('house price y')\n",
    "axes[1].legend()\n",
    "\n",
    "plt.show()\n",
    "plt.close('all') # clean up after using pyplot\n",
    "\n",
    "print(\"optimal weight w_opt by fitting to (training on) clean training data : \", reg.coef_)\n",
    "print(\"optimal weight w_opt by fitting to (training on) perturbed training data : \", reg1.coef_)\n"
   ]
  },
  {
   "cell_type": "markdown",
   "metadata": {
    "nbgrader": {
     "grade": false,
     "grade_id": "cell-2841c0fccc7c99a9",
     "locked": true,
     "schema_version": 1,
     "solution": false
    }
   },
   "source": [
    "## Using Different Loss Function \n",
    "\n",
    "We observe from the demo above that the resulting linear predictor is heavily affected by corrupting only one single data point. The reason for this sensitivity is rooted in the properties of the squared error loss function used by the class `LinearRegression()`. Indeed by using the loss $(\\hat{y} - y)^{2}$ we force the predictor $\\hat{y}$ to not be too far away from any data point with very large value $y$ of the true label. \n",
    "\n",
    "It turns out that using a different loss function to learn a linear predictor can make the learning robust against few outliers. One such robust loss function is known as \"Huber loss\" $\\mathcal{L}(\\hat{y},y)$. Given a data point with label $y$ and a predicted label $\\hat{y}=h(\\mathbf{x})$ the Huber loss is defined as \n",
    "$$\\mathcal{L}(y,\\hat{y}) = \\begin{cases} (1/2) (y-\\hat{y})^{2} & \\mbox{ for } |y-\\hat{y}| \\leq  c \\\\ \n",
    "c (|y-\\hat{y}| - c/2) & \\mbox{ else. }\\end{cases}$$\n",
    "\n",
    "Note that the Huber loss contains a parameter $c$ which has to be adapted to the application at hand. To learn a linear predictor $h(\\mathbf{x}) = \\mathbf{w}^{T} \\mathbf{x}$ which minimizes the average Huber loss over the labeled data points in the training set we can use the [`HuberRegressor()`](https://scikit-learn.org/stable/modules/generated/sklearn.linear_model.HuberRegressor.html) class.\n",
    "\n",
    "The Huber loss contains two important special cases. The first special case is obtained when $c$ is chosen very large (the precise value depending on the value range of the features and labels) such that the condition $|y-\\hat{y}| \\leq  c$ is always satisfied. In this case, the Huber loss becomes the squared error loss $(y-\\hat{y})^{2}$ (with an additional factor 1/2). The second special case is obtained for choosing $c$ very small (close to $0$) such that the condition $|y-\\hat{y}| \\leq  c$ is never satisfied. In this case, the Huber loss becomes the absolute loss $|y - \\hat{y}|$ scaled by a factor $c$."
   ]
  },
  {
   "cell_type": "markdown",
   "metadata": {
    "nbgrader": {
     "grade": false,
     "grade_id": "cell-cf09b243fb1ad685",
     "locked": true,
     "schema_version": 1,
     "solution": false
    }
   },
   "source": [
    "<a id='drawplot'></a>\n",
    "<div class=\" alert alert-info\"><b>Demo.</b> Squared Error and Huber Loss.\n",
    "\n",
    "The code below plots the squared error loss and the Huber loss for different choices of the parameter $c$. Note that the Huber loss reduces to the squared error loss for a sufficiently large value of the parameter $c$. \n",
    "</div>"
   ]
  },
  {
   "cell_type": "code",
   "execution_count": 11,
   "metadata": {
    "nbgrader": {
     "grade": false,
     "grade_id": "cell-958a4f6da62d6e21",
     "locked": true,
     "schema_version": 1,
     "solution": false
    }
   },
   "outputs": [
    {
     "data": {
      "image/png": "[encoded data removed]",
      "text/plain": [
       "<matplotlib.figure.Figure at 0x12dde2208>"
      ]
     },
     "metadata": {},
     "output_type": "display_data"
    }
   ],
   "source": [
    "# Author: Jake VanderPlas\n",
    "# License: BSD\n",
    "#   The figure produced by this code is published in the textbook\n",
    "#   \"Statistics, Data Mining, and Machine Learning in Astronomy\" (2013)\n",
    "#   For more information, see http://astroML.github.com\n",
    "#   To report a bug or issue, use the following forum:\n",
    "#    https://groups.google.com/forum/#!forum/astroml-general\n",
    "import numpy as np\n",
    "from matplotlib import pyplot as plt\n",
    "\n",
    "\n",
    "\n",
    "#------------------------------------------------------------\n",
    "# Define the Huber loss\n",
    "def Phi(t, c):\n",
    "    t = abs(t)\n",
    "    flag = (t > c)\n",
    "    return (~flag) * (0.5 * t ** 2) - (flag) * c * (0.5 * c - t)\n",
    "\n",
    "#------------------------------------------------------------\n",
    "# Plot for several values of c\n",
    "fig = plt.figure(figsize=(10, 3.75))\n",
    "ax = fig.add_subplot(111)\n",
    "\n",
    "x = np.linspace(-5, 5, 100)\n",
    "\n",
    "for c in (1,2,10):\n",
    "    y = Phi(x, c)\n",
    "    ax.plot(x, y, '-k')\n",
    "\n",
    "    if c > 10:\n",
    "        s = r'\\infty'\n",
    "    else:\n",
    "        s = str(c)\n",
    "\n",
    "    ax.text(x[6], y[6], '$c=%s$' % s,\n",
    "            ha='center', va='center',\n",
    "            bbox=dict(boxstyle='round', ec='k', fc='w'))\n",
    "\n",
    "ax.plot(x,np.square(x),label=\"squared loss\")\n",
    "\n",
    "ax.set_xlabel(r'$y - \\hat{y}$')\n",
    "ax.set_ylabel(r'loss $\\mathcal{L}(y,\\hat{y})$')\n",
    "ax.legend()\n",
    "plt.show()"
   ]
  },
  {
   "cell_type": "markdown",
   "metadata": {
    "nbgrader": {
     "grade": false,
     "grade_id": "cell-87c2d62347509737",
     "locked": true,
     "schema_version": 1,
     "solution": false
    }
   },
   "source": [
    "<a id='drawplot'></a>\n",
    "<div class=\" alert alert-info\">\n",
    "<p><b>Demo.</b> Robustness Against Outliers II.</p>\n",
    "\n",
    "<p>The code snippet below fits a linear model for house prices $y$ based on a single feature $x_{1}$ using the Huber loss. We also intentionally perturb the first data point by setting $y_{1}^{(1)}$ to an unreasonable value. Using this corrupted data set, we fit a linear model (under Huber loss) again and compare the so-obtained linear predictor to the linear predictor obtained from the \"clean\" data set.</p>\n",
    "</div>"
   ]
  },
  {
   "cell_type": "code",
   "execution_count": 12,
   "metadata": {
    "nbgrader": {
     "grade": false,
     "grade_id": "cell-53fc0a75788a46a8",
     "locked": true,
     "schema_version": 1,
     "solution": false
    }
   },
   "outputs": [
    {
     "name": "stderr",
     "output_type": "stream",
     "text": [
      "/usr/local/lib/python3.6/site-packages/sklearn/utils/validation.py:578: DataConversionWarning: A column-vector y was passed when a 1d array was expected. Please change the shape of y to (n_samples, ), for example using ravel().\n",
      "  y = column_or_1d(y, warn=True)\n"
     ]
    },
    {
     "data": {
      "image/png": "[encoded data removed]",
      "text/plain": [
       "<matplotlib.figure.Figure at 0x12b4bbfd0>"
      ]
     },
     "metadata": {},
     "output_type": "display_data"
    },
    {
     "name": "stdout",
     "output_type": "stream",
     "text": [
      "optimal weight w_opt by fitting on clean data :  [12.02887988]\n",
      "optimal weight w_opt by fitting on perturbed data :  [12.06336531]\n"
     ]
    }
   ],
   "source": [
    "from sklearn import linear_model\n",
    "from sklearn.linear_model import HuberRegressor\n",
    "\n",
    "X,y = GetFeaturesLabels(10,1)   # read in 10 data points with single feature x_1 and label y \n",
    "\n",
    "\n",
    "### fit a linear model (using Huber loss) to the clean data \n",
    "\n",
    "reg = HuberRegressor().fit(X, y)\n",
    "y_pred = reg.predict(X)\n",
    "\n",
    "# now we intentionaly perturb the label of the first data point \n",
    "\n",
    "y_perturbed = np.copy(y)  \n",
    "y_perturbed[0] = 1000; \n",
    "\n",
    "### fit a linear model (using Huber loss) to the perturbed data \n",
    "\n",
    "#reg1 = linear_model.LinearRegression(fit_intercept=False)\n",
    "reg1 = HuberRegressor().fit(X, y_perturbed)\n",
    "y_pred_perturbed = reg1.predict(X)\n",
    "\n",
    "\n",
    "fig, axes = plt.subplots(1, 2, figsize=(15, 4))\n",
    "axes[0].scatter(X, y, label='data')\n",
    "axes[0].plot(X, y_pred, color='green', label='Fitted model')\n",
    "\n",
    "\n",
    "# now add individual line for each error point\n",
    "axes[0].plot((X[0], X[0]), (y[0], y_pred[0]), color='red', label='errors') # add label to legend\n",
    "for i in range(len(X)-1):\n",
    "    lineXdata = (X[i+1], X[i+1]) # same X\n",
    "    lineYdata = (y[i+1], y_pred[i+1]) # different Y\n",
    "    axes[0].plot(lineXdata, lineYdata, color='red')\n",
    "\n",
    "\n",
    "axes[0].set_title('fitted model using clean data')\n",
    "axes[0].set_xlabel('feature x_1')\n",
    "axes[0].set_ylabel('house price y')\n",
    "axes[0].legend()\n",
    "\n",
    "axes[1].scatter(X, y_perturbed, label='data')\n",
    "axes[1].plot(X, y_pred_perturbed, color='green', label='Fitted model')\n",
    "\n",
    "\n",
    "# now add individual line for each error point\n",
    "axes[1].plot((X[0], X[0]), (y_perturbed[0], y_pred_perturbed[0]), color='red', label='errors') # add label to legend\n",
    "for i in range(len(X)-1):\n",
    "    lineXdata = (X[i+1], X[i+1]) # same X\n",
    "    lineYdata = (y_perturbed[i+1], y_pred_perturbed[i+1]) # different Y\n",
    "    axes[1].plot(lineXdata, lineYdata, color='red')\n",
    "\n",
    "\n",
    "axes[1].set_title('fitted model using perturbed data')\n",
    "axes[1].set_xlabel('feature x_1')\n",
    "axes[1].set_ylabel('house price y')\n",
    "axes[1].legend()\n",
    "\n",
    "plt.show()\n",
    "plt.close('all') # clean up after using pyplot\n",
    "\n",
    "print(\"optimal weight w_opt by fitting on clean data : \", reg.coef_)\n",
    "print(\"optimal weight w_opt by fitting on perturbed data : \", reg1.coef_)"
   ]
  },
  {
   "cell_type": "markdown",
   "metadata": {
    "nbgrader": {
     "grade": false,
     "grade_id": "cell-c0992d0c8d156b25",
     "locked": true,
     "schema_version": 1,
     "solution": false
    }
   },
   "source": [
    "<a id='varying_features'></a>\n",
    "<div class=\" alert alert-info\">\n",
    "    <p><b>Demo</b> Varying Number of Features with Huber Loss. </p>\n",
    "    \n",
    "In principle you can choose how many of the available features $x_{1}, x_{2},\\ldots,$ \n",
    "of a house you want to use to in order to predict the house price $y$. Let us now explore \n",
    "the effect of using a varying number $r$ of features on the resulting error and \n",
    "computational complexity (runtime). <br />\n",
    "\n",
    "In particular, for each $r=1,2,\\ldots,10$, the code snippet below fits a linear model under \n",
    "Huber loss to the house sales dataset (using $m=10$ data points) by using only the \n",
    "first $r$ features $x_{1},...,x_{r}$ of a house. \n",
    "<br />    \n",
    "- The first $r$ features and labels for the previously sold houses can be obtained using `GetFeaturesLabels(m,r)`.<br />\n",
    "- For each value of $r$, the computation time of the fitting method `HuberRegressor.fit()` and the resulting training error (using the Python function `mean_squared_error()`) of the fitted linear model. <br />\n",
    "- The results are stored in two vectors `linreg_time` (multiply by 1000 to get time in milliseconds) and `linreg_error`. \n",
    "\n",
    "</div>"
   ]
  },
  {
   "cell_type": "code",
   "execution_count": 13,
   "metadata": {
    "nbgrader": {
     "grade": false,
     "grade_id": "cell-e77bf5b72cac619d",
     "locked": true,
     "schema_version": 1,
     "solution": false
    }
   },
   "outputs": [
    {
     "name": "stderr",
     "output_type": "stream",
     "text": [
      "/usr/local/lib/python3.6/site-packages/sklearn/utils/validation.py:578: DataConversionWarning: A column-vector y was passed when a 1d array was expected. Please change the shape of y to (n_samples, ), for example using ravel().\n",
      "  y = column_or_1d(y, warn=True)\n"
     ]
    },
    {
     "data": {
      "image/png": "[encoded data removed]",
      "text/plain": [
       "<matplotlib.figure.Figure at 0x12dbe0668>"
      ]
     },
     "metadata": {},
     "output_type": "display_data"
    }
   ],
   "source": [
    "import time\n",
    "\n",
    "m = 10                            # we use 100 data points of the house sales database \n",
    "max_r = 10                        # maximum number of features used \n",
    "\n",
    "X,y = GetFeaturesLabels(m,max_r)  # read in 100 data points using 10 features \n",
    "\n",
    "linreg_time = np.zeros(max_r)     # vector for storing the exec. times of LinearRegresion.fit() for each r\n",
    "linreg_error = np.zeros(max_r)    # vector for storing the training error of LinearRegresion.fit() for each r\n",
    "\n",
    "\n",
    "for r in range(max_r):\n",
    "    reg_hub = HuberRegressor(fit_intercept=False) \n",
    "    start_time = time.time()\n",
    "    reg_hub = reg_hub.fit(X[:,:(r+1)], y)\n",
    "    end_time = (time.time() - start_time)*1000\n",
    "    linreg_time[r] = end_time\n",
    "    pred = reg_hub.predict(X[:,:(r+1)])\n",
    "    linreg_error[r] = mean_squared_error(y, pred)\n",
    "\n",
    "plot_x = np.linspace(1, max_r, max_r, endpoint=True)\n",
    "fig, axes = plt.subplots(nrows=1, ncols=2, figsize=(8, 4))\n",
    "axes[0].plot(plot_x, linreg_error, label='MSE', color='red')\n",
    "axes[1].plot(plot_x, linreg_time, label='time', color='green')\n",
    "axes[0].set_xlabel('features')\n",
    "axes[0].set_ylabel('empirical error')\n",
    "axes[1].set_xlabel('features')\n",
    "axes[1].set_ylabel('Time (ms)')\n",
    "axes[0].set_title('training error vs number of features')\n",
    "axes[1].set_title('computation time vs number of features')\n",
    "axes[0].legend()\n",
    "axes[1].legend()\n",
    "plt.tight_layout()\n",
    "plt.show()"
   ]
  },
  {
   "cell_type": "markdown",
   "metadata": {
    "nbgrader": {
     "grade": false,
     "grade_id": "cell-a62472a3ab8f38a5",
     "locked": true,
     "schema_version": 1,
     "solution": false
    }
   },
   "source": [
    "## Take Home Quiz\n",
    "\n",
    "Try to answer the following questions by setting the `answer_R2_Q??` \n",
    "variable for each question to the number of the correct answer. E.g. if you think that the second answer in the first quiz question is the right one, then set `answer_R2_Q1=2`. "
   ]
  },
  {
   "cell_type": "markdown",
   "metadata": {
    "nbgrader": {
     "grade": false,
     "grade_id": "cell-e611768d73f86fa7",
     "locked": true,
     "schema_version": 1,
     "solution": false
    }
   },
   "source": [
    "<a id='QuestionR2_1'></a>\n",
    "<div class=\" alert alert-warning\">\n",
    "    <p><b>Student Task.</b> Question R2.1. </p>\n",
    "\n",
    " <p>When is a machine learning problem called a regression problem ?</p>\n",
    "\n",
    "<ol>\n",
    "  <li> When the data is stored in a SQL database.</li>\n",
    "  <li> When the method uses video data.  </li>\n",
    "  <li> When the quantity of interest (the label) is a numeric quantity. </li>\n",
    "  <li> When the quantity of interest (the label) is a binary variable (e.g. either equal to 0 or equal to 1). </li>\n",
    "</ol> \n",
    "\n",
    "</div>"
   ]
  },
  {
   "cell_type": "code",
   "execution_count": 14,
   "metadata": {
    "nbgrader": {
     "grade": false,
     "grade_id": "cell-9d35a0850eda0752",
     "locked": false,
     "schema_version": 1,
     "solution": true
    }
   },
   "outputs": [],
   "source": [
    "# answer_Q1\n",
    "\n",
    "# answer_R2_Q1  = ...\n",
    "### BEGIN SOLUTION\n",
    "answer_R2_Q1 = 3\n",
    "### END SOLUTION"
   ]
  },
  {
   "cell_type": "code",
   "execution_count": 15,
   "metadata": {
    "nbgrader": {
     "grade": true,
     "grade_id": "cell-43ad391c8e33387a",
     "locked": true,
     "points": 1,
     "schema_version": 1,
     "solution": false
    }
   },
   "outputs": [
    {
     "name": "stdout",
     "output_type": "stream",
     "text": [
      "Sanity check tests passed!\n"
     ]
    }
   ],
   "source": [
    "# test cell, please don't remove.\n",
    "\n",
    "assert answer_R2_Q1 in [1, 2, 3, 4], '\"answer_R2_Q1\" Value should be an integer between 1 and 4.'\n",
    "print('Sanity check tests passed!')\n",
    "\n",
    "### BEGIN HIDDEN TESTS\n",
    "assert answer_R2_Q1 in [1, 2, 3, 4], 'Value should be an integer between 1 and 4.'\n",
    "assert answer_R2_Q1 == 3, ' \"answer_R2_Q1\" Correct answer is 4.'\n",
    "### END HIDDEN TESTS"
   ]
  },
  {
   "cell_type": "markdown",
   "metadata": {
    "nbgrader": {
     "grade": false,
     "grade_id": "cell-f98434b12dacd59b",
     "locked": true,
     "schema_version": 1,
     "solution": false
    }
   },
   "source": [
    "<a id='QuestionR2_2'></a>\n",
    "<div class=\" alert alert-warning\">\n",
    "    <p><b>Student Task.</b> Question R2.2.</p>\n",
    "    <p> What is the effect of using more features for learning (fitting) a linear predictor via minimizing the average squared error on training data?</p>\n",
    "    <ol>\n",
    "      <li> The training error decreases. </li>\n",
    "      <li> The training error increases. </li>\n",
    "      <li> The training error does not depend on the number of features. </li>\n",
    "    </ol> \n",
    "</div>"
   ]
  },
  {
   "cell_type": "code",
   "execution_count": 16,
   "metadata": {
    "nbgrader": {
     "grade": false,
     "grade_id": "cell-c6d81be6a121716c",
     "locked": false,
     "schema_version": 1,
     "solution": true
    }
   },
   "outputs": [],
   "source": [
    "# answer_Q2\n",
    "\n",
    "# answer_R2_Q2  = ...\n",
    "### BEGIN SOLUTION\n",
    "answer_R2_Q2 = 1\n",
    "### END SOLUTION"
   ]
  },
  {
   "cell_type": "code",
   "execution_count": 17,
   "metadata": {
    "nbgrader": {
     "grade": true,
     "grade_id": "cell-a0269c3b1e477408",
     "locked": true,
     "points": 1,
     "schema_version": 1,
     "solution": false
    }
   },
   "outputs": [
    {
     "name": "stdout",
     "output_type": "stream",
     "text": [
      "Sanity check tests passed!\n"
     ]
    }
   ],
   "source": [
    "# test cell, please don't remove.\n",
    "\n",
    "assert answer_R2_Q2 in [1, 2, 3], '\"answer_R2_Q2\" Value should be an integer between 1 and 3.'\n",
    "print('Sanity check tests passed!')\n",
    "\n",
    "### BEGIN HIDDEN TESTS\n",
    "assert answer_R2_Q2 in [1, 2, 3], 'Value should be an integer between 1 and 3.'\n",
    "assert answer_R2_Q2 == 1, '\"answer_R2_Q2\" Correct answer is 3.'\n",
    "### END HIDDEN TESTS"
   ]
  },
  {
   "cell_type": "markdown",
   "metadata": {
    "nbgrader": {
     "grade": false,
     "grade_id": "cell-02646ec2841586e2",
     "locked": true,
     "schema_version": 1,
     "solution": false
    }
   },
   "source": [
    "<a id='QuestionR2_3'></a>\n",
    "<div class=\" alert alert-warning\">\n",
    "    <p><b>Student Task.</b> Question R2.3.</p>\n",
    "    <p> What is the effect of adding more data points to the training data when using linear predictors and the squared error loss?</p>\n",
    "    <ol>\n",
    "      <li> The training error always decreases when adding more data points to the training set.  </li>\n",
    "      <li> The training error might increase when adding more data points to the training set.  </li>\n",
    "    </ol> \n",
    "</div>"
   ]
  },
  {
   "cell_type": "code",
   "execution_count": 18,
   "metadata": {
    "nbgrader": {
     "grade": false,
     "grade_id": "cell-1f5ce374962033e7",
     "locked": false,
     "schema_version": 1,
     "solution": true
    }
   },
   "outputs": [],
   "source": [
    "# answer_Q3\n",
    "\n",
    "# answer_R2_Q3  = ...\n",
    "### BEGIN SOLUTION\n",
    "answer_R2_Q3 = 2\n",
    "### END SOLUTION"
   ]
  },
  {
   "cell_type": "code",
   "execution_count": 19,
   "metadata": {
    "nbgrader": {
     "grade": true,
     "grade_id": "cell-1bf8dff2ceba3115",
     "locked": true,
     "points": 1,
     "schema_version": 1,
     "solution": false
    }
   },
   "outputs": [
    {
     "name": "stdout",
     "output_type": "stream",
     "text": [
      "Sanity check tests passed!\n"
     ]
    }
   ],
   "source": [
    "# test cell, please don't remove.\n",
    "\n",
    "assert answer_R2_Q3 in [1, 2], '\"answer_R2_Q3\" Value should be an integer between 1 and 2.'\n",
    "print('Sanity check tests passed!')\n",
    "\n",
    "### BEGIN HIDDEN TESTS\n",
    "assert answer_R2_Q3 in [1, 2], 'Value should be an integer between 1 and 2.'\n",
    "assert answer_R2_Q3 == 2, '\"answer_R2_Q3\" Correct answer is 1.'\n",
    "### END HIDDEN TESTS"
   ]
  },
  {
   "cell_type": "markdown",
   "metadata": {
    "nbgrader": {
     "grade": false,
     "grade_id": "cell-5c750f08c418572f",
     "locked": true,
     "schema_version": 1,
     "solution": false
    }
   },
   "source": [
    "<a id='QuestionR2_4'></a>\n",
    "<div class=\" alert alert-warning\">\n",
    "    <p><b>Student Task.</b> Question R2.4.</p>\n",
    "    <p> How does the resulting regression method differ when using either squared error or Huber loss?</p>\n",
    "    <ol>\n",
    "      <li> Using Huber loss makes the resulting method more robust against outliers, i.e., the learned predictor does not vary too much if a few training data points are perturbed.  </li>\n",
    "      <li> Using squared error loss makes the resulting method more robust against outliers.  </li>\n",
    "      <li> Minimizing the average Huber loss always requires much less computing time than minimizing the squared error loss.  </li>\n",
    "    </ol> \n",
    "</div>"
   ]
  },
  {
   "cell_type": "code",
   "execution_count": 20,
   "metadata": {
    "nbgrader": {
     "grade": false,
     "grade_id": "cell-f1395b9db09b190d",
     "locked": false,
     "schema_version": 1,
     "solution": true
    }
   },
   "outputs": [],
   "source": [
    "# answer_Q4\n",
    "\n",
    "# answer_R2_Q4  = ...\n",
    "### BEGIN SOLUTION\n",
    "answer_R2_Q4 = 1\n",
    "### END SOLUTION"
   ]
  },
  {
   "cell_type": "code",
   "execution_count": 21,
   "metadata": {
    "nbgrader": {
     "grade": true,
     "grade_id": "cell-f3f22d98a84a2e74",
     "locked": true,
     "points": 1,
     "schema_version": 1,
     "solution": false
    }
   },
   "outputs": [
    {
     "name": "stdout",
     "output_type": "stream",
     "text": [
      "Sanity check tests passed!\n"
     ]
    }
   ],
   "source": [
    "# test cell, please don't remove.\n",
    "\n",
    "assert answer_R2_Q4 in [1, 2, 3], '\"answer_R2_Q4\" Value should be an integer between 1 and 3.'\n",
    "print('Sanity check tests passed!')\n",
    "\n",
    "### BEGIN HIDDEN TESTS\n",
    "assert answer_R2_Q4 in [1,2,3], 'Value should be an integer between 1 and 3.'\n",
    "assert answer_R2_Q4 == 1, '\"answer_R2_Q4\" Correct answer is 1.'\n",
    "### END HIDDEN TESTS"
   ]
  }
 ],
 "metadata": {
  "celltoolbar": "Create Assignment",
  "kernelspec": {
   "display_name": "Python 3",
   "language": "python",
   "name": "python3"
  },
  "language_info": {
   "codemirror_mode": {
    "name": "ipython",
    "version": 3
   },
   "file_extension": ".py",
   "mimetype": "text/x-python",
   "name": "python",
   "nbconvert_exporter": "python",
   "pygments_lexer": "ipython3",
   "version": "3.7.4"
  },
  "varInspector": {
   "cols": {
    "lenName": 16,
    "lenType": 16,
    "lenVar": 40
   },
   "kernels_config": {
    "python": {
     "delete_cmd_postfix": "",
     "delete_cmd_prefix": "del ",
     "library": "var_list.py",
     "varRefreshCmd": "print(var_dic_list())"
    },
    "r": {
     "delete_cmd_postfix": ") ",
     "delete_cmd_prefix": "rm(",
     "library": "var_list.r",
     "varRefreshCmd": "cat(var_dic_list()) "
    }
   },
   "types_to_exclude": [
    "module",
    "function",
    "builtin_function_or_method",
    "instance",
    "_Feature"
   ],
   "window_display": false
  }
 },
 "nbformat": 4,
 "nbformat_minor": 2
}
