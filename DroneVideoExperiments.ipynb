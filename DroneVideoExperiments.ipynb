{
 "cells": [
  {
   "cell_type": "code",
   "execution_count": null,
   "metadata": {},
   "outputs": [],
   "source": [
    "import numpy as np\n",
    "import pylab\n",
    "import imageio\n",
    "import scipy.misc\n",
    "from PIL import Image\n",
    "\n",
    "filename = 'SmallVideo.mp4'\n",
    "vid = imageio.get_reader(filename,  'ffmpeg')\n",
    "nums = [100]\n",
    "for num in nums:\n",
    "    image = vid.get_data(num)\n",
    "    test = np.asarray(image)\n",
    "    fig = pylab.figure()\n",
    "    fig.suptitle('image #{}'.format(num), fontsize=20)\n",
    "    pylab.imshow(image)\n",
    "pylab.show()\n",
    "pylab.savefig(\"test\")\n",
    "\n",
    "im = Image.fromarray(test)\n",
    "im.save(\"your_file.jpeg\")\n"
   ]
  },
  {
   "cell_type": "code",
   "execution_count": 3,
   "metadata": {},
   "outputs": [
    {
     "name": "stdout",
     "output_type": "stream",
     "text": [
      "(2160, 4096, 3)\n"
     ]
    }
   ],
   "source": [
    "print(test.shape)"
   ]
  },
  {
   "cell_type": "code",
   "execution_count": null,
   "metadata": {},
   "outputs": [],
   "source": [
    "from sklearn.cluster import KMeans\n",
    "import numpy as np\n",
    "import matplotlib.pyplot as plt\n",
    "import matplotlib.image as mpimg\n",
    "\n",
    "nr_clusters = 4    # nr of clusters we want to group the pixels into \n",
    "\n",
    "picture = test.reshape(-1,3)\n",
    "kmeans = KMeans(n_clusters=nr_clusters, random_state=0).fit(picture)\n",
    "\n",
    "pixel_cluster=kmeans.predict(picture)  # numpy array 'pixel_cluster' stores for each pixel the cluster it is assigned to\n",
    "\n",
    "\n",
    "masked_image = 0*picture \n",
    "masked_image[pixel_cluster==2,:] = picture[pixel_cluster==2,:]\n",
    "masked_image = masked_image.reshape(width,height,channels)\n",
    "\n",
    "plt.imshow(masked_image)\n",
    "plt.show()"
   ]
  },
  {
   "cell_type": "code",
   "execution_count": null,
   "metadata": {},
   "outputs": [],
   "source": []
  }
 ],
 "metadata": {
  "kernelspec": {
   "display_name": "Python 3",
   "language": "python",
   "name": "python3"
  },
  "language_info": {
   "codemirror_mode": {
    "name": "ipython",
    "version": 3
   },
   "file_extension": ".py",
   "mimetype": "text/x-python",
   "name": "python",
   "nbconvert_exporter": "python",
   "pygments_lexer": "ipython3",
   "version": "3.7.4"
  }
 },
 "nbformat": 4,
 "nbformat_minor": 2
}
