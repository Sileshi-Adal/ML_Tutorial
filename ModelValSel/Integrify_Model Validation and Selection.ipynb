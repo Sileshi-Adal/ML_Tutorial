{
 "cells": [
  {
   "cell_type": "markdown",
   "metadata": {
    "nbgrader": {
     "grade": false,
     "grade_id": "cell-97da75c1d52f0687",
     "locked": true,
     "schema_version": 3,
     "solution": false,
     "task": false
    }
   },
   "source": [
    "# Machine Learning with Python - Model Validation and Selection\n",
    "\n",
    "As we have seen in the previous rounds, machine learning (ML) methods combine particular choices for features, labels, hypothesis space (of predictor functions) and loss function (that measures the quality of a particular predictor function). See **Chapter 3** of the course book to see how many popular ML methods are obtained as particular combinations of some hypothesis space and some loss function. \n",
    "\n",
    "In principle, we can freely choose a hypothesis space (model) and loss function for a given ML problem. However, in practice we have to restrict the hypothesis space to a subset of predictor functions to cope with **limited  computational resources**. Since existing computing hard- and software is very efficient in implementing matrix operations, a popular choice for the hypothesis space is the subset of linear functions $h(\\mathbf{x})= \\mathbf{w}^{T} \\mathbf{x}$. Another important family of hypothesis spaces is obtained from decision trees. We have seen in Round 3 how sufficiently large decision trees allow to represent more complicated functions than linear functions. \n"
   ]
  },
  {
   "cell_type": "markdown",
   "metadata": {
    "nbgrader": {
     "grade": false,
     "grade_id": "cell-49483a7aad5aa158",
     "locked": true,
     "schema_version": 3,
     "solution": false,
     "task": false
    }
   },
   "source": [
    "## Learning goals\n",
    "\n",
    "\n",
    "In this exercise, you will learn a simple but powerful approach for choosing a \"good\" hypothesis space out of a set of alternatives. In particular, you will \n",
    "\n",
    "* learn that the training error is a poor quality measure for a hypothesis space \n",
    "* learn that the validation error is a more useful quality measure for a hypothesis space \n",
    "* learn how to choose between different hypothesis spaces (models) using the validation error\n",
    "* learn about regularization as a soft variant of model selection. \n",
    "\n",
    "## Relevant Sections in [Course Book](https://arxiv.org/abs/1805.05052)  \n",
    "\n",
    "Chapter 2; Chapter 6; Chapter 7\n",
    "\n",
    "## Background Material \n",
    "\n",
    "[Video lecture](https://www.youtube.com/watch?v=MyBSkmUeIEs) of Prof. Andrew Ng on model validation and selection."
   ]
  },
  {
   "cell_type": "markdown",
   "metadata": {
    "nbgrader": {
     "grade": false,
     "grade_id": "cell-90c66bf37e8ad022",
     "locked": true,
     "schema_version": 3,
     "solution": false,
     "task": false
    }
   },
   "source": [
    "## Introduction\n",
    "\n",
    "Consider a ML problem revolving around the prediction of a numeric quantity (label) $y \\in \\mathbb{R}$ based on some features $\\mathbf{x}=(x_{1},\\ldots,x_{n}) \\in \\mathbb{R}^{n}$ of a data point. At our disposal are some labeled data points which collect into the set $\\mathbb{X} = \\{ \\big( \\mathbf{x}^{(i)},y^{(i)}\\big)\\}$. Each data point is characterized by features $\\mathbf{x}^{(i)}$ and a label (quantity of interest) $y^{(i)}$. \n",
    "\n",
    "Assume we came up with some predictor $h(\\mathbf{x})$ which works extremely well on the dataset $\\mathbb{X}$,\n",
    "\\begin{equation}\n",
    "\\sum_{\\big(\\mathbf{x}^{(i)},y^{(i)}\\big) \\in \\mathbb{X}}\\big(y^{(i)} - \\underbrace{h(\\mathbf{x}^{(i)})}_{= \\hat{y}^{(i)}}\\big)^{2}\\approx 0.\n",
    "\\end{equation}\n",
    "\n",
    "Even if the predictor $h(\\mathbf{x})$ does exceptionally well on the data set $\\mathbb{X}$, we can not be sure that the method will work well on new data points (different from the data points in $\\mathbb{X}$). \n",
    "This is particularly true for ML methods that allow for highly complicated predictor functions $h(\\mathbf{x})$. Examples of highly complicated predictor functions are linear functions $h(\\mathbf{x}) = \\mathbf{w}^{T} \\mathbf{x} = \\sum_{r=1}^{n} x_{r} w_{r}$ using a large number of features $x_{1},\\ldots,x_{n}$ (the number $n$ of features is a measure of the complexity of the space of linear functions). It can be shown that if the number of features linear predictors on data points with $n$ features allows to perfectly fit any set of $m$ labels $y^{(i)}$ whenever $m \\leq n$. \n",
    "\n",
    "Another example for a vast hypothesis space is given by the set of all predictor functions that can be represented by a given deep neural network structure with billions of adjustable weights (each edge has one weight $w$ that can be tuned). When using an extremely large hypothesis space $\\mathcal{H}$, it is very likely that just by chance one finds a predictor function $h(\\cdot) \\in \\mathcal{H}$ that perfectly fits (reproduces) a given set of labeled data points (unless this dataset is VERY large). \n",
    "\n",
    "ML methods that perform well on training data due to memorization of the training data do not pick up any intrinsic relation between features $\\mathbf{x}$ and label $y$. Such a ML method merely overfits the training data and will not be able to **generalize well** to new data. \n",
    "\n",
    "In order to detect overfitting we need to implement some form of **validation**. The idea behind validation is quite simple: \n",
    "\n",
    "**Split the available labeled data points $\\mathbb{X}$ into two different subsets, a training set $\\mathbb{X}^{(t)}$ of size $m_{t}$ and a validation set $\\mathbb{X}^{(v)}$ of size $m_{v}$.** "
   ]
  },
  {
   "cell_type": "markdown",
   "metadata": {
    "nbgrader": {
     "grade": false,
     "grade_id": "cell-714536d18e8f3dff",
     "locked": true,
     "schema_version": 3,
     "solution": false,
     "task": false
    }
   },
   "source": [
    "<a id='splitTestandValidationfunction'></a>\n",
    "<div class=\" alert alert-info\">\n",
    "    <b>Demo.</b> Split Data into Training and Validation Set.\n",
    "\n",
    "The code snippet below creates a synthetic dataset of $m$ datapoints $(\\mathbf{x}^{(i)},y^{(i)}\\big)$. Each data point is characterized by the feature vector $\\mathbf{x}^{(i)}=\\big(x^{(i)}_{1},\\ldots,x_{n}^{(i)}\\big)^{T} \\in \\mathbb{R}^{n}$ and a numeric label $y^{(i)} \\in \\mathbb{R}$. The feature vectors are stored in the rows of the matrix $\\mathbf{X}\\in \\mathbb{R}^{m \\times n}$. The labels are collected into the vector $\\mathbf{y}=\\big(y^{(1)},\\ldots,y^{(m)}\\big)^{T} \\in \\mathbb{R}^{m}$. \n",
    "\n",
    "The Python library `scikit-learn` provides the function \n",
    "\n",
    "`X_train, X_test, y_train, y_test=train_test_split(X, y, test_size=0.2, random_state=2)` \n",
    "\n",
    "which can be used to split a dataset into training and validation set. The function reads in the feature vectors in the numpy array `X` of shape ($m,n$) and the labels in the numpy array `y` of shape ($m,1$). \n",
    "\n",
    "The function returns numpy arrays `X_train` of shape ($m_{t},n$), `X_val`of shape ($m_{v},n$), `y_train` of shape ($m_{t},1$) and `y_val` of shape ($m_{v},1$). The input parameter `test_size` specifies the relative size $m_{v}/m$ of the validation set. When using `test_size=0.2`, $20 \\%$ of the original data points are used for the validation set and the and the remaining $80 \\%$ in the training set.\n",
    "\n",
    "[Python Documentation](https://scikit-learn.org/stable/modules/generated/sklearn.model_selection.train_test_split.html)\n",
    "</div>"
   ]
  },
  {
   "cell_type": "code",
   "execution_count": 1,
   "metadata": {
    "nbgrader": {
     "grade": false,
     "grade_id": "cell-b8b4f6fb62eef46b",
     "locked": true,
     "schema_version": 3,
     "solution": false,
     "task": false
    }
   },
   "outputs": [
    {
     "name": "stderr",
     "output_type": "stream",
     "text": [
      "/usr/local/lib/python3.6/site-packages/matplotlib/figure.py:418: UserWarning: matplotlib is currently using a non-GUI backend, so cannot show the figure\n",
      "  \"matplotlib is currently using a non-GUI backend, \"\n"
     ]
    }
   ],
   "source": [
    "# Import libraries\n",
    "from sklearn.preprocessing import StandardScaler\n",
    "from sklearn.datasets import load_boston\n",
    "import matplotlib.pyplot as plt\n",
    "import seaborn as sns\n",
    "import pandas as pd\n",
    "import numpy as np\n",
    "from sklearn.model_selection import train_test_split # Import train_test_split function\n",
    "from sklearn import metrics\n",
    "\n",
    "m = 20 \n",
    "n = 10 \n",
    "\n",
    "X = np.random.randn(m,n)   # create feature vectors using random numbers\n",
    "y = np.random.randn(m,1)   # create labels using random numbers \n",
    "X_train, X_val, y_train, y_val = train_test_split(X, y, test_size=0.2, random_state=2) # 80% training and 20% test\n",
    "\n",
    "plt.rc('legend', fontsize=20) \n",
    "plt.rc('axes', labelsize=20) \n",
    "fig1, axes1 = plt.subplots(figsize=(15, 5))\n",
    "axes1.scatter(X[:, 0], X[:, 1], c='g', s=200,marker ='x', label='original dataset')\n",
    "axes1.legend(loc='best')\n",
    "axes1.set_xlabel('feature x1')\n",
    "axes1.set_ylabel('feature x2')\n",
    "\n",
    "fig2, axes2 = plt.subplots(figsize=(15, 5))\n",
    "axes2.scatter(X_train[:, 0], X_train[:, 1], c='g', s=200,marker ='o', label='training set')\n",
    "axes2.scatter(X_val[:, 0], X_val[:, 1], c='brown', s=200,marker ='s', label='validation set')\n",
    "axes2.legend(loc='best')\n",
    "axes2.set_xlabel('feature x1')\n",
    "axes2.set_ylabel('feature x2')\n",
    "\n",
    "\n",
    "fig2.show()\n"
   ]
  },
  {
   "cell_type": "markdown",
   "metadata": {
    "nbgrader": {
     "grade": false,
     "grade_id": "cell-d82c01565964839f",
     "locked": true,
     "schema_version": 3,
     "solution": false,
     "task": false
    }
   },
   "source": [
    "The training set $\\mathbb{X}^{(t)}$ is used to learn the optimal predictor $h_{\\rm opt} \\in \\mathcal{H}$ out of the hypothesis space: \n",
    "\\begin{equation} \n",
    "h_{\\rm opt}  = {\\rm argmin}_{h \\in \\mathcal{H}} \\sum_{\\big(\\mathbf{x}^{(i)},y^{(i)}\\big) \\in \\mathbb{X}^{(t)}} \\big(y^{(i)} - \\underbrace{h(\\mathbf{x}^{(i)})}_{= \\hat{y}^{(i)}}\\big)^{2}. \n",
    "\\end{equation} \n",
    "The minimum objective value of this optimization problem is the **training error** \n",
    "\\begin{equation}\n",
    "E_{\\rm train} = (1/m_{t}) \\sum_{\\big(\\mathbf{x}^{(i)},y^{(i)}\\big) \\in \\mathbb{X}^{(t)}} \\big(y^{(i)} - h_{\\rm opt}(\\mathbf{x}^{(i)})\\big)^{2}.\n",
    "\\end{equation} \n",
    "Note that the training error $E_{\\rm train}$ measures the performance of the predictor $h_{\\rm opt}$ on the same data points $\\mathbb{X}^{(t)}$ which have been used to tune (learn) $h_{\\rm opt}$. Therefore, the training error $E_{\\rm train}$ is too **optimistic** as an estimate for the average error (or loss) of $h_{\\rm opt}$ on new data points which are different from $\\mathbb{X}^{(t)}$. \n",
    "\n",
    "To estimate the error incurred by $h_{\\rm opt}$ on new data points, we calculate the average loss incurred by $h_{\\rm opt}$ on the validation set $\\mathbb{X}^{(v)}$. This yields the **validation error**\n",
    "\\begin{equation}\n",
    "E_{\\rm val} = (1/m_{v}) \\sum_{\\big(\\mathbf{x}^{(i)},y^{(i)}\\big) \\in \\mathbb{X}^{(v)}} \\big(y^{(i)} - h_{\\rm opt}(\\mathbf{x}^{(i)})\\big)^{2}. \n",
    "\\end{equation}\n",
    "The validation error $E_{\\rm val}$ is a much better estimate for the average error (or loss) of the predictor $h_{\\rm opt}$. \n",
    "\n",
    "The training error $E_{\\rm train}$ provides a quality measure for the particular predictor $h_{\\rm opt}$. In contrast, the validation error $E_{\\rm val}$ provides a quality measure for the entire hypothesis space $\\mathcal{H}$. Therefore, we can use the validation error for **model selection**. We choose the best hypothesis space $\\mathcal{H}$ out of a set of alternative hypothesis spaces $\\mathcal{H}^{(1)},\\mathcal{H}^{(2)},\\ldots$ according to the corresponding validation errors $E_{\\rm val}(1),E_{\\rm val}(2),\\ldots$."
   ]
  },
  {
   "cell_type": "markdown",
   "metadata": {
    "nbgrader": {
     "grade": false,
     "grade_id": "cell-de358afd2c4fac99",
     "locked": true,
     "schema_version": 3,
     "solution": false,
     "task": false
    }
   },
   "source": [
    "## The Problem \n",
    "\n",
    "The concept of model validation and selection is best understood by working through a particular example. To this end, we revisit the problem of predicting the price of a house (or real estate object). In **Round 2 - Regression**, we have formalized house price prediction as a ML problem with \n",
    "\n",
    "1. **data points** which represent houses (or \"real estate objects\"). Each data point is characterized by features $\\mathbf{x} = (x_{1},\\ldots,x_{n}) \\in \\mathbb{R}^{n}$ such as number of rooms, etc. Moreover, we define the price of a house as the label $y$ of a data point. Note that the label $y \\in \\mathbb{R}$ is only known for previous house sales! \n",
    "\n",
    "2. a **hypothesis space** $\\mathcal{H}$ consisting of predictor functions $h: \\mathbb{R}^{n} \\rightarrow \\mathbb{R}$ from features $\\mathbf{x} \\in \\mathbb{R}^{n}$ to a predicted price $\\hat{y}=h(\\mathbf{x})\\in \\mathbb{R}$ and \n",
    "\n",
    "3. a **loss function**, such as squared error loss, which measures the quality of a predictor. "
   ]
  },
  {
   "cell_type": "markdown",
   "metadata": {
    "nbgrader": {
     "grade": false,
     "grade_id": "cell-3d2949507bb9fa14",
     "locked": true,
     "schema_version": 3,
     "solution": false,
     "task": false
    }
   },
   "source": [
    "<a id='handsondata'></a>\n",
    "<div class=\" alert alert-info\">\n",
    "<p><b>Demo.</b> Loading the Data.</p>\n",
    "    \n",
    "The following code snippet defines a function `X,y= GetFeaturesLabels(m,n)` which reads in data points representing previous house sales. Each of these data points is charactized by a feature vector $\\mathbf{x}^{(i)}$ and the label $y^{(i)}$.\n",
    "\n",
    "The input parameters of the function `GetFeaturesLabels(m,n)` are the number `m` of data points and the number `n` of features to be used for each data point. The function returns a matrix $\\mathbf{X}$ and vector $\\mathbf{y}$. \n",
    "\n",
    "The features $\\mathbf{x}^{(i)} \\in \\mathbb{R}^{n}$ for the sold houses are stored in the rows of the feature matrix $\\mathbf{X} = \\begin{pmatrix} \\mathbf{x}^{(1)} & \\ldots & \\mathbf{x}^{(m)} \\end{pmatrix}^{T}$ which is represented by a numpy array `X` of shape (m,n). The corresponding selling prices are collected in the vector $\\mathbf{y}=\\big(y^{(1)},\\ldots,y^{(m)}\\big)^{T}$ represented by the numpy array `y` of shape (m,1). \n",
    "\n",
    "</div>"
   ]
  },
  {
   "cell_type": "code",
   "execution_count": 2,
   "metadata": {
    "nbgrader": {
     "grade": false,
     "grade_id": "cell-5e47aca8cdac9893",
     "locked": true,
     "schema_version": 3,
     "solution": false,
     "task": false
    }
   },
   "outputs": [],
   "source": [
    "def GetFeaturesLabels(m=20, n=10):\n",
    "\n",
    "    house_dataset = load_boston()           # load some house sales data \n",
    "    house = pd.DataFrame(house_dataset.data, columns=house_dataset.feature_names) \n",
    "    x1 = house['RM'].values.reshape(-1,1)   # vector whose entries are the average room numbers for each sold houses\n",
    "    x2 = house['NOX'].values.reshape(-1,1)  # vector whose entries are the nitric oxides concentration for sold houses\n",
    "\n",
    "\n",
    "    x1 = x1[0:m]         # choose first feature of first m data points from the database \n",
    "    x2 = x2[0:m]         # choose second feature of first m data pionts from the database\n",
    "    np.random.seed( 15 )\n",
    "    X = np.hstack((x1,x2,np.random.randn(n,m).T)) # add some \"extra\" features, maybe it helps :-) \n",
    "    \n",
    "    X = X[:,0:n]      # some reshaping of the numpy arrays \n",
    "\n",
    "    y = house_dataset.target.reshape(-1,1)  # creates a vector whose entries are the labels for each sold house\n",
    "    y = y[0:m]       # chosse labels of first m data points in the database \n",
    "    \n",
    "    \n",
    "    \n",
    "    scaler = StandardScaler().fit(X)\n",
    "    X = scaler.transform(X)          # normalize feature values to standard value range \n",
    "    scaler = StandardScaler().fit(y)\n",
    "    y = scaler.transform(y)\n",
    "    \n",
    "    return X, y\n"
   ]
  },
  {
   "cell_type": "markdown",
   "metadata": {
    "nbgrader": {
     "grade": false,
     "grade_id": "cell-ddfcf8b06137c570",
     "locked": true,
     "schema_version": 3,
     "solution": false,
     "task": false
    }
   },
   "source": [
    "## Linear Predictors \n",
    "\n",
    "To predict the price $y$ of a house based on the first $r$ features (or characteristics) $\\mathbf{x}=(x_{1},\\ldots,x_{r})^{T} \\in \\mathbb{R}^{r}$, we try to find (or learn) a predictor function $h(\\mathbf{x})$ such that $y \\approx h(\\mathbf{x})$. We restrict ourselves to linear predictor functions. Thus, we use the hypothesis space \n",
    "$$ \\mathcal{H}^{(r)} = \\{ h(\\mathbf{x}) = \\mathbf{w}^{T} \\mathbf{x} \\mbox{ with some weight } \\mathbf{w}\\in \\mathbb{R}^{r} \\}.$$ \n",
    "Carefully note that for each value $r\\in \\{1,\\ldots,n\\}$, we obtain a different hypothesis space $\\mathcal{H}^{(r)}$. \n",
    "\n",
    "In order to find (learn) good choices for the weight vector $\\mathbf{w}$ we can minimize the average squared error loss on labeled data points in a training set $\\mathbb{X}^{(t)}$: \n",
    "\\begin{align}\\min_{h \\in \\mathcal{H}^{(r)}}  & \\sum_{\\big(\\mathbf{x}^{(i)},y^{(i)}\\big) \\in \\mathbb{X}^{(t)}}  (y^{(i)} - h(\\mathbf{x}^{(i)}) )^{2} \\nonumber \\\\ \n",
    "= \\min_{\\mathbf{w} \\in \\mathbb{R}^{r}} & \\sum_{\\big(\\mathbf{x}^{(i)},y^{(i)}\\big) \\in \\mathbb{X}^{(t)}}  \\big(y^{(i)} -  \\mathbf{w}^{T}\\mathbf{x}^{(i)}  \\big)^{2}.\n",
    "\\end{align}\n",
    "Solving this training problem provides us with optimal choices for weight vector $\\mathbf{w}$. \n",
    "However, we have another design parameter at our disposal: the number $r$ of features! While in our data base each house is characterized by $n$ features, we are free to use fewer e.g. only the first $r \\leq n$ of these features. \n",
    "\n",
    "What is the best choice for $r$? "
   ]
  },
  {
   "cell_type": "markdown",
   "metadata": {
    "nbgrader": {
     "grade": false,
     "grade_id": "cell-0399c961c185f2f3",
     "locked": true,
     "schema_version": 3,
     "solution": false,
     "task": false
    }
   },
   "source": [
    "## The Wrong Way \n",
    "\n",
    "At first sight it might seem reasonable to try out each hypothesis space $\\mathcal{H}^{(r)}$ on the training data $\\mathbb{X}^{(t)}$. For each $r=1,\\ldots,h,$ we learn the optimal predictor $h_{\\rm opt}^{(r)} \\in \\mathcal{H}^{(r)}$ by minimizing the average loss on the training set: \n",
    "\\begin{align} \n",
    "h_{\\rm opt}^{(r)} & = {\\rm argmin}_{h \\in \\mathcal{H}^{(r)}} (1/m_{t}) \\sum_{\\big(\\mathbf{x}^{(i)},y^{(i)}\\big) \\in \\mathbb{X}^{(t)}} \\big( y^{(i)}- h(\\mathbf{x}^{(i)}) \\big)^{2}. \n",
    "\\end{align} \n",
    "The corresponding training error is     \n",
    "\\begin{align} \n",
    "E_{\\rm train}(r) & = (1/m_{t}) \\sum_{\\big(\\mathbf{x}^{(i)},y^{(i)}\\big) \\in \\mathbb{X}^{(t)}} \\big( y^{(i)}- h_{\\rm opt}^{(r)}(\\mathbf{x}^{(i)}) \\big)^{2} \\nonumber \\\\ \n",
    "& = \\min_{h \\in \\mathcal{H}^{(r)}} (1/m_{t}) \\sum_{\\big(\\mathbf{x}^{(i)},y^{(i)}\\big) \\in \\mathbb{X}^{(t)}} \\big( y^{(i)}- h(\\mathbf{x}^{(i)}) \\big)^{2} \\nonumber \\\\ \n",
    "& = \\min_{\\mathbf{w} \\in \\mathbb{R}^{r}} (1/m_{t}) \\sum_{\\big(\\mathbf{x}^{(i)},y^{(i)}\\big) \\in \\mathbb{X}^{(t)}} \\big( y^{(i)}- \\mathbf{w}^{T} \\mathbf{x}^{(i)}  \\big)^{2} \\nonumber \\\\ \n",
    "& = \\min_{\\mathbf{w} \\in \\mathbb{R}^{r}} (1/m_{t}) \\sum_{\\big(\\mathbf{x}^{(i)},y^{(i)}\\big) \\in \\mathbb{X}^{(t)}} \\big( y^{(i)}- \\sum_{s=1}^{r}w_{s} x_{s}^{(i)}  \\big)^{2} \n",
    "\\end{align} \n",
    "It is tempting to choose the number $r$ of features according to the smallest training error $E_{\\rm train}(r)$. "
   ]
  },
  {
   "cell_type": "markdown",
   "metadata": {
    "nbgrader": {
     "grade": false,
     "grade_id": "cell-0aaf4cb2c4109eb2",
     "locked": true,
     "schema_version": 1,
     "solution": false
    }
   },
   "source": [
    "<a id='trainModel'></a>\n",
    "<div class=\" alert alert-info\">\n",
    "    <p><b>Demo.</b> Varying Number of Features </p>\n",
    "    \n",
    "The following code snippet computes the training error E(r) for each choice for the number r of features. For each particular value $r=1,\\ldots,n$, the best linear predictor $h(\\mathbf{x}) = \\mathbf{w}^{T} \\mathbf{x}$ is using the Python function `LinearRegression.fit()`\n",
    "\n",
    "[Documentation of Python function](https://scikit-learn.org/stable/modules/generated/sklearn.linear_model.LinearRegression.html) \n",
    "\n",
    "</div>    "
   ]
  },
  {
   "cell_type": "code",
   "execution_count": 3,
   "metadata": {
    "nbgrader": {
     "grade": false,
     "grade_id": "cell-acd5c9243afcd36f",
     "locked": true,
     "schema_version": 3,
     "solution": false,
     "task": false
    }
   },
   "outputs": [
    {
     "data": {
      "image/png": "[encoded data removed]",
      "text/plain": [
       "<matplotlib.figure.Figure at 0x10ea1fcf8>"
      ]
     },
     "metadata": {},
     "output_type": "display_data"
    },
    {
     "data": {
      "image/png": "[encoded data removed]",
      "text/plain": [
       "<matplotlib.figure.Figure at 0x121c52908>"
      ]
     },
     "metadata": {},
     "output_type": "display_data"
    }
   ],
   "source": [
    "import time\n",
    "from sklearn.linear_model import LinearRegression\n",
    "from sklearn.metrics import mean_squared_error\n",
    "\n",
    "m = 20                        # we use the first m=20 data points from the house sales database \n",
    "n = 10                        # maximum number of features used \n",
    "\n",
    "X,y = GetFeaturesLabels(m,n)  # read in m data points using n features \n",
    "linreg_error = np.zeros(n)    # vector for storing the training error of LinearRegresion.fit() for each r\n",
    "\n",
    "for r_minus_1 in range(n):  # loop over number of features r (minus 1)\n",
    "    reg = LinearRegression(fit_intercept=False)   # create an object for linear predictors\n",
    "    reg = reg.fit(X[:,:(r_minus_1 + 1)], y)                 # find best linear predictor (minimize training error)\n",
    "    pred = reg.predict(X[:,:(r_minus_1 + 1)])               # compute predictions of best predictors \n",
    "    linreg_error[r_minus_1] = mean_squared_error(y, pred) # compute training error \n",
    "\n",
    "plot_x = np.linspace(1, n, n, endpoint=True)      # plot_x contains grid points for x-axis\n",
    "\n",
    "# Plot training error E(r) as a function of feature number r\n",
    "plt.rc('legend', fontsize=12)\n",
    "plt.plot(plot_x, linreg_error, label='$E(r)$', color='red')\n",
    "plt.xlabel('# of features $r$')\n",
    "plt.ylabel('training error $E(r)$')\n",
    "plt.title('training error vs number of features')\n",
    "plt.legend()\n",
    "plt.show()"
   ]
  },
  {
   "cell_type": "markdown",
   "metadata": {
    "nbgrader": {
     "grade": false,
     "grade_id": "cell-4fba2c040fb160f3",
     "locked": true,
     "schema_version": 1,
     "solution": false
    }
   },
   "source": [
    "### Let's Interpret the Results!\n",
    "\n",
    "Based on the above plot, we could argue that we should choose the linear model with $r=10$ features, since this yields the lowest training error $E(r)$. **This reasoning is incorrect**, since our ultimate goal is to find a predictor for new data points (new real-estates). Our goal is not to reproduce accurately the prices of previous house sales! \n",
    "\n",
    "Using the training error $E_{\\rm train}(r)$ to assess the quality of the predictor $h_{\\rm opt}^{(r)}$ is misleading since $h_{\\rm opt}^{(r)}$ is based on the weight vector $\\mathbf{w}$ and intercept that is perfectly tuned to the training data $\\mathbb{X}^{(t)}$. Also, the more features (larger $r$) we use, the better we will be able to fit the training data $\\mathbb{X}^{(t)}$ (obtain smaller training error). However, this does not necessarily lead to better performance on new data. A complex model with too many features (large $r$) might only fit the training data very well, and generalize poorly to new data.\n",
    "\n",
    "Consider the case of $r=m_{\\rm train}$, i.e., the number of features is the same as the number of labeled data points in the training set. Under very mild conditions it can be shown that in this case there always exists a linear predictor $h(\\mathbf{x})=\\mathbf{w}^{T} \\mathbf{x}$ such that $y^{(i)} = h(\\mathbf{x}^{(i)})$, i.e., the training error is exactly zero (see Chapter 7.1 of the course book)! \n",
    "A better way to evaluate the quality of a predictor is presented next. "
   ]
  },
  {
   "cell_type": "markdown",
   "metadata": {
    "nbgrader": {
     "grade": false,
     "grade_id": "cell-8e508ee65304e99f",
     "locked": true,
     "schema_version": 3,
     "solution": false,
     "task": false
    }
   },
   "source": [
    "##  The Right Way\n",
    "\n",
    "The training error $E_{\\rm train}(r)$ is a bad measure for the quality of a hypothesis space $\\mathcal{H}^{(r)}$ since it will always favor larger spaces (larger number $r$ of features). A more useful measure for the quality of a hypothesis space $\\mathcal{H}^{(r)}$ is the validation error \n",
    "\\begin{equation}\n",
    "E_{\\rm val}(r) = (1/m_{v}) \\sum_{\\big(\\mathbf{x}^{(i)},y^{(i)}\\big) \\in \\mathbb{X}^{(v)}} \\big(y^{(i)} - h^{(r)}_{\\rm opt}(\\mathbf{x}^{(i)})\\big)^{2}. \n",
    "\\end{equation} \n",
    "Here, the predictor $h_{\\rm opt}$ is obtained by minimizing the training error over all linear predictors using $r$ features: \n",
    "\\begin{equation}\n",
    " h^{(r)}_{\\rm opt} = {\\rm argmin}_{h \\in \\mathcal{H}^{(r)}} (1/m_{t}) \\sum_{\\big(\\mathbf{x}^{(i)},y^{(i)}\\big) \\in \\mathbb{X}^{(t)}} \\big(y^{(i)} - h(\\mathbf{x}^{(i)})\\big)^{2}.\n",
    "\\end{equation}\n",
    "Since each predictor function $h \\in \\mathcal{H}^{(r)}$ is given by $h(\\mathbf{x}) = \\mathbf{w}^{T} \\mathbf{x}$ we can find the optimal predictor via the optimum weight and intercept \n",
    "\\begin{equation}\n",
    "\\mathbf{w}_{\\rm opt} = {\\rm argmin}_{\\mathbf{w}\\in \\mathbb{R}^{r}} (1/m_{t}) \\sum_{\\big(\\mathbf{x}^{(i)},y^{(i)}\\big) \\in \\mathbb{X}^{(t)}} \\big(y^{(i)} - \\mathbf{w}^{T} \\mathbf{x}^{(i)} \\big)^{2}. \n",
    "\\end{equation} "
   ]
  },
  {
   "cell_type": "markdown",
   "metadata": {
    "nbgrader": {
     "grade": false,
     "grade_id": "cell-8a7b319a106cbd05",
     "locked": true,
     "schema_version": 3,
     "solution": false,
     "task": false
    }
   },
   "source": [
    "<a id='splitTestandValidationfunction'></a>\n",
    "<div class=\" alert alert-warning\">\n",
    "    <b>Student Task.</b> Generate Training and Validation Set.\n",
    "   \n",
    "Use the `scikit-learn` library function `train_test_split()` to split the data points obtained from the function `GetFeaturesLabels` into a training and validation set. The function should be used with the choice `random_state=2` and `test_size=0.2`. \n",
    "</div>"
   ]
  },
  {
   "cell_type": "code",
   "execution_count": 4,
   "metadata": {
    "nbgrader": {
     "grade": false,
     "grade_id": "cell-9cc67382efb4ce19",
     "locked": false,
     "schema_version": 1,
     "solution": true
    }
   },
   "outputs": [],
   "source": [
    "from sklearn.model_selection import train_test_split # Import train_test_split function\n",
    "\n",
    "m = 20                        # we use the first m=20 data points from the house sales database \n",
    "n = 10                        # maximum number of features used \n",
    "\n",
    "X,y = GetFeaturesLabels(m,n)  # read in m data points using n features \n",
    "\n",
    "### STUDENT TASK ###\n",
    "# Compute the training and validation sets\n",
    "# X_train, X_val, y_train, y_val = ...\n",
    "### BEGIN SOLUTION\n",
    "X_train, X_val, y_train, y_val = train_test_split(X, y, test_size=0.2, random_state=2) # 80% training and 20% test\n",
    "### END SOLUTION"
   ]
  },
  {
   "cell_type": "code",
   "execution_count": 5,
   "metadata": {
    "nbgrader": {
     "grade": true,
     "grade_id": "cell-2fbabdcefb77f271",
     "locked": true,
     "points": 1,
     "schema_version": 3,
     "solution": false,
     "task": false
    }
   },
   "outputs": [
    {
     "name": "stdout",
     "output_type": "stream",
     "text": [
      "Sanity checks passed!\n"
     ]
    }
   ],
   "source": [
    "# Check dimensions of train and validation vectors\n",
    "\n",
    "assert len(X_train) == (16), \"The 'x_train' vector has the wrong length\"\n",
    "assert len(y_train) == (16), \"The 'y_train' vector has the wrong length\"\n",
    "assert len(X_val) == (4),   \"The 'x_val' vector has the wrong length\"\n",
    "assert len(y_val) == (4), \"The 'y_val' vector has the wrong length\"\n",
    "print('Sanity checks passed!')"
   ]
  },
  {
   "cell_type": "markdown",
   "metadata": {
    "nbgrader": {
     "grade": false,
     "grade_id": "cell-428dadef568d5aef",
     "locked": true,
     "schema_version": 3,
     "solution": false,
     "task": false
    }
   },
   "source": [
    "<a id='trainValErrorsfunction'></a>\n",
    "<div class=\" alert alert-warning\">\n",
    "    <b>Student Task.</b> Compute Training and Validation Error. \n",
    "\n",
    "Compute the training error and validation error for each choice of $r=1,\\ldots,n$. The training errors should be stored in a numpy array `err_train` of shape (n,1) and the validation errors should be stored in the numpy array `err_val` of shape (n,1). The first entries of `err_train` and `err_val` should be $E_{\\rm train}(1)$ and $E_{\\rm val}(1)$. \n",
    "\n",
    "Store the optimum number $r$ of features (such that the validation error is smallest) in the variable `best_model`. \n",
    "\n",
    "Hint: you can determine the index of the smallest entry in a numpy array using `np.argmin()` [see documentation](https://docs.scipy.org/doc/numpy-1.15.1/reference/generated/numpy.argmin.html)\n",
    "</div>"
   ]
  },
  {
   "cell_type": "code",
   "execution_count": 6,
   "metadata": {
    "nbgrader": {
     "grade": false,
     "grade_id": "cell-7791084dee96529b",
     "locked": false,
     "schema_version": 3,
     "solution": true,
     "task": false
    }
   },
   "outputs": [
    {
     "name": "stdout",
     "output_type": "stream",
     "text": [
      "2\n"
     ]
    }
   ],
   "source": [
    "err_train = np.zeros([n,1]) \n",
    "err_val = np.zeros([n,1])\n",
    "    \n",
    "\n",
    "for r_minus_1 in range(n):\n",
    "### STUDENT TASK ###\n",
    "### BEGIN SOLUTION\n",
    "    lin_reg = LinearRegression(fit_intercept=False)\n",
    "    lin_reg = lin_reg.fit(X_train[:,:(r_minus_1+1)], y_train)\n",
    "    w_opt = lin_reg.coef_\n",
    "    y_pred_train = lin_reg.predict(X_train[:,:(r_minus_1+1)])\n",
    "    err_train[r_minus_1] = mean_squared_error(y_train, y_pred_train)\n",
    "    y_pred_val = lin_reg.predict(X_val[:,:(r_minus_1+1)])\n",
    "    err_val[r_minus_1] = mean_squared_error(y_val, y_pred_val)\n",
    "### END SOLUTION\n",
    "\n",
    "\n",
    "# best_model = ...\n",
    "### BEGIN SOLUTION\n",
    "best_model = np.argmin(err_val)+1\n",
    "print(best_model)\n",
    "### END SOLUTION\n"
   ]
  },
  {
   "cell_type": "code",
   "execution_count": 7,
   "metadata": {
    "nbgrader": {
     "grade": true,
     "grade_id": "cell-c1430b345ba97bfc",
     "locked": true,
     "points": 3,
     "schema_version": 3,
     "solution": false,
     "task": false
    },
    "scrolled": true
   },
   "outputs": [
    {
     "name": "stdout",
     "output_type": "stream",
     "text": [
      "(10, 1)\n",
      "Sanity checks passed!\n"
     ]
    }
   ],
   "source": [
    "# Some sanity checks \n",
    "print(err_train.shape)\n",
    "assert err_train.shape == (n,1), \"numpy array err_train has wrong shape\"\n",
    "assert err_val.shape == (n,1), \"numpy array err_val has wrong shape\"\n",
    "assert best_model != None, \"Please choose a value between 1 and n \"\n",
    "assert best_model < n, \"The values should be less than n\"\n",
    "assert best_model > 0, \"The values should be more than 0\"\n",
    "print('Sanity checks passed!')\n",
    "\n",
    "### BEGIN HIDDEN TESTS\n",
    "err_train_test = np.zeros([n,1])\n",
    "err_val_test = np.zeros([n,1])\n",
    "for r in range(n):\n",
    "    lin_reg_test = LinearRegression(fit_intercept=False)\n",
    "    lin_reg_test = lin_reg.fit(X_train[:,:(r+1)], y_train)\n",
    "    y_pred_train_test = lin_reg_test.predict(X_train[:,:(r+1)])\n",
    "    err_train_test[r] = mean_squared_error(y_train, y_pred_train_test)\n",
    "    y_pred_val_test = lin_reg_test.predict(X_val[:,:(r+1)])\n",
    "    err_val_test[r] = mean_squared_error(y_val, y_pred_val_test)\n",
    "    \n",
    "np.testing.assert_allclose(err_train_test, err_train, atol=1e-3, err_msg='trainValErrors is not correctly calculating the training_errors')\n",
    "np.testing.assert_allclose(err_val_test, err_val, atol=1e-3, err_msg='trainValErrors is not correctly calculating the training_errors')\n",
    "best_model_test = np.argmin(err_val_test)+1\n",
    "assert best_model == best_model_test, \"The value for the best model based on validation error should be 2\"\n",
    "\n",
    "### END HIDDEN TESTS\n"
   ]
  },
  {
   "cell_type": "code",
   "execution_count": 8,
   "metadata": {
    "nbgrader": {
     "grade": false,
     "grade_id": "cell-64473b41dbc92dfa",
     "locked": true,
     "schema_version": 3,
     "solution": false,
     "task": false
    },
    "scrolled": false
   },
   "outputs": [
    {
     "data": {
      "image/png": "[encoded data removed]",
      "text/plain": [
       "<matplotlib.figure.Figure at 0x1046ccdd8>"
      ]
     },
     "metadata": {},
     "output_type": "display_data"
    },
    {
     "name": "stdout",
     "output_type": "stream",
     "text": [
      "[[0.36765195]\n",
      " [0.21796853]\n",
      " [0.41507308]\n",
      " [0.44818207]]\n"
     ]
    }
   ],
   "source": [
    "# Plot the training and validation errors for the different number of features r\n",
    "\n",
    "plt.plot(range(1, n + 1), err_train, color='black', label=r'$E_{\\rm train}(r)$', marker='o')\n",
    "plt.plot(range(1, n + 1), err_val, color='red', label=r'$E_{\\rm val}(r)$', marker='x')\n",
    "\n",
    "plt.title('Training and validation error for different number of features')\n",
    "plt.ylabel('Empirical error')\n",
    "plt.xlabel('r features')\n",
    "plt.xticks(range(1, n + 1))\n",
    "plt.legend()\n",
    "plt.show()\n",
    "\n",
    "print(err_val[:4])\n"
   ]
  },
  {
   "cell_type": "markdown",
   "metadata": {
    "collapsed": true,
    "nbgrader": {
     "grade": false,
     "grade_id": "cell-a417d9495eb3f40e",
     "locked": true,
     "schema_version": 3,
     "solution": false,
     "task": false
    }
   },
   "source": [
    "## K-fold Cross-Validation\n",
    "\n",
    "In general, there is no unique optimal way of splitting a data set into training and validation set. The precise choice of how to divide data points into training and validation set and also their relative size (80/20, 50/50 ...) has to be considered case-by-case for the application at hand. \n",
    "\n",
    "To get more guidance on how to split the data, one typically needs to have additional knowledge about the statistical properties of the data generating process. Given an accurate probabilistic model for the data points, allows determining optimal split ratios between training and validation set. Probabilistic (generative) models for the observed data points is beyond the scope of this course. \n",
    "\n",
    "Using only a single split of the data into training and validation set bears the risk of being extremely \"unlucky\". The single split might result in a highly non-typical validation set such that the validation error is not reliable as a measure for the average loss on new data. $K$-fold cross-validation is a straightforward extension of the \"single-split approach\" making it more robust. \n",
    "\n",
    "$K$-fold cross-validation randomly splits the data into $K$ equal-sized subsets (\"folds\"). It then executes $K$ rounds, each round corresponding to one of the $K$ folds. In the $k$th round, the $k$th fold is used as validation set and the remaining $K-1$ folds are used as training set. The validation errors obtained during each fold are then averaged to obtain the final validation error. \n",
    "\n",
    "As an example, the diagram of a 5-fold cross-validation is depicted below. For each round, the fold which is used as validation set is indicated by \"test\". \n",
    "\n",
    "![Components](cross_validation_diagram.png)"
   ]
  },
  {
   "cell_type": "markdown",
   "metadata": {
    "nbgrader": {
     "grade": false,
     "grade_id": "cell-13d40bbc019a9337",
     "locked": true,
     "schema_version": 3,
     "solution": false,
     "task": false
    }
   },
   "source": [
    "<a id='kfold'></a>\n",
    "<div class=\" alert alert-info\">\n",
    "    <p><b>Demo.</b> K-Fold Cross Validation.</p>\n",
    "    \n",
    "The code snippet below peforms K-fold cross validation with $K=5$ for linear predictors using $r=2$ features. \n",
    "\n",
    "</div>   "
   ]
  },
  {
   "cell_type": "code",
   "execution_count": 9,
   "metadata": {
    "nbgrader": {
     "grade": false,
     "grade_id": "cell-eb92bc591606de2f",
     "locked": true,
     "schema_version": 3,
     "solution": false,
     "task": false
    }
   },
   "outputs": [
    {
     "name": "stdout",
     "output_type": "stream",
     "text": [
      "Training error (averaged over 5 folds):  0.27420727178433746\n",
      "Validation error (averaged over 5 folds): 0.3834472133921979\n"
     ]
    }
   ],
   "source": [
    "# Import KFold class from scikitlearn library\n",
    "from sklearn.model_selection import KFold\n",
    "\n",
    "K=5    # number of folds/rounds/splits\n",
    "kf = KFold(n_splits=K, shuffle=False)\n",
    "kf = kf.split(X)\n",
    "kf = list(kf)                 # kf is a list representing the rounds of k-fold CV\n",
    "\n",
    "m = 20                        # we use the first m=20 data points from the house sales database \n",
    "n = 10                        # maximum number of features used \n",
    "\n",
    "X,y = GetFeaturesLabels(m,n)  # read in m data points with n features \n",
    "r=2    # we use only first two features for linear predictors h(x) = w^{T}x\n",
    "\n",
    "\n",
    "\n",
    "train_errors_per_cv_iteration = []\n",
    "test_errors_per_cv_iteration = []  \n",
    "\n",
    "# for loop over K rounds \n",
    "        \n",
    "for train_indices, test_indices in kf:\n",
    "        \n",
    "    reg = LinearRegression(fit_intercept=False)\n",
    "    reg = reg.fit(X[train_indices,:(r+1)], y[train_indices])\n",
    "    y_pred_train = reg.predict(X[train_indices,:(r+1)])\n",
    "    train_errors_per_cv_iteration.append(mean_squared_error(y[train_indices], y_pred_train))\n",
    "    y_pred_val = reg.predict(X[test_indices,:(r+1)])\n",
    "    test_errors_per_cv_iteration.append(mean_squared_error(y[test_indices], y_pred_val))\n",
    "            \n",
    "\n",
    "err_train= np.mean(train_errors_per_cv_iteration) # compute the mean of round-wise training errors\n",
    "err_val = np.mean(test_errors_per_cv_iteration)   # compute the mean of round-wise validation errors\n",
    "        \n",
    "print(\"Training error (averaged over 5 folds): \",err_train)\n",
    "print(\"Validation error (averaged over 5 folds):\", err_val)\n"
   ]
  },
  {
   "cell_type": "markdown",
   "metadata": {
    "nbgrader": {
     "grade": false,
     "grade_id": "cell-a451b1c380ed82da",
     "locked": true,
     "schema_version": 3,
     "solution": false,
     "task": false
    }
   },
   "source": [
    "##  Regularization\n",
    "\n",
    "In what follows, we stick to the hypothesis space $\\mathcal{H}^{(n)}$ of linear predictors $h(\\mathbf{x}) = \\mathbf{w}^{T} \\mathbf{x}$ using the maximum number $n$ of features. To find a good predictor function we could try to mininize the training error $E_{\\rm train}$ over some training set $\\mathbb{X}^{(t)}$. However, as discussed above, for large $n$ (i.e., if we have collected a large amount of features for a house) we will easily find a predictor function $h(\\mathbf{x})=\\mathbf{w}^{T} \\mathbf{x}$ such that $E_{\\rm train}$ is small but the predictor function will do poorly on data points different from $\\mathbb{X}^{(t)}$. \n",
    "\n",
    "The idea of regularization is to somehow estimate (or approximate) the increase of the prediction error in new data which is different from the training set. This estimated (or anticipated) increase is represented by adding a **regularization term** to the training error: \n",
    "\\begin{equation}\n",
    "h^{(\\lambda)}_{\\rm opt}  = {\\rm argmin}_{h \\in \\mathcal{H}} \\underbrace{(1/m_{t}) \\sum_{\\big(\\mathbf{x}^{(i)},y^{(i)}\\big) \\in \\mathbb{X}^{(t)}} \\big(y^{(i)} - h(\\mathbf{x}^{(i)}) \\big)^{2}}_{\\mbox{ training error}} + \\underbrace{\\alpha \\mathcal{R}(h)}_{\\mbox{anticipated increase of error (loss) on new data}}.  \n",
    "\\end{equation}\n",
    "\n",
    "\n",
    "The regularization term $\\mathcal{R}(h)$ quantifies the anticipated increase in the validation error (compared to the training error) due to the \"complexity\" (e.g. the number of features used in a linear predictor) of a particular predictor. In a nutshell, the regularization term penalizes the use of more complex predictors and therefore favors \"simpler\" predictor functions. The precise meaning of \"complexity\" or \"simpler\" is determined by the (design) choice for the regularization term $\\mathcal{R}(h)$. \n",
    "\n",
    "Two widely used choices for measuring the complexity of linear predictors $h(\\mathbf{x}) = \\mathbf{w}^{T}\\mathbf{x}$ is the squared Euclidean norm $\\mathcal{R}(h) = \\|\\mathbf{w}\\|^{2}_{2}=\\sum_{r=1}^{n} w_{r}^{2}$ or the $\\ell_{1}$ norm $\\mathcal{R}(h) = \\|\\mathbf{w}\\|_{1}=\\sum_{r=1}^{n} |w_{r}|$. \n",
    "\n",
    "The regularization parameter $\\alpha$ offers a trade off between the prediction error (training error) incurred on the training data and the complexity of a predictor. The larger we choose $\\alpha$, the more emphasis is put on obtaining \"simple\" predictor functions. Using very small values for $\\alpha$ prefers predictor functions which achieve a small training error (at the expense of being a more complicated function). \n",
    "\n",
    "In order to actually implement regularization, we need to \n",
    "- choose (define) the function $\\mathcal{R}(h)$ that quantifies some notion of complexity of a predictor function $h \\in \\mathcal{H}^{(n)}$. \n",
    "- choose the value of the regularization parameter $\\lambda$. \n",
    "\n",
    "These two design choices can be based on validation. More precisely, \n",
    "- we propose a set of different choices for the function $\\mathcal{R}(h)$ and regularization parameter $\\alpha$, \n",
    "- for each choice for $\\alpha$ and $\\mathcal{R}(h)$, we learn a predictor that minimizes the regularized training error \n",
    "\n",
    "\\begin{equation}\n",
    "h^{(\\alpha)}_{\\rm opt}  = {\\rm argmin}_{h \\in \\mathcal{H}} (1/m_{t}) \\sum_{\\big(\\mathbf{x}^{(i)},y^{(i)}\\big) \\in \\mathbb{X}^{(t)}} \\big(y^{(i)} - h(\\mathbf{x}^{(i)}) \\big)^{2} + \\alpha \\mathcal{R}(h).    \n",
    "\\end{equation}\n",
    "- evaluate the resulting predictor $h^{(\\alpha)}_{\\rm opt}$ by computing the validation error\n",
    "\\begin{equation}\n",
    "E_{\\rm val}^{(\\alpha)} = (1/m_{\\rm v}) \\sum_{\\big(\\mathbf{x}^{(i)},y^{(i)}\\big) \\in \\mathbb{X}^{(v)}} \\big(y^{(i)} - h^{(\\alpha)}_{\\rm opt}(\\mathbf{x}^{(i)})\\big)^{2}.\n",
    "\\end{equation} \n",
    "\n",
    "We then use the regularization measure $\\mathcal{R}(h)$ and the value for $\\alpha$ with smallest validation error $E_{\\rm val}^{(\\alpha)}$. "
   ]
  },
  {
   "cell_type": "markdown",
   "metadata": {
    "nbgrader": {
     "grade": false,
     "grade_id": "cell-a697f48e6cf7e933",
     "locked": true,
     "schema_version": 3,
     "solution": false,
     "task": false
    }
   },
   "source": [
    "<a id='ridgeReg'></a>\n",
    "<div class=\" alert alert-info\">\n",
    "    <p><b>Demo.</b> Ridge Regression. </p>\n",
    "\n",
    "Ridge regression is obtained by linear regression, using linear predictor functions $h^{(\\mathbf{w})}(\\mathbf{x}) =\\mathbf{w}^{T} \\mathbf{x}$, with the regularization term $\\mathcal{R}(h)=\\|\\mathbf{w}\\|_{2}^{2}$. The optimal weight vector $\\mathbf{w}_{\\rm opt}$ can be found using the Python function `Ridge.fit()`. \n",
    "\n",
    "[see documentation](https://scikit-learn.org/stable/modules/generated/sklearn.linear_model.Ridge.html)\n",
    "\n",
    "</div>  "
   ]
  },
  {
   "cell_type": "code",
   "execution_count": 10,
   "metadata": {
    "nbgrader": {
     "grade": false,
     "grade_id": "cell-ef05953e6a07a985",
     "locked": true,
     "schema_version": 3,
     "solution": false,
     "task": false
    }
   },
   "outputs": [
    {
     "name": "stdout",
     "output_type": "stream",
     "text": [
      "Optimal weights: \n",
      " [[ 0.24110883 -0.22076067 -0.12888964  0.02009444 -0.04235676 -0.01655399\n",
      "  -0.03795704 -0.00459253 -0.01375981 -0.02381325]]\n",
      "Training error: \n",
      " 0.3694434471547521\n"
     ]
    }
   ],
   "source": [
    "from sklearn.linear_model import Ridge\n",
    "alpha_scaled = 2*n \n",
    "\n",
    "ridge = Ridge(alpha=alpha_scaled, fit_intercept=True)\n",
    "ridge.fit(X_train, y_train)\n",
    "y_pred = ridge.predict(X_train)\n",
    "w_opt = ridge.coef_\n",
    "err_train = mean_squared_error(y_pred, y_train)\n",
    "\n",
    "# Print optimal weights and training error\n",
    "print('Optimal weights: \\n', w_opt)\n",
    "print('Training error: \\n', err_train)"
   ]
  },
  {
   "cell_type": "markdown",
   "metadata": {
    "nbgrader": {
     "grade": false,
     "grade_id": "cell-b63b8bd46646688d",
     "locked": true,
     "schema_version": 3,
     "solution": false,
     "task": false
    }
   },
   "source": [
    "<a id='lassoReg'></a>\n",
    "<div class=\" alert alert-warning\">\n",
    "    <b>Student Task.</b> Lasso Regression.\n",
    "\n",
    "The Lasso estimator is obtained by regularizing the training error of linear predictors $h(\\mathbf{x}) = \\mathbf{w}^{T} \\mathbf{x}$ with the complexity measure $\\mathcal{R}(h)= \\|\\mathbf{w}\\|_{1}$. Use the Python function `Lasso.fit()` to compute the optimal predictor for $\\alpha=1$. \n",
    "\n",
    "Note that the Python function uses a different scaling of the training error ($1/(2m_{t})$ instead of $1/m_{t}$). Make sure you transform the value $\\alpha$ so that the Python function solves the regularized problem  \n",
    "\\begin{equation}\n",
    "h^{(\\alpha)}_{\\rm opt}  = {\\rm argmin}_{h \\in \\mathcal{H}} (1/m_{t}) \\sum_{\\big(\\mathbf{x}^{(i)},y^{(i)}\\big) \\in \\mathbb{X}^{(t)}} \\big(y^{(i)} - h(\\mathbf{x}^{(i)}) \\big)^{2} + \\alpha \\mathcal{R}(h).    \n",
    "\\end{equation}\n",
    "\n",
    "[documentation](https://scikit-learn.org/stable/modules/generated/sklearn.linear_model.Lasso.html)\n",
    "\n",
    "</div>"
   ]
  },
  {
   "cell_type": "code",
   "execution_count": 24,
   "metadata": {
    "nbgrader": {
     "grade": false,
     "grade_id": "cell-b6cd24ae92c6b545",
     "locked": false,
     "schema_version": 3,
     "solution": true,
     "task": false
    }
   },
   "outputs": [
    {
     "name": "stdout",
     "output_type": "stream",
     "text": [
      "Optimal weights: \n",
      " [ 0.10085404 -0.13397314 -0.         -0.         -0.         -0.\n",
      "  0.         -0.         -0.         -0.        ]\n",
      "Training error: \n",
      " 0.64205177534816\n"
     ]
    }
   ],
   "source": [
    "from sklearn.linear_model import Lasso\n",
    "\n",
    "\n",
    "X,y = GetFeaturesLabels(m,n)  # read in m data points using n features \n",
    "X_train, X_val, y_train, y_val = train_test_split(X, y, test_size=0.2, random_state=2) # 80% training and 20% test\n",
    "alpha_val = 1\n",
    "\n",
    "# .\n",
    "# .\n",
    "# .\n",
    "# w_opt = ...\n",
    "# training_error = ...\n",
    "### BEGIN SOLUTION\n",
    "lasso = Lasso(alpha=alpha_val/2, fit_intercept=False)\n",
    "lasso.fit(X_train, y_train)\n",
    "y_pred = lasso.predict(X_train)\n",
    "w_opt = lasso.coef_\n",
    "training_error = mean_squared_error(y_pred, y_train)\n",
    "### END SOLUTION \n",
    "\n",
    "# Print optimal weights and the corresponding training error\n",
    "print('Optimal weights: \\n', w_opt)\n",
    "print('Training error: \\n', training_error)"
   ]
  },
  {
   "cell_type": "code",
   "execution_count": 12,
   "metadata": {
    "nbgrader": {
     "grade": true,
     "grade_id": "cell-44c7f2c09ba11e52",
     "locked": true,
     "points": 3,
     "schema_version": 3,
     "solution": false,
     "task": false
    }
   },
   "outputs": [
    {
     "name": "stdout",
     "output_type": "stream",
     "text": [
      "Sanity check tests passed!\n"
     ]
    }
   ],
   "source": [
    "# Perform some sanity checks on the outputs\n",
    "assert w_opt.shape == (10,), \"'w_opt' has wrong shape\"\n",
    "assert np.isscalar(training_error), \"'training_error' is not scalar\"\n",
    "print('Sanity check tests passed!')\n",
    "\n",
    "### BEGIN HIDDEN TESTS\n",
    "def t_fitLasso(x_train, y_train, lambd=0):\n",
    "    lasso = Lasso(alpha=lambd/2, fit_intercept=False)\n",
    "    lasso.fit(X_train, y_train)\n",
    "    y_pred = lasso.predict(X_train)\n",
    "    w_opt = lasso.coef_\n",
    "    training_error = mean_squared_error(y_pred, y_train)\n",
    "    return w_opt, training_error\n",
    "\n",
    "t_w_opt, t_training_error = t_fitLasso(X_train, y_train, lambd=1)\n",
    "\n",
    "np.testing.assert_allclose(t_w_opt, w_opt, rtol=1e-10, atol=0)\n",
    "np.testing.assert_almost_equal(t_training_error, training_error)\n",
    "### END HIDDEN TESTS"
   ]
  },
  {
   "cell_type": "markdown",
   "metadata": {
    "nbgrader": {
     "grade": false,
     "grade_id": "cell-1355f27ba4fd6ca5",
     "locked": true,
     "schema_version": 3,
     "solution": false,
     "task": false
    }
   },
   "source": [
    "When using Lasso or ridge regression, we need to find a suitable value for the regularization parameter $\\alpha$. A simple but useful approach is **grid search**: We first specify a list of values to be used for the regularization parameter. For each value $\\alpha$, we determine a predictor $h^{(\\alpha)}$ by minimizing the regularized training error: \n",
    "\\begin{equation}\n",
    "h^{(\\alpha)}  = {\\rm argmin}_{h \\in \\mathcal{H}} (1/m_{t}) \\sum_{\\big(\\mathbf{x}^{(i)},y^{(i)}\\big) \\in \\mathbb{X}^{(t)}} \\big(y^{(i)} - h(\\mathbf{x}^{(i)}) \\big)^{2} + \\alpha \\mathcal{R}(h).    \n",
    "\\end{equation}\n",
    "The resulting training error is \n",
    "\\begin{equation} \n",
    "E_{\\rm train}(\\alpha) = (1/m_{t}) \\sum_{\\big(\\mathbf{x}^{(i)},y^{(i)}\\big) \\in \\mathbb{X}^{(t)}} \\big(y^{(i)} - h^{(\\alpha)}(\\mathbf{x}^{(i)}) \\big)^{2}. \n",
    "\\end{equation}\n",
    "Note that the training error $E_{\\rm train}(\\alpha)$ is measured on the training data $\\mathbb{X}^{t}$ which was also used to tune the predictor $h^{(\\alpha)}$ (in the above opimtization problem). Therefore, $E_{\\rm train}(\\alpha)$ is too optimistic as a measure for the average error of $h^{(\\alpha)}$ on new data points. Instead, we will measure the quality of $h^{(\\alpha)}$ via the validation error  \n",
    "\\begin{equation} \n",
    "E_{\\rm val}(\\alpha) = (1/m_{v}) \\sum_{\\big(\\mathbf{x}^{(i)},y^{(i)}\\big) \\in \\mathbb{X}^{(v)}} \\big(y^{(i)} - h^{(\\alpha)}(\\mathbf{x}^{(i)}) \\big)^{2} \n",
    "\\end{equation}\n",
    "incurred by the predictor $h^{(\\alpha)}$ on the validation set $\\mathbb{X}^{(v)}$. We then choose the value $\\alpha$ resulting in the smallest validation error $E_{\\rm val}(\\alpha)$. This grid search can be computationally expensive since we have to solve a separate optimization problem (of minimizing the regularized training error) for each value of $\\alpha$. "
   ]
  },
  {
   "cell_type": "markdown",
   "metadata": {
    "nbgrader": {
     "grade": false,
     "grade_id": "cell-8e4d019532f4bff3",
     "locked": true,
     "schema_version": 3,
     "solution": false,
     "task": false
    }
   },
   "source": [
    "<a id='lassoParameter'></a>\n",
    "<div class=\" alert alert-warning\">\n",
    "    <b>Student Task.</b> Tuning Lasso Parameter.\n",
    "    \n",
    "Compute the Lasso estimator $h^{(\\alpha)}$ for each value $\\alpha$ from the list $\\alpha^{(1)},\\ldots,\\alpha^{(9)}$ defined in the code snippet below (numpy array `alpha_values`). Store the resulting validation errors $E_{\\rm val}(\\alpha^{(i)})$ and training errors $E_{\\rm train}(\\alpha^{(i)})$ in the numpy array `err_val` of shape (9,1) and `err_train` of shape (9,1). The first entry `err_val[0]` should be $E_{\\rm val}(\\alpha^{(1)})$, and so on. For the optimal choice $\\alpha^{(i)}$ (yielding smallest validation error), store the weight vector of the optimal predictor in the numpy array `w_opt` of shape (n,1). \n",
    "\n",
    "[scikit-learn function for Lasso](https://scikit-learn.org/stable/modules/generated/sklearn.linear_model.Lasso.html) \n",
    "\n",
    "Hint: Note that the input parameter `alpha` of the Python function `Lasso.fit()` is $\\alpha/2$ with $\\alpha$ being the regularization parameter in the optimization problem above.   \n",
    "\n",
    "</div>"
   ]
  },
  {
   "cell_type": "code",
   "execution_count": 13,
   "metadata": {
    "nbgrader": {
     "grade": false,
     "grade_id": "cell-ef618671a3220a4f",
     "locked": false,
     "schema_version": 3,
     "solution": true,
     "task": false
    }
   },
   "outputs": [],
   "source": [
    "# Specify a list of values for lambda to be considered\n",
    "alpha_values = np.array([0.0001, 0.001, 0.01, 0.05, 0.2, 1, 3, 10, 10e3])\n",
    "nr_values = len(alpha_values)\n",
    "err_val = np.zeros([nr_values,1])\n",
    "err_train = np.zeros([nr_values,1])\n",
    "### STUDENT TASK ###\n",
    "### BEGIN SOLUTION\n",
    "for l in range(nr_values):\n",
    "    lasso = Lasso(alpha=alpha_values[l]/2, fit_intercept=False)\n",
    "    lasso = lasso.fit(X_train, y_train)\n",
    "    y_train_pred = lasso.predict(X_train)\n",
    "    err_train[l] = mean_squared_error(y_train_pred, y_train)\n",
    "    y_val_pred = lasso.predict(X_val)\n",
    "    err_val[l]=mean_squared_error(y_val_pred, y_val)\n",
    "    \n",
    "best_alpha_idx=np.argmin(err_val)\n",
    "lasso = Lasso(alpha=alpha_values[best_alpha_idx]/2, fit_intercept=False)\n",
    "lasso = lasso.fit(X_train, y_train)\n",
    "w_opt = lasso.coef_\n",
    "w_opt = w_opt.reshape(-1,1)\n",
    "### END SOLUTION"
   ]
  },
  {
   "cell_type": "code",
   "execution_count": 14,
   "metadata": {
    "nbgrader": {
     "grade": true,
     "grade_id": "cell-b3b01a65b2b8c214",
     "locked": true,
     "points": 3,
     "schema_version": 3,
     "solution": false,
     "task": false
    }
   },
   "outputs": [
    {
     "name": "stdout",
     "output_type": "stream",
     "text": [
      "Sanity check tests passed!\n"
     ]
    }
   ],
   "source": [
    "# Perform some sanity checks on the outputs\n",
    "assert len(w_opt) == 10, \"'w_opts' has wrong shape\"\n",
    "assert len(err_train) == 9, \"'w_opts' has wrong shape\"\n",
    "assert len(err_val) == 9, \"'w_opts' has wrong shape\"\n",
    "print('Sanity check tests passed!')\n",
    "\n",
    "\n",
    "\n",
    "### BEGIN HIDDEN TESTS\n",
    "t_err_val = np.zeros([nr_values,1])\n",
    "t_err_train = np.zeros([nr_values,1])\n",
    "for l in range(nr_values):\n",
    "    lasso = Lasso(alpha=alpha_values[l]/2, fit_intercept=False)\n",
    "    lasso = lasso.fit(X_train, y_train)\n",
    "    y_train_pred = lasso.predict(X_train)\n",
    "    t_err_train[l] = mean_squared_error(y_train_pred, y_train)\n",
    "    y_val_pred = lasso.predict(X_val)\n",
    "    t_err_val[l]=mean_squared_error(y_val_pred, y_val)\n",
    "\n",
    "best_alpha_idx=np.argmin(err_val)\n",
    "lasso = Lasso(alpha=alpha_values[best_alpha_idx]/2, fit_intercept=False)\n",
    "lasso = lasso.fit(X_train, y_train)\n",
    "t_w_opt = lasso.coef_\n",
    "t_w_opt = w_opt.reshape(-1,1)\n",
    "    \n",
    "np.testing.assert_allclose(t_w_opt, w_opt, rtol=1e-10, atol=0)\n",
    "np.testing.assert_allclose(t_err_val, err_val, rtol=1e-10, atol=0)\n",
    "np.testing.assert_allclose(t_err_train, err_train, rtol=1e-10, atol=0)\n",
    "### END HIDDEN TESTS\n"
   ]
  },
  {
   "cell_type": "code",
   "execution_count": 15,
   "metadata": {
    "nbgrader": {
     "grade": false,
     "grade_id": "cell-535f1b0a4667461c",
     "locked": true,
     "schema_version": 3,
     "solution": false,
     "task": false
    }
   },
   "outputs": [
    {
     "data": {
      "image/png": "[encoded data removed]",
      "text/plain": [
       "<matplotlib.figure.Figure at 0x124556438>"
      ]
     },
     "metadata": {},
     "output_type": "display_data"
    }
   ],
   "source": [
    "\n",
    "# Plot the training and validation errors\n",
    "plt.plot(alpha_values, err_train, marker='o', label='training error')\n",
    "plt.plot(alpha_values, err_val, marker='o', label='validation error')\n",
    "plt.xscale('log')\n",
    "plt.xlabel(r'$\\alpha$')\n",
    "plt.ylabel(r'$E(\\alpha)$')\n",
    "plt.legend()\n",
    "plt.show()"
   ]
  },
  {
   "cell_type": "markdown",
   "metadata": {
    "nbgrader": {
     "grade": false,
     "grade_id": "cell-25e8202490edf5af",
     "locked": true,
     "schema_version": 3,
     "solution": false,
     "task": false
    }
   },
   "source": [
    "## Take Home Quiz\n",
    "\n",
    "Answer the following questions by setting, for each question, the variable `answer_R4_Q??` to the index of the correct answer. E.g. if you think that the second answer in the first quiz question is the right one, then set `answer_R4_Q1=2`. "
   ]
  },
  {
   "cell_type": "markdown",
   "metadata": {
    "nbgrader": {
     "grade": false,
     "grade_id": "cell-30fe04a19dab009c",
     "locked": true,
     "schema_version": 3,
     "solution": false,
     "task": false
    }
   },
   "source": [
    "<a id='QuestionR4_1'></a>\n",
    "<div class=\" alert alert-warning\">\n",
    "    <p><b>Student Task.</b> Question R4.1. </p>\n",
    "\n",
    " <p>What is the goal of model selection in machine learning?</p>\n",
    "\n",
    "<ol>\n",
    "  <li> To choose (learn) the optimal predictor function $h_{\\rm opt}$ out of a given hypothesis space (model) $\\mathcal{H}$.</li>\n",
    "  <li> To select the most suitable car model using machine learning methods.</li>\n",
    "  <li> To select the optimal weights used for regularization.</li>\n",
    "  <li> To select the best hypothesis space out of a set of candidates $\\lbrace \\mathcal{H}^{(1)}, \\mathcal{H}^{(2)}, \\ldots,\\mathcal{H}^{(n)} \\rbrace$.</li>\n",
    "</ol> \n",
    "\n",
    "</div>"
   ]
  },
  {
   "cell_type": "code",
   "execution_count": 16,
   "metadata": {
    "nbgrader": {
     "grade": false,
     "grade_id": "cell-01dd62184f9f57d9",
     "locked": false,
     "schema_version": 1,
     "solution": true,
     "task": false
    }
   },
   "outputs": [],
   "source": [
    "# answer_R4_Q1  = ...\n",
    "### BEGIN SOLUTION\n",
    "answer_R4_Q1 = 4\n",
    "### END SOLUTION"
   ]
  },
  {
   "cell_type": "code",
   "execution_count": 17,
   "metadata": {
    "nbgrader": {
     "grade": true,
     "grade_id": "cell-b0c15dcdd6f57af7",
     "locked": true,
     "points": 1,
     "schema_version": 1,
     "solution": false
    }
   },
   "outputs": [
    {
     "name": "stdout",
     "output_type": "stream",
     "text": [
      "Sanity check tests passed!\n"
     ]
    }
   ],
   "source": [
    "# this cell is for tests\n",
    "assert answer_R4_Q1 in [1,2,3,4], '\"answer_R4_Q1\" Value should be an integer between 1 and 4.'\n",
    "print('Sanity check tests passed!')\n",
    "\n",
    "### BEGIN HIDDEN TESTS\n",
    "assert answer_R4_Q1 in [1,2,3,4], '\"answer_R4_Q1\" Value should be an integer between 1 and 4.'\n",
    "assert answer_R4_Q1 == 4, ' \"answer_R4_Q1\" Correct answer is 4.'\n",
    "### END HIDDEN TESTS"
   ]
  },
  {
   "cell_type": "markdown",
   "metadata": {
    "nbgrader": {
     "grade": false,
     "grade_id": "cell-2d849c30b77c3a9d",
     "locked": true,
     "schema_version": 3,
     "solution": false,
     "task": false
    }
   },
   "source": [
    "<a id='QuestionR4_2'></a>\n",
    "<div class=\" alert alert-warning\">\n",
    "    <p><b>Student Task.</b> Question R4.2. </p>\n",
    "\n",
    " <p>What is a good measure for the prediction error (loss) incurred by a predictor function $h(\\mathbf{x})$ on new data points?</p>\n",
    "<ol>\n",
    "  <li> The empirical error (average loss) of $h(\\mathbf{x})$ on the <b>training set</b> which is also used to tune $h(\\mathbf{x})$. </li>\n",
    "  <li> The empirical error (average loss) of $h(\\mathbf{x})$ on some <b>validation set</b> which is different from the training set. \n",
    "</ol> \n",
    "\n",
    "</div>"
   ]
  },
  {
   "cell_type": "code",
   "execution_count": 18,
   "metadata": {
    "nbgrader": {
     "grade": false,
     "grade_id": "cell-786b53bfbed054d1",
     "locked": false,
     "schema_version": 1,
     "solution": true,
     "task": false
    }
   },
   "outputs": [],
   "source": [
    "# answer_R4_Q2  = ...\n",
    "### BEGIN SOLUTION\n",
    "answer_R4_Q2 = 2\n",
    "### END SOLUTION"
   ]
  },
  {
   "cell_type": "code",
   "execution_count": 19,
   "metadata": {
    "nbgrader": {
     "grade": true,
     "grade_id": "cell-fcd79fc73255e27d",
     "locked": true,
     "points": 1,
     "schema_version": 1,
     "solution": false
    }
   },
   "outputs": [
    {
     "name": "stdout",
     "output_type": "stream",
     "text": [
      "Sanity check tests passed!\n"
     ]
    }
   ],
   "source": [
    "# this cell is for tests\n",
    "assert answer_R4_Q2 in [1,2], '\"answer_R4_Q2\" Value should be an integer between 1 and 2.'\n",
    "print('Sanity check tests passed!')\n",
    "\n",
    "### BEGIN HIDDEN TESTS\n",
    "assert answer_R4_Q2 in [1,2], '\"answer_R4_Q2\" Value should be an integer between 1 and 2.'\n",
    "assert answer_R4_Q2 == 2, ' \"answer_R4_Q2\" Correct answer is 2.'\n",
    "### END HIDDEN TESTS"
   ]
  },
  {
   "cell_type": "markdown",
   "metadata": {
    "nbgrader": {
     "grade": false,
     "grade_id": "cell-e89debc2a73facf2",
     "locked": true,
     "schema_version": 3,
     "solution": false,
     "task": false
    }
   },
   "source": [
    "<a id='QuestionR4_3'></a>\n",
    "<div class=\" alert alert-warning\">\n",
    "    <p><b>Student Task.</b> Question R4.3. </p>\n",
    "\n",
    "Regularized linear regression amounts to finding the predictor $h(\\mathbf{x})$ which minimizes the regularized training error \n",
    "\\begin{equation} \n",
    "(1/m_{t}) \\sum_{\\big(\\mathbf{x}^{(i)},y^{(i)}\\big) \\in \\mathbb{X}^{(t)}} \\big(y^{(i)} - h(\\mathbf{x}^{(i)}) \\big)^{2} + \\alpha \\mathcal{R}(h).\n",
    "\\end{equation}\n",
    "Which statement is true?\n",
    "\n",
    "<ol>\n",
    "  <li> Using a large value for the regularization parameter $\\alpha$ prefers predictors with large complexity $\\mathcal{R}(h)$ but small training error.</li>\n",
    "  <li>  Using a small value for the regularization parameter $\\alpha$ prefers predictors with large complexity $\\mathcal{R}(h)$ but small training error.</li>\n",
    "  <li> For regularization parameter $\\alpha=0$, the optimal predictor is always $h(\\mathbf{x}) =0$. </li>\n",
    "  <li> For regularization parameter $\\alpha=0$, the optimal predictor is always $h(\\mathbf{x}) =42$.</li>\n",
    "</ol> \n",
    "\n",
    "</div>"
   ]
  },
  {
   "cell_type": "code",
   "execution_count": 20,
   "metadata": {
    "nbgrader": {
     "grade": false,
     "grade_id": "cell-8a7f812f9a71b8f3",
     "locked": false,
     "schema_version": 1,
     "solution": true,
     "task": false
    }
   },
   "outputs": [],
   "source": [
    "# answer_R4_Q3  = ...\n",
    "### BEGIN SOLUTION\n",
    "answer_R4_Q3 = 2\n",
    "### END SOLUTION"
   ]
  },
  {
   "cell_type": "code",
   "execution_count": 21,
   "metadata": {
    "nbgrader": {
     "grade": true,
     "grade_id": "cell-530e6746dd4af06c",
     "locked": true,
     "points": 1,
     "schema_version": 1,
     "solution": false
    }
   },
   "outputs": [
    {
     "name": "stdout",
     "output_type": "stream",
     "text": [
      "Sanity check tests passed!\n"
     ]
    }
   ],
   "source": [
    "# this cell is for tests\n",
    "assert answer_R4_Q3 in [1,2,3,4], '\"answer_R4_Q3\" Value should be an integer between 1 and 4.'\n",
    "print('Sanity check tests passed!')\n",
    "\n",
    "### BEGIN HIDDEN TESTS\n",
    "assert answer_R4_Q3 in [1,2,3,4], '\"answer_R4_Q3\" Value should be an integer between 1 and 4.'\n",
    "assert answer_R4_Q3 == 2, ' \"answer_R4_Q3\" Correct answer is 2.'\n",
    "### END HIDDEN TESTS"
   ]
  }
 ],
 "metadata": {
  "celltoolbar": "Create Assignment",
  "kernelspec": {
   "display_name": "Python 3",
   "language": "python",
   "name": "python3"
  },
  "language_info": {
   "codemirror_mode": {
    "name": "ipython",
    "version": 3
   },
   "file_extension": ".py",
   "mimetype": "text/x-python",
   "name": "python",
   "nbconvert_exporter": "python",
   "pygments_lexer": "ipython3",
   "version": "3.7.4"
  },
  "varInspector": {
   "cols": {
    "lenName": 16,
    "lenType": 16,
    "lenVar": 40
   },
   "kernels_config": {
    "python": {
     "delete_cmd_postfix": "",
     "delete_cmd_prefix": "del ",
     "library": "var_list.py",
     "varRefreshCmd": "print(var_dic_list())"
    },
    "r": {
     "delete_cmd_postfix": ") ",
     "delete_cmd_prefix": "rm(",
     "library": "var_list.r",
     "varRefreshCmd": "cat(var_dic_list()) "
    }
   },
   "types_to_exclude": [
    "module",
    "function",
    "builtin_function_or_method",
    "instance",
    "_Feature"
   ],
   "window_display": false
  }
 },
 "nbformat": 4,
 "nbformat_minor": 2
}
